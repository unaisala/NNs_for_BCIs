{
  "nbformat": 4,
  "nbformat_minor": 0,
  "metadata": {
    "colab": {
      "provenance": [],
      "gpuType": "T4"
    },
    "kernelspec": {
      "name": "python3",
      "display_name": "Python 3"
    },
    "language_info": {
      "name": "python"
    },
    "accelerator": "GPU"
  },
  "cells": [
    {
      "cell_type": "code",
      "source": [
        "from google.colab import drive\n",
        "drive.mount('/content/drive')"
      ],
      "metadata": {
        "colab": {
          "base_uri": "https://localhost:8080/"
        },
        "id": "DTsllWI_6l6f",
        "outputId": "1c5ba1ef-7cf7-4a62-9ee1-e871a3d9fef7"
      },
      "execution_count": null,
      "outputs": [
        {
          "output_type": "stream",
          "name": "stdout",
          "text": [
            "Mounted at /content/drive\n"
          ]
        }
      ]
    },
    {
      "cell_type": "code",
      "source": [
        "import torch\n",
        "import torch.optim as optim\n",
        "from torch.utils.data import DataLoader\n",
        "import pandas as pd\n",
        "import torch\n",
        "from torch.utils.data import Dataset, TensorDataset\n",
        "from sklearn.preprocessing import StandardScaler\n",
        "import torch.nn as nn\n",
        "import torch.utils.data as data_utils"
      ],
      "metadata": {
        "id": "bfboXteJ4g8d"
      },
      "execution_count": null,
      "outputs": []
    },
    {
      "cell_type": "markdown",
      "source": [
        "CONVERTIR LOS DATOS DE ENTRADA"
      ],
      "metadata": {
        "id": "HfCHYQsXk9OT"
      }
    },
    {
      "cell_type": "code",
      "source": [
        "#ir añadiendo vuestros paths\n",
        "#PATHS DIEGO\n",
        "\n",
        "#subject1 training EEG\n",
        "X_train_s1_1_EEG = '/content/drive/MyDrive/DIEGO UNI/3ro/AARN/PROYECTO_AARN/BCI_data/subject1/train/train_subject1_raw01.csv'\n",
        "X_train_s1_2_EEG = '/content/drive/MyDrive/DIEGO UNI/3ro/AARN/PROYECTO_AARN/BCI_data/subject1/train/train_subject1_raw02.csv'\n",
        "X_train_s1_3_EEG = '/content/drive/MyDrive/DIEGO UNI/3ro/AARN/PROYECTO_AARN/BCI_data/subject1/train/train_subject1_raw03.csv'\n",
        "\n",
        "#subject2 training EEG\n",
        "X_train_s2_1_EEG = '/content/drive/MyDrive/DIEGO UNI/3ro/AARN/PROYECTO_AARN/BCI_data/subject2/train/train_subject2_raw01.csv'\n",
        "X_train_s2_2_EEG = '/content/drive/MyDrive/DIEGO UNI/3ro/AARN/PROYECTO_AARN/BCI_data/subject2/train/train_subject2_raw02.csv'\n",
        "X_train_s2_3_EEG = '/content/drive/MyDrive/DIEGO UNI/3ro/AARN/PROYECTO_AARN/BCI_data/subject2/train/train_subject2_raw03.csv'\n",
        "\n",
        "#subject3 training EEG\n",
        "X_train_s3_1_EEG = '/content/drive/MyDrive/DIEGO UNI/3ro/AARN/PROYECTO_AARN/BCI_data/subject3/train/train_subject3_raw01.csv'\n",
        "X_train_s3_2_EEG = '/content/drive/MyDrive/DIEGO UNI/3ro/AARN/PROYECTO_AARN/BCI_data/subject3/train/train_subject3_raw02.csv'\n",
        "X_train_s3_3_EEG = '/content/drive/MyDrive/DIEGO UNI/3ro/AARN/PROYECTO_AARN/BCI_data/subject3/train/train_subject3_raw03.csv'\n",
        "\n",
        "#subject1 training P\n",
        "X_train_s1_1_P = '/content/drive/MyDrive/DIEGO UNI/3ro/AARN/PROYECTO_AARN/BCI_data/data_psd/train/train_subject1_psd01.csv'\n",
        "X_train_s1_2_P = '/content/drive/MyDrive/DIEGO UNI/3ro/AARN/PROYECTO_AARN/BCI_data/data_psd/train/train_subject1_psd02.csv'\n",
        "X_train_s1_3_P = '/content/drive/MyDrive/DIEGO UNI/3ro/AARN/PROYECTO_AARN/BCI_data/data_psd/train/train_subject1_psd03.csv'\n",
        "\n",
        "#subject2 training P\n",
        "X_train_s2_1_P = '/content/drive/MyDrive/DIEGO UNI/3ro/AARN/PROYECTO_AARN/BCI_data/data_psd/train/train_subject2_psd01.csv'\n",
        "X_train_s2_2_P = '/content/drive/MyDrive/DIEGO UNI/3ro/AARN/PROYECTO_AARN/BCI_data/data_psd/train/train_subject2_psd02.csv'\n",
        "X_train_s2_3_P = '/content/drive/MyDrive/DIEGO UNI/3ro/AARN/PROYECTO_AARN/BCI_data/data_psd/train/train_subject2_psd03.csv'\n",
        "\n",
        "#subject3 training P\n",
        "X_train_s3_1_P = '/content/drive/MyDrive/DIEGO UNI/3ro/AARN/PROYECTO_AARN/BCI_data/data_psd/train/train_subject3_psd01.csv'\n",
        "X_train_s3_2_P = '/content/drive/MyDrive/DIEGO UNI/3ro/AARN/PROYECTO_AARN/BCI_data/data_psd/train/train_subject3_psd02.csv'\n",
        "X_train_s3_3_P = '/content/drive/MyDrive/DIEGO UNI/3ro/AARN/PROYECTO_AARN/BCI_data/data_psd/train/train_subject3_psd03.csv'\n",
        "\n"
      ],
      "metadata": {
        "id": "3epjvtKtyDUp"
      },
      "execution_count": null,
      "outputs": []
    },
    {
      "cell_type": "code",
      "source": [
        "#PATHS UNAI\n",
        "\n",
        "general = '/content/drive/MyDrive/Colab Notebooks/AARN/BCI_data/'\n",
        "\n",
        "#subject1 training\n",
        "X_train_s1_1_EEG = general + 'subject1/train/train_subject1_raw01.csv'\n",
        "X_train_s1_2_EEG = general + 'subject1/train/train_subject1_raw02.csv'\n",
        "X_train_s1_3_EEG = general + 'subject1/train/train_subject1_raw03.csv'\n",
        "\n",
        "#subject2 training\n",
        "X_train_s2_1_EEG = general + 'subject2/train/train_subject2_raw01.csv'\n",
        "X_train_s2_2_EEG = general + 'subject2/train/train_subject2_raw02.csv'\n",
        "X_train_s2_3_EEG = general + 'subject2/train/train_subject2_raw03.csv'\n",
        "\n",
        "#subject3 training\n",
        "X_train_s3_1_EEG = general + 'subject3/train/train_subject3_raw01.csv'\n",
        "X_train_s3_2_EEG = general + 'subject3/train/train_subject3_raw02.csv'\n",
        "X_train_s3_3_EEG = general + 'subject3/train/train_subject3_raw03.csv'\n",
        "\n",
        "#subject1 training P\n",
        "X_train_s1_1_P = general + 'data_psd/train/train_subject1_psd01.csv'\n",
        "X_train_s1_2_P = general + 'data_psd/train/train_subject1_psd02.csv'\n",
        "X_train_s1_3_P = general + 'data_psd/train/train_subject1_psd03.csv'\n",
        "\n",
        "#subject2 training P\n",
        "X_train_s2_1_P = general + 'data_psd/train/train_subject2_psd01.csv'\n",
        "X_train_s2_2_P = general + 'data_psd/train/train_subject2_psd02.csv'\n",
        "X_train_s2_3_P = general + 'data_psd/train/train_subject2_psd03.csv'\n",
        "\n",
        "#subject3 training P\n",
        "X_train_s3_1_P = general + 'data_psd/train/train_subject3_psd01.csv'\n",
        "X_train_s3_2_P = general + 'data_psd/train/train_subject3_psd02.csv'\n",
        "X_train_s3_3_P = general + 'data_psd/train/train_subject3_psd03.csv'\n",
        "\n",
        "#subject 1 test\n",
        "X_test_s1 = general + 'subject1/test/test_subject1_raw04.csv'\n",
        "labels_s1 = general + 'subject1/test/labels1.csv'\n",
        "\n",
        "#subject 2 test\n",
        "X_test_s2 = general + 'subject2/test/test_subject2_raw04.csv'\n",
        "labels_s2 = general + 'subject2/test/labels2.csv'\n",
        "\n",
        "#subject 3 test\n",
        "X_test_s3 = general + 'subject3/test/test_subject3_raw04.csv'\n",
        "labels_s3 = general + 'subject3/test/labels3.csv'"
      ],
      "metadata": {
        "id": "SBZcWkCDzrBp"
      },
      "execution_count": null,
      "outputs": []
    },
    {
      "cell_type": "code",
      "source": [
        "#PATHS IKER\n",
        "\n",
        "#subject1 training EEG\n",
        "\n",
        "X_train_s1_1_EEG = '/content/drive/MyDrive/IA/TERCERO/ARN/PROYECTO/SUBJECT1/train_subject1_raw01.csv'\n",
        "X_train_s1_2_EEG = '/content/drive/MyDrive/IA/TERCERO/ARN/PROYECTO/SUBJECT1/train_subject1_raw02.csv'\n",
        "X_train_s1_3_EEG = '/content/drive/MyDrive/IA/TERCERO/ARN/PROYECTO/SUBJECT1/train_subject1_raw03.csv'\n",
        "\n",
        "#subject2 training EEG\n",
        "X_train_s2_1_EEG = '/content/drive/MyDrive/IA/TERCERO/ARN/PROYECTO/SUBJECT2/train_subject2_raw01.csv'\n",
        "X_train_s2_2_EEG = '/content/drive/MyDrive/IA/TERCERO/ARN/PROYECTO/SUBJECT2/train_subject2_raw02.csv'\n",
        "X_train_s2_3_EEG = '/content/drive/MyDrive/IA/TERCERO/ARN/PROYECTO/SUBJECT2/train_subject2_raw03.csv'\n",
        "\n",
        "#subject3 training EEG\n",
        "X_train_s3_1_EEG = '/content/drive/MyDrive/IA/TERCERO/ARN/PROYECTO/SUBJECT3/train_subject3_raw01.csv'\n",
        "X_train_s3_2_EEG = '/content/drive/MyDrive/IA/TERCERO/ARN/PROYECTO/SUBJECT3/train_subject3_raw02.csv'\n",
        "X_train_s3_3_EEG = '/content/drive/MyDrive/IA/TERCERO/ARN/PROYECTO/SUBJECT3/train_subject3_raw03.csv'\n",
        "\n",
        "#subject1 training P\n",
        "X_train_s1_1_P = '/content/drive/MyDrive/IA/TERCERO/ARN/PROYECTO/DATA_PSD/train_subject1_psd01.csv'\n",
        "X_train_s1_2_P = '/content/drive/MyDrive/IA/TERCERO/ARN/PROYECTO/DATA_PSD/train_subject1_psd02.csv'\n",
        "X_train_s1_3_P = '/content/drive/MyDrive/IA/TERCERO/ARN/PROYECTO/DATA_PSD/train_subject1_psd03.csv'\n",
        "\n",
        "#subject2 training P\n",
        "X_train_s2_1_P = '/content/drive/MyDrive/IA/TERCERO/ARN/PROYECTO/DATA_PSD/train_subject2_psd01.csv'\n",
        "X_train_s2_2_P = '/content/drive/MyDrive/IA/TERCERO/ARN/PROYECTO/DATA_PSD/train_subject2_psd02.csv'\n",
        "X_train_s2_3_P = '/content/drive/MyDrive/IA/TERCERO/ARN/PROYECTO/DATA_PSD/train_subject2_psd03.csv'\n",
        "\n",
        "#subject3 training P\n",
        "X_train_s3_1_P = '/content/drive/MyDrive/IA/TERCERO/ARN/PROYECTO/DATA_PSD/train_subject3_psd01.csv'\n",
        "X_train_s3_2_P = '/content/drive/MyDrive/IA/TERCERO/ARN/PROYECTO/DATA_PSD/train_subject3_psd02.csv'\n",
        "X_train_s3_3_P = '/content/drive/MyDrive/IA/TERCERO/ARN/PROYECTO/DATA_PSD/train_subject3_psd03.csv'\n",
        "\n",
        "#subject 1 test\n",
        "X_test_s1 = '/content/drive/MyDrive/IA/TERCERO/ARN/PROYECTO/SUBJECT1/test_subject1_raw04.csv'\n",
        "labels_s1 = '/content/drive/MyDrive/IA/TERCERO/ARN/PROYECTO/SUBJECT1/labels1.csv'\n",
        "\n",
        "#subject 2 test\n",
        "X_test_s2 =  '/content/drive/MyDrive/IA/TERCERO/ARN/PROYECTO/SUBJECT2/test_subject2_raw04.csv'\n",
        "labels_s2 = '/content/drive/MyDrive/IA/TERCERO/ARN/PROYECTO/SUBJECT2/labels2.csv'\n",
        "\n",
        "#subject 3 test\n",
        "X_test_s3 = '/content/drive/MyDrive/IA/TERCERO/ARN/PROYECTO/SUBJECT3/test_subject3_raw04.csv'\n",
        "labels_s3 = '/content/drive/MyDrive/IA/TERCERO/ARN/PROYECTO/SUBJECT3/labels3.csv'"
      ],
      "metadata": {
        "id": "l92fn6TWzsuX"
      },
      "execution_count": null,
      "outputs": []
    },
    {
      "cell_type": "code",
      "source": [
        "torch.manual_seed(10)"
      ],
      "metadata": {
        "colab": {
          "base_uri": "https://localhost:8080/"
        },
        "id": "gRMGK2NVsndD",
        "outputId": "a90afa47-0a04-4fdd-9fac-c470c796d57e"
      },
      "execution_count": null,
      "outputs": [
        {
          "output_type": "execute_result",
          "data": {
            "text/plain": [
              "<torch._C.Generator at 0x78bb454bb770>"
            ]
          },
          "metadata": {},
          "execution_count": 4
        }
      ]
    },
    {
      "cell_type": "code",
      "execution_count": null,
      "metadata": {
        "id": "wylq9_02AYOs"
      },
      "outputs": [],
      "source": [
        "import pandas as pd\n",
        "\n",
        "# Lee el archivo CSV\n",
        "\n",
        "def process_EEG(x_EEG, y_EEG):\n",
        "    X_list = []\n",
        "    Y_list = []\n",
        "\n",
        "    for i in range(0, x_EEG.size(0)-512, 32):\n",
        "        bloque_actual = x_EEG[i:i + 511, :]\n",
        "        X_list.append(bloque_actual)\n",
        "        Y_list.append(torch.unsqueeze(y_EEG[i], 0))\n",
        "\n",
        "    X = torch.cat(X_list, dim=0)\n",
        "    Y = torch.cat(Y_list, dim=0)\n",
        "\n",
        "    X = X.reshape(-1, 512, 32)\n",
        "    X = X.reshape(-1, 512, 32)\n",
        "\n",
        "    return X, Y\n",
        "\n",
        "def read_csv(paths, labelname):\n",
        "    X_list = []\n",
        "    Y_list = []\n",
        "\n",
        "    for path in paths:\n",
        "        df = pd.read_csv(path, header=0)\n",
        "        y = torch.tensor(df[labelname].values, dtype=torch.float32)\n",
        "        x = df.drop(labelname, axis=1)\n",
        "        x = torch.tensor(x.values, dtype=torch.float32)\n",
        "\n",
        "        X_list.append(x)\n",
        "        Y_list.append(y)\n",
        "\n",
        "    X = torch.cat(X_list, dim=0)\n",
        "    Y = torch.cat(Y_list, dim=0)\n",
        "\n",
        "    return X, Y"
      ]
    },
    {
      "cell_type": "code",
      "source": [
        "paths_EEG = [X_train_s1_1_EEG, X_train_s1_2_EEG, X_train_s1_3_EEG, X_train_s2_1_EEG, X_train_s2_2_EEG, X_train_s2_3_EEG,X_train_s3_1_EEG, X_train_s3_2_EEG, X_train_s3_3_EEG]\n",
        "X_EEG, Y_EEG = read_csv(paths_EEG, 'Class_Label')"
      ],
      "metadata": {
        "id": "y0_TTeXxdNV1",
        "colab": {
          "base_uri": "https://localhost:8080/",
          "height": 1000
        },
        "outputId": "e15f53e8-3355-43ea-f585-d5f9d4cceaf1"
      },
      "execution_count": null,
      "outputs": [
        {
          "output_type": "error",
          "ename": "IsADirectoryError",
          "evalue": "ignored",
          "traceback": [
            "\u001b[0;31m---------------------------------------------------------------------------\u001b[0m",
            "\u001b[0;31mIsADirectoryError\u001b[0m                         Traceback (most recent call last)",
            "\u001b[0;32m<ipython-input-16-9034cf5deb48>\u001b[0m in \u001b[0;36m<cell line: 2>\u001b[0;34m()\u001b[0m\n\u001b[1;32m      1\u001b[0m \u001b[0mpaths_EEG\u001b[0m \u001b[0;34m=\u001b[0m \u001b[0;34m[\u001b[0m\u001b[0mX_train_s1_1_EEG\u001b[0m\u001b[0;34m,\u001b[0m \u001b[0mX_train_s1_2_EEG\u001b[0m\u001b[0;34m,\u001b[0m \u001b[0mX_train_s1_3_EEG\u001b[0m\u001b[0;34m,\u001b[0m \u001b[0mX_train_s2_1_EEG\u001b[0m\u001b[0;34m,\u001b[0m \u001b[0mX_train_s2_2_EEG\u001b[0m\u001b[0;34m,\u001b[0m \u001b[0mX_train_s2_3_EEG\u001b[0m\u001b[0;34m,\u001b[0m\u001b[0mX_train_s3_1_EEG\u001b[0m\u001b[0;34m,\u001b[0m \u001b[0mX_train_s3_2_EEG\u001b[0m\u001b[0;34m,\u001b[0m \u001b[0mX_train_s3_3_EEG\u001b[0m\u001b[0;34m]\u001b[0m\u001b[0;34m\u001b[0m\u001b[0;34m\u001b[0m\u001b[0m\n\u001b[0;32m----> 2\u001b[0;31m \u001b[0mX_EEG\u001b[0m\u001b[0;34m,\u001b[0m \u001b[0mY_EEG\u001b[0m \u001b[0;34m=\u001b[0m \u001b[0mread_csv\u001b[0m\u001b[0;34m(\u001b[0m\u001b[0mX_train_s1_1_EEG\u001b[0m\u001b[0;34m,\u001b[0m \u001b[0;34m'Class_Label'\u001b[0m\u001b[0;34m)\u001b[0m\u001b[0;34m\u001b[0m\u001b[0;34m\u001b[0m\u001b[0m\n\u001b[0m",
            "\u001b[0;32m<ipython-input-15-663f4e49c6c6>\u001b[0m in \u001b[0;36mread_csv\u001b[0;34m(paths, labelname)\u001b[0m\n\u001b[1;32m     25\u001b[0m \u001b[0;34m\u001b[0m\u001b[0m\n\u001b[1;32m     26\u001b[0m     \u001b[0;32mfor\u001b[0m \u001b[0mpath\u001b[0m \u001b[0;32min\u001b[0m \u001b[0mpaths\u001b[0m\u001b[0;34m:\u001b[0m\u001b[0;34m\u001b[0m\u001b[0;34m\u001b[0m\u001b[0m\n\u001b[0;32m---> 27\u001b[0;31m         \u001b[0mdf\u001b[0m \u001b[0;34m=\u001b[0m \u001b[0mpd\u001b[0m\u001b[0;34m.\u001b[0m\u001b[0mread_csv\u001b[0m\u001b[0;34m(\u001b[0m\u001b[0mpath\u001b[0m\u001b[0;34m,\u001b[0m \u001b[0mheader\u001b[0m\u001b[0;34m=\u001b[0m\u001b[0;36m0\u001b[0m\u001b[0;34m)\u001b[0m\u001b[0;34m\u001b[0m\u001b[0;34m\u001b[0m\u001b[0m\n\u001b[0m\u001b[1;32m     28\u001b[0m         \u001b[0my\u001b[0m \u001b[0;34m=\u001b[0m \u001b[0mtorch\u001b[0m\u001b[0;34m.\u001b[0m\u001b[0mtensor\u001b[0m\u001b[0;34m(\u001b[0m\u001b[0mdf\u001b[0m\u001b[0;34m[\u001b[0m\u001b[0mlabelname\u001b[0m\u001b[0;34m]\u001b[0m\u001b[0;34m.\u001b[0m\u001b[0mvalues\u001b[0m\u001b[0;34m,\u001b[0m \u001b[0mdtype\u001b[0m\u001b[0;34m=\u001b[0m\u001b[0mtorch\u001b[0m\u001b[0;34m.\u001b[0m\u001b[0mfloat32\u001b[0m\u001b[0;34m)\u001b[0m\u001b[0;34m\u001b[0m\u001b[0;34m\u001b[0m\u001b[0m\n\u001b[1;32m     29\u001b[0m         \u001b[0mx\u001b[0m \u001b[0;34m=\u001b[0m \u001b[0mdf\u001b[0m\u001b[0;34m.\u001b[0m\u001b[0mdrop\u001b[0m\u001b[0;34m(\u001b[0m\u001b[0mlabelname\u001b[0m\u001b[0;34m,\u001b[0m \u001b[0maxis\u001b[0m\u001b[0;34m=\u001b[0m\u001b[0;36m1\u001b[0m\u001b[0;34m)\u001b[0m\u001b[0;34m\u001b[0m\u001b[0;34m\u001b[0m\u001b[0m\n",
            "\u001b[0;32m/usr/local/lib/python3.10/dist-packages/pandas/util/_decorators.py\u001b[0m in \u001b[0;36mwrapper\u001b[0;34m(*args, **kwargs)\u001b[0m\n\u001b[1;32m    209\u001b[0m                 \u001b[0;32melse\u001b[0m\u001b[0;34m:\u001b[0m\u001b[0;34m\u001b[0m\u001b[0;34m\u001b[0m\u001b[0m\n\u001b[1;32m    210\u001b[0m                     \u001b[0mkwargs\u001b[0m\u001b[0;34m[\u001b[0m\u001b[0mnew_arg_name\u001b[0m\u001b[0;34m]\u001b[0m \u001b[0;34m=\u001b[0m \u001b[0mnew_arg_value\u001b[0m\u001b[0;34m\u001b[0m\u001b[0;34m\u001b[0m\u001b[0m\n\u001b[0;32m--> 211\u001b[0;31m             \u001b[0;32mreturn\u001b[0m \u001b[0mfunc\u001b[0m\u001b[0;34m(\u001b[0m\u001b[0;34m*\u001b[0m\u001b[0margs\u001b[0m\u001b[0;34m,\u001b[0m \u001b[0;34m**\u001b[0m\u001b[0mkwargs\u001b[0m\u001b[0;34m)\u001b[0m\u001b[0;34m\u001b[0m\u001b[0;34m\u001b[0m\u001b[0m\n\u001b[0m\u001b[1;32m    212\u001b[0m \u001b[0;34m\u001b[0m\u001b[0m\n\u001b[1;32m    213\u001b[0m         \u001b[0;32mreturn\u001b[0m \u001b[0mcast\u001b[0m\u001b[0;34m(\u001b[0m\u001b[0mF\u001b[0m\u001b[0;34m,\u001b[0m \u001b[0mwrapper\u001b[0m\u001b[0;34m)\u001b[0m\u001b[0;34m\u001b[0m\u001b[0;34m\u001b[0m\u001b[0m\n",
            "\u001b[0;32m/usr/local/lib/python3.10/dist-packages/pandas/util/_decorators.py\u001b[0m in \u001b[0;36mwrapper\u001b[0;34m(*args, **kwargs)\u001b[0m\n\u001b[1;32m    329\u001b[0m                     \u001b[0mstacklevel\u001b[0m\u001b[0;34m=\u001b[0m\u001b[0mfind_stack_level\u001b[0m\u001b[0;34m(\u001b[0m\u001b[0;34m)\u001b[0m\u001b[0;34m,\u001b[0m\u001b[0;34m\u001b[0m\u001b[0;34m\u001b[0m\u001b[0m\n\u001b[1;32m    330\u001b[0m                 )\n\u001b[0;32m--> 331\u001b[0;31m             \u001b[0;32mreturn\u001b[0m \u001b[0mfunc\u001b[0m\u001b[0;34m(\u001b[0m\u001b[0;34m*\u001b[0m\u001b[0margs\u001b[0m\u001b[0;34m,\u001b[0m \u001b[0;34m**\u001b[0m\u001b[0mkwargs\u001b[0m\u001b[0;34m)\u001b[0m\u001b[0;34m\u001b[0m\u001b[0;34m\u001b[0m\u001b[0m\n\u001b[0m\u001b[1;32m    332\u001b[0m \u001b[0;34m\u001b[0m\u001b[0m\n\u001b[1;32m    333\u001b[0m         \u001b[0;31m# error: \"Callable[[VarArg(Any), KwArg(Any)], Any]\" has no\u001b[0m\u001b[0;34m\u001b[0m\u001b[0;34m\u001b[0m\u001b[0m\n",
            "\u001b[0;32m/usr/local/lib/python3.10/dist-packages/pandas/io/parsers/readers.py\u001b[0m in \u001b[0;36mread_csv\u001b[0;34m(filepath_or_buffer, sep, delimiter, header, names, index_col, usecols, squeeze, prefix, mangle_dupe_cols, dtype, engine, converters, true_values, false_values, skipinitialspace, skiprows, skipfooter, nrows, na_values, keep_default_na, na_filter, verbose, skip_blank_lines, parse_dates, infer_datetime_format, keep_date_col, date_parser, dayfirst, cache_dates, iterator, chunksize, compression, thousands, decimal, lineterminator, quotechar, quoting, doublequote, escapechar, comment, encoding, encoding_errors, dialect, error_bad_lines, warn_bad_lines, on_bad_lines, delim_whitespace, low_memory, memory_map, float_precision, storage_options)\u001b[0m\n\u001b[1;32m    948\u001b[0m     \u001b[0mkwds\u001b[0m\u001b[0;34m.\u001b[0m\u001b[0mupdate\u001b[0m\u001b[0;34m(\u001b[0m\u001b[0mkwds_defaults\u001b[0m\u001b[0;34m)\u001b[0m\u001b[0;34m\u001b[0m\u001b[0;34m\u001b[0m\u001b[0m\n\u001b[1;32m    949\u001b[0m \u001b[0;34m\u001b[0m\u001b[0m\n\u001b[0;32m--> 950\u001b[0;31m     \u001b[0;32mreturn\u001b[0m \u001b[0m_read\u001b[0m\u001b[0;34m(\u001b[0m\u001b[0mfilepath_or_buffer\u001b[0m\u001b[0;34m,\u001b[0m \u001b[0mkwds\u001b[0m\u001b[0;34m)\u001b[0m\u001b[0;34m\u001b[0m\u001b[0;34m\u001b[0m\u001b[0m\n\u001b[0m\u001b[1;32m    951\u001b[0m \u001b[0;34m\u001b[0m\u001b[0m\n\u001b[1;32m    952\u001b[0m \u001b[0;34m\u001b[0m\u001b[0m\n",
            "\u001b[0;32m/usr/local/lib/python3.10/dist-packages/pandas/io/parsers/readers.py\u001b[0m in \u001b[0;36m_read\u001b[0;34m(filepath_or_buffer, kwds)\u001b[0m\n\u001b[1;32m    603\u001b[0m \u001b[0;34m\u001b[0m\u001b[0m\n\u001b[1;32m    604\u001b[0m     \u001b[0;31m# Create the parser.\u001b[0m\u001b[0;34m\u001b[0m\u001b[0;34m\u001b[0m\u001b[0m\n\u001b[0;32m--> 605\u001b[0;31m     \u001b[0mparser\u001b[0m \u001b[0;34m=\u001b[0m \u001b[0mTextFileReader\u001b[0m\u001b[0;34m(\u001b[0m\u001b[0mfilepath_or_buffer\u001b[0m\u001b[0;34m,\u001b[0m \u001b[0;34m**\u001b[0m\u001b[0mkwds\u001b[0m\u001b[0;34m)\u001b[0m\u001b[0;34m\u001b[0m\u001b[0;34m\u001b[0m\u001b[0m\n\u001b[0m\u001b[1;32m    606\u001b[0m \u001b[0;34m\u001b[0m\u001b[0m\n\u001b[1;32m    607\u001b[0m     \u001b[0;32mif\u001b[0m \u001b[0mchunksize\u001b[0m \u001b[0;32mor\u001b[0m \u001b[0miterator\u001b[0m\u001b[0;34m:\u001b[0m\u001b[0;34m\u001b[0m\u001b[0;34m\u001b[0m\u001b[0m\n",
            "\u001b[0;32m/usr/local/lib/python3.10/dist-packages/pandas/io/parsers/readers.py\u001b[0m in \u001b[0;36m__init__\u001b[0;34m(self, f, engine, **kwds)\u001b[0m\n\u001b[1;32m   1440\u001b[0m \u001b[0;34m\u001b[0m\u001b[0m\n\u001b[1;32m   1441\u001b[0m         \u001b[0mself\u001b[0m\u001b[0;34m.\u001b[0m\u001b[0mhandles\u001b[0m\u001b[0;34m:\u001b[0m \u001b[0mIOHandles\u001b[0m \u001b[0;34m|\u001b[0m \u001b[0;32mNone\u001b[0m \u001b[0;34m=\u001b[0m \u001b[0;32mNone\u001b[0m\u001b[0;34m\u001b[0m\u001b[0;34m\u001b[0m\u001b[0m\n\u001b[0;32m-> 1442\u001b[0;31m         \u001b[0mself\u001b[0m\u001b[0;34m.\u001b[0m\u001b[0m_engine\u001b[0m \u001b[0;34m=\u001b[0m \u001b[0mself\u001b[0m\u001b[0;34m.\u001b[0m\u001b[0m_make_engine\u001b[0m\u001b[0;34m(\u001b[0m\u001b[0mf\u001b[0m\u001b[0;34m,\u001b[0m \u001b[0mself\u001b[0m\u001b[0;34m.\u001b[0m\u001b[0mengine\u001b[0m\u001b[0;34m)\u001b[0m\u001b[0;34m\u001b[0m\u001b[0;34m\u001b[0m\u001b[0m\n\u001b[0m\u001b[1;32m   1443\u001b[0m \u001b[0;34m\u001b[0m\u001b[0m\n\u001b[1;32m   1444\u001b[0m     \u001b[0;32mdef\u001b[0m \u001b[0mclose\u001b[0m\u001b[0;34m(\u001b[0m\u001b[0mself\u001b[0m\u001b[0;34m)\u001b[0m \u001b[0;34m->\u001b[0m \u001b[0;32mNone\u001b[0m\u001b[0;34m:\u001b[0m\u001b[0;34m\u001b[0m\u001b[0;34m\u001b[0m\u001b[0m\n",
            "\u001b[0;32m/usr/local/lib/python3.10/dist-packages/pandas/io/parsers/readers.py\u001b[0m in \u001b[0;36m_make_engine\u001b[0;34m(self, f, engine)\u001b[0m\n\u001b[1;32m   1733\u001b[0m                 \u001b[0;32mif\u001b[0m \u001b[0;34m\"b\"\u001b[0m \u001b[0;32mnot\u001b[0m \u001b[0;32min\u001b[0m \u001b[0mmode\u001b[0m\u001b[0;34m:\u001b[0m\u001b[0;34m\u001b[0m\u001b[0;34m\u001b[0m\u001b[0m\n\u001b[1;32m   1734\u001b[0m                     \u001b[0mmode\u001b[0m \u001b[0;34m+=\u001b[0m \u001b[0;34m\"b\"\u001b[0m\u001b[0;34m\u001b[0m\u001b[0;34m\u001b[0m\u001b[0m\n\u001b[0;32m-> 1735\u001b[0;31m             self.handles = get_handle(\n\u001b[0m\u001b[1;32m   1736\u001b[0m                 \u001b[0mf\u001b[0m\u001b[0;34m,\u001b[0m\u001b[0;34m\u001b[0m\u001b[0;34m\u001b[0m\u001b[0m\n\u001b[1;32m   1737\u001b[0m                 \u001b[0mmode\u001b[0m\u001b[0;34m,\u001b[0m\u001b[0;34m\u001b[0m\u001b[0;34m\u001b[0m\u001b[0m\n",
            "\u001b[0;32m/usr/local/lib/python3.10/dist-packages/pandas/io/common.py\u001b[0m in \u001b[0;36mget_handle\u001b[0;34m(path_or_buf, mode, encoding, compression, memory_map, is_text, errors, storage_options)\u001b[0m\n\u001b[1;32m    854\u001b[0m         \u001b[0;32mif\u001b[0m \u001b[0mioargs\u001b[0m\u001b[0;34m.\u001b[0m\u001b[0mencoding\u001b[0m \u001b[0;32mand\u001b[0m \u001b[0;34m\"b\"\u001b[0m \u001b[0;32mnot\u001b[0m \u001b[0;32min\u001b[0m \u001b[0mioargs\u001b[0m\u001b[0;34m.\u001b[0m\u001b[0mmode\u001b[0m\u001b[0;34m:\u001b[0m\u001b[0;34m\u001b[0m\u001b[0;34m\u001b[0m\u001b[0m\n\u001b[1;32m    855\u001b[0m             \u001b[0;31m# Encoding\u001b[0m\u001b[0;34m\u001b[0m\u001b[0;34m\u001b[0m\u001b[0m\n\u001b[0;32m--> 856\u001b[0;31m             handle = open(\n\u001b[0m\u001b[1;32m    857\u001b[0m                 \u001b[0mhandle\u001b[0m\u001b[0;34m,\u001b[0m\u001b[0;34m\u001b[0m\u001b[0;34m\u001b[0m\u001b[0m\n\u001b[1;32m    858\u001b[0m                 \u001b[0mioargs\u001b[0m\u001b[0;34m.\u001b[0m\u001b[0mmode\u001b[0m\u001b[0;34m,\u001b[0m\u001b[0;34m\u001b[0m\u001b[0;34m\u001b[0m\u001b[0m\n",
            "\u001b[0;31mIsADirectoryError\u001b[0m: [Errno 21] Is a directory: '/'"
          ]
        }
      ]
    },
    {
      "cell_type": "code",
      "source": [
        "X, Y = process_EEG(X_EEG, Y_EEG)"
      ],
      "metadata": {
        "colab": {
          "base_uri": "https://localhost:8080/",
          "height": 297
        },
        "id": "Visr0biaeJxw",
        "outputId": "61f16c3b-6d70-4223-d6b0-aa927fb11a90"
      },
      "execution_count": null,
      "outputs": [
        {
          "output_type": "error",
          "ename": "RuntimeError",
          "evalue": "ignored",
          "traceback": [
            "\u001b[0;31m---------------------------------------------------------------------------\u001b[0m",
            "\u001b[0;31mRuntimeError\u001b[0m                              Traceback (most recent call last)",
            "\u001b[0;32m<ipython-input-17-7eb02cc72b4a>\u001b[0m in \u001b[0;36m<cell line: 1>\u001b[0;34m()\u001b[0m\n\u001b[0;32m----> 1\u001b[0;31m \u001b[0mX\u001b[0m\u001b[0;34m,\u001b[0m \u001b[0mY\u001b[0m \u001b[0;34m=\u001b[0m \u001b[0mprocess_EEG\u001b[0m\u001b[0;34m(\u001b[0m\u001b[0mX_EEG\u001b[0m\u001b[0;34m,\u001b[0m \u001b[0mY_EEG\u001b[0m\u001b[0;34m)\u001b[0m\u001b[0;34m\u001b[0m\u001b[0;34m\u001b[0m\u001b[0m\n\u001b[0m",
            "\u001b[0;32m<ipython-input-15-663f4e49c6c6>\u001b[0m in \u001b[0;36mprocess_EEG\u001b[0;34m(x_EEG, y_EEG)\u001b[0m\n\u001b[1;32m     15\u001b[0m     \u001b[0mY\u001b[0m \u001b[0;34m=\u001b[0m \u001b[0mtorch\u001b[0m\u001b[0;34m.\u001b[0m\u001b[0mcat\u001b[0m\u001b[0;34m(\u001b[0m\u001b[0mY_list\u001b[0m\u001b[0;34m,\u001b[0m \u001b[0mdim\u001b[0m\u001b[0;34m=\u001b[0m\u001b[0;36m0\u001b[0m\u001b[0;34m)\u001b[0m\u001b[0;34m\u001b[0m\u001b[0;34m\u001b[0m\u001b[0m\n\u001b[1;32m     16\u001b[0m \u001b[0;34m\u001b[0m\u001b[0m\n\u001b[0;32m---> 17\u001b[0;31m     \u001b[0mX\u001b[0m \u001b[0;34m=\u001b[0m \u001b[0mX\u001b[0m\u001b[0;34m.\u001b[0m\u001b[0mreshape\u001b[0m\u001b[0;34m(\u001b[0m\u001b[0;34m-\u001b[0m\u001b[0;36m1\u001b[0m\u001b[0;34m,\u001b[0m \u001b[0;36m512\u001b[0m\u001b[0;34m,\u001b[0m \u001b[0;36m32\u001b[0m\u001b[0;34m)\u001b[0m\u001b[0;34m\u001b[0m\u001b[0;34m\u001b[0m\u001b[0m\n\u001b[0m\u001b[1;32m     18\u001b[0m     \u001b[0mX\u001b[0m \u001b[0;34m=\u001b[0m \u001b[0mX\u001b[0m\u001b[0;34m.\u001b[0m\u001b[0mreshape\u001b[0m\u001b[0;34m(\u001b[0m\u001b[0;34m-\u001b[0m\u001b[0;36m1\u001b[0m\u001b[0;34m,\u001b[0m \u001b[0;36m512\u001b[0m\u001b[0;34m,\u001b[0m \u001b[0;36m32\u001b[0m\u001b[0;34m)\u001b[0m\u001b[0;34m\u001b[0m\u001b[0;34m\u001b[0m\u001b[0m\n\u001b[1;32m     19\u001b[0m \u001b[0;34m\u001b[0m\u001b[0m\n",
            "\u001b[0;31mRuntimeError\u001b[0m: shape '[-1, 512, 32]' is invalid for input of size 559892480"
          ]
        }
      ]
    },
    {
      "cell_type": "code",
      "source": [
        "print(X.shape)"
      ],
      "metadata": {
        "id": "qHxK7lDHelwB",
        "outputId": "b2f9f55f-c29a-45ec-a609-17adca44addf",
        "colab": {
          "base_uri": "https://localhost:8080/"
        }
      },
      "execution_count": null,
      "outputs": [
        {
          "output_type": "stream",
          "name": "stdout",
          "text": [
            "torch.Size([17496640, 32])\n"
          ]
        }
      ]
    },
    {
      "cell_type": "code",
      "source": [
        "def read_csv_unai(paths, labelname):\n",
        "  X = torch.tensor([], dtype=torch.float32)\n",
        "  Y = torch.tensor([], dtype=torch.float32)\n",
        "\n",
        "  for path in paths:\n",
        "    df = pd.read_csv(path, header=0)\n",
        "    y = torch.tensor(df[labelname].values, dtype=torch.float32)\n",
        "    x = df.drop(labelname, axis=1)\n",
        "    x = torch.tensor(x.values, dtype=torch.float32)\n",
        "\n",
        "    X = torch.cat((X,x), dim = 0)\n",
        "    Y = torch.cat((Y,y), dim = 0)\n",
        "\n",
        "  return X,Y"
      ],
      "metadata": {
        "id": "5bxP3buszlPs"
      },
      "execution_count": null,
      "outputs": []
    },
    {
      "cell_type": "code",
      "source": [
        "def read_test_csv(paths):\n",
        "  X = torch.tensor([], dtype=torch.float32)\n",
        "\n",
        "  for path in paths:\n",
        "    df = pd.read_csv(path, header=0)\n",
        "    x = torch.tensor(df.values, dtype=torch.float32)\n",
        "\n",
        "    X = torch.cat((X,x), dim = 0)\n",
        "\n",
        "  return X"
      ],
      "metadata": {
        "id": "6hA1tG67ZBBM"
      },
      "execution_count": null,
      "outputs": []
    },
    {
      "cell_type": "code",
      "source": [
        "paths_EEG = [X_train_s1_1_EEG, X_train_s1_2_EEG, X_train_s1_3_EEG,X_train_s2_1_EEG, X_train_s2_2_EEG, X_train_s2_3_EEG,X_train_s3_1_EEG, X_train_s3_2_EEG, X_train_s3_3_EEG]\n",
        "paths_P  =  [X_train_s1_1_P, X_train_s1_2_P, X_train_s1_3_P,X_train_s2_1_P, X_train_s2_2_P, X_train_s2_3_P,X_train_s3_1_P, X_train_s3_2_P, X_train_s3_3_P]\n",
        "\n",
        "X_EEG, Y_EEG = read_csv_unai(paths_EEG, 'Class_Label')\n",
        "X_test_EEG = read_test_csv([X_test_s1])\n",
        "Y_test_EEG = read_test_csv([labels_s1])\n",
        "\n",
        "X_P, Y_P = read_csv_unai(paths_P, 'Class_Label')"
      ],
      "metadata": {
        "id": "PTbXoHIo0i_O"
      },
      "execution_count": null,
      "outputs": []
    },
    {
      "cell_type": "code",
      "source": [
        "# Ver qué tienen los datos\n",
        "\n",
        "print('Shape of X, training features:', X_EEG.shape)\n",
        "print('Shape of Y, training labels:', Y_EEG.shape)\n",
        "\n",
        "print('Shape of X, precomputed features:', X_P.shape)\n",
        "print('Shape of Y, precomputed features:', Y_P.shape)\n",
        "\n",
        "unique_values = torch.unique(Y_EEG)\n",
        "\n",
        "unique_values_np = unique_values.numpy()\n",
        "\n",
        "print('Different label values:', unique_values_np)"
      ],
      "metadata": {
        "id": "54r5NC2jNW5a",
        "colab": {
          "base_uri": "https://localhost:8080/"
        },
        "outputId": "56d3be40-e36a-4512-ff4a-e4f76e6e3fb3"
      },
      "execution_count": null,
      "outputs": [
        {
          "output_type": "stream",
          "name": "stdout",
          "text": [
            "Shape of X, training features: torch.Size([1096192, 32])\n",
            "Shape of Y, training labels: torch.Size([1096192])\n",
            "Shape of X, precomputed features: torch.Size([31216, 96])\n",
            "Shape of Y, precomputed features: torch.Size([31216])\n",
            "Different label values: [2. 3. 7.]\n"
          ]
        }
      ]
    },
    {
      "cell_type": "markdown",
      "source": [
        "Transformación de los datos"
      ],
      "metadata": {
        "id": "UiBqN4T38vxr"
      }
    },
    {
      "cell_type": "code",
      "source": [
        "samples_por_segundo_eeg = 512\n",
        "samples_por_segundo_prec = 16\n",
        "\n",
        "factor_submuestreo = 512//16\n",
        "\n",
        "X_EEG_submuestreado = X_EEG[::factor_submuestreo]\n",
        "Y_EEG_submuestreado = Y_EEG[::factor_submuestreo]\n",
        "X_test_EEG_submuestreado = X_test_EEG[::factor_submuestreo]\n",
        "\n",
        "print('Shape of X, training features:', X_EEG_submuestreado.shape)\n",
        "print('Shape of Y, training labels:', Y_EEG_submuestreado.shape)\n",
        "print('Shape of X, test data:', X_test_EEG_submuestreado.shape)\n",
        "print('Shape of Y, test labels:', Y_test_EEG.shape)"
      ],
      "metadata": {
        "colab": {
          "base_uri": "https://localhost:8080/"
        },
        "id": "eP6tsWtJ80Ea",
        "outputId": "e3cf4e4f-9d7c-47dc-8f57-4133e34a3280"
      },
      "execution_count": null,
      "outputs": [
        {
          "output_type": "stream",
          "name": "stdout",
          "text": [
            "Shape of X, training features: torch.Size([34256, 32])\n",
            "Shape of Y, training labels: torch.Size([34256])\n",
            "Shape of X, test data: torch.Size([3776, 32])\n",
            "Shape of Y, test labels: torch.Size([438, 1])\n"
          ]
        }
      ]
    },
    {
      "cell_type": "markdown",
      "source": [
        "# Parte de prueba de un NN pequeño"
      ],
      "metadata": {
        "id": "5qDMfgOdPTRs"
      }
    },
    {
      "cell_type": "markdown",
      "source": [
        "Crear una clase para manejar el dataset"
      ],
      "metadata": {
        "id": "3oXYUUPNSEGA"
      }
    },
    {
      "cell_type": "code",
      "source": [
        "class MyDataset(Dataset):\n",
        "\n",
        "  def __init__(self, features, labels, normalize = True):\n",
        "    self.features = features\n",
        "    self.labels = labels\n",
        "    self.normalize = normalize\n",
        "\n",
        "    # Con las nuevas arquitecturas más profundas llegaba a un tope de accuracy\n",
        "    # Lo he solucionado utilizando esta técnica para normalizar los datos de entrada\n",
        "    if self.normalize:\n",
        "            self.scaler = StandardScaler()\n",
        "            self.features = self.scaler.fit_transform(self.features)\n",
        "\n",
        "  def __len__(self):\n",
        "    return len(self.features)\n",
        "\n",
        "  def __len_features__(self):\n",
        "    return len(self.features[0])\n",
        "\n",
        "  def __getitem__(self, id):\n",
        "    sample = {\n",
        "      'feature': self.features[id],\n",
        "      'label': self.labels[id]\n",
        "    }\n",
        "    return sample\n",
        "\n",
        "# Una instancia de nuestro dataset de entrenamiento\n",
        "\n",
        "train_data = MyDataset(features=X_EEG_submuestreado, labels=Y_EEG_submuestreado)\n",
        "\n",
        "precomputed_train_data = MyDataset(features=X_P, labels=Y_P)\n"
      ],
      "metadata": {
        "id": "PKXYf0-6SDxa"
      },
      "execution_count": null,
      "outputs": []
    },
    {
      "cell_type": "markdown",
      "source": [
        "Dataset de test"
      ],
      "metadata": {
        "id": "qQQDqd1sZzvd"
      }
    },
    {
      "cell_type": "code",
      "source": [
        "class MyTestDataset(Dataset):\n",
        "\n",
        "  def __init__(self, features, normalize = True):\n",
        "    self.features = features\n",
        "    self.normalize = normalize\n",
        "\n",
        "    # Con las nuevas arquitecturas más profundas llegaba a un tope de accuracy\n",
        "    # Lo he solucionado utilizando esta técnica para normalizar los datos de entrada\n",
        "    if self.normalize:\n",
        "            self.scaler = StandardScaler()\n",
        "            self.features = self.scaler.fit_transform(self.features)\n",
        "\n",
        "  def __len__(self):\n",
        "    return len(self.features)\n",
        "\n",
        "  def __len_features__(self):\n",
        "    return len(self.features[0])\n",
        "\n",
        "  def __getitem__(self, id):\n",
        "    sample = {\n",
        "      'feature': self.features[id],\n",
        "    }\n",
        "    return sample\n",
        "\n",
        "test_data = MyTestDataset(features=X_test_EEG)\n",
        "\n",
        "print(test_data.__len__())"
      ],
      "metadata": {
        "colab": {
          "base_uri": "https://localhost:8080/"
        },
        "id": "l4ZJ8strZxQV",
        "outputId": "a5f2470d-95f1-44b9-9e13-b2e877871374"
      },
      "execution_count": null,
      "outputs": [
        {
          "output_type": "stream",
          "name": "stdout",
          "text": [
            "120832\n"
          ]
        }
      ]
    },
    {
      "cell_type": "code",
      "source": [
        "# Ver la forma del conjunto de datos raw EEG signals\n",
        "print(\"Raw EEG Train Data:\")\n",
        "print(\"Número de muestras:\", train_data.__len__())\n",
        "print(\"Forma de la primera muestra de features:\", train_data[0]['feature'].shape)\n",
        "print(\"Etiqueta de la primera muestra:\", train_data[0]['label'])\n",
        "\n",
        "# Ver la forma del conjunto de datos precomputed features\n",
        "print(\"\\nPrecomputed Features Train Data:\")\n",
        "print(\"Número de muestras:\", precomputed_train_data.__len__())\n",
        "print(\"Forma de la primera muestra de features:\", precomputed_train_data[0]['feature'].shape)\n",
        "print(\"Etiqueta de la primera muestra:\", precomputed_train_data[0]['label'])\n"
      ],
      "metadata": {
        "colab": {
          "base_uri": "https://localhost:8080/"
        },
        "id": "sS8XYUuj1nrU",
        "outputId": "10d2c8b4-5c8d-4373-d090-19e8073c0b42"
      },
      "execution_count": null,
      "outputs": [
        {
          "output_type": "stream",
          "name": "stdout",
          "text": [
            "Raw EEG Train Data:\n",
            "Número de muestras: 34256\n",
            "Forma de la primera muestra de features: (32,)\n",
            "Etiqueta de la primera muestra: tensor(7.)\n",
            "\n",
            "Precomputed Features Train Data:\n",
            "Número de muestras: 31216\n",
            "Forma de la primera muestra de features: (96,)\n",
            "Etiqueta de la primera muestra: tensor(7.)\n"
          ]
        }
      ]
    },
    {
      "cell_type": "markdown",
      "source": [
        "Arreglo un poco cochino para ajustar los datasets. Habrá que buscar otra forma."
      ],
      "metadata": {
        "id": "rQuClQqaKzlt"
      }
    },
    {
      "cell_type": "code",
      "source": [
        "min_dataset_length = min(len(train_data), len(precomputed_train_data))\n",
        "\n",
        "train_data_final = data_utils.Subset(train_data, range(min_dataset_length))\n",
        "precomputed_data_final = data_utils.Subset(precomputed_train_data, range(min_dataset_length))"
      ],
      "metadata": {
        "id": "6Uk2SH3LKJgt"
      },
      "execution_count": null,
      "outputs": []
    },
    {
      "cell_type": "code",
      "source": [
        "# Ver la forma del conjunto de datos raw EEG signals\n",
        "print(\"Raw EEG Train Data:\")\n",
        "print(\"Número de muestras:\", train_data_final.__len__())\n",
        "print(\"Forma de la primera muestra de features:\", train_data_final[0]['feature'].shape)\n",
        "print(\"Etiqueta de la primera muestra:\", train_data_final[0]['label'])\n",
        "\n",
        "# Ver la forma del conjunto de datos precomputed features\n",
        "print(\"\\nPrecomputed Features Train Data:\")\n",
        "print(\"Número de muestras:\", precomputed_data_final.__len__())\n",
        "print(\"Forma de la primera muestra de features:\", precomputed_data_final[0]['feature'].shape)\n",
        "print(\"Etiqueta de la primera muestra:\", precomputed_data_final[0]['label'])"
      ],
      "metadata": {
        "colab": {
          "base_uri": "https://localhost:8080/"
        },
        "id": "KgYejrypKd2B",
        "outputId": "b0c1b3b5-0e05-4107-bea0-afd50e980a0e"
      },
      "execution_count": null,
      "outputs": [
        {
          "output_type": "stream",
          "name": "stdout",
          "text": [
            "Raw EEG Train Data:\n",
            "Número de muestras: 31216\n",
            "Forma de la primera muestra de features: (32,)\n",
            "Etiqueta de la primera muestra: tensor(7.)\n",
            "\n",
            "Precomputed Features Train Data:\n",
            "Número de muestras: 31216\n",
            "Forma de la primera muestra de features: (96,)\n",
            "Etiqueta de la primera muestra: tensor(7.)\n"
          ]
        }
      ]
    },
    {
      "cell_type": "markdown",
      "source": [
        "Función para entrenar el modelo"
      ],
      "metadata": {
        "id": "3hiy9987zq5m"
      }
    },
    {
      "cell_type": "code",
      "source": [
        "def training(num_epochs, train_dataloader, model, optimizer, criterion):\n",
        "\n",
        "  label_mapping = {2: 0, 3: 1, 7: 2} #We prefer to deal with 0,1,2 classes\n",
        "\n",
        "  model.train()\n",
        "\n",
        "  for epoch in range(num_epochs):\n",
        "    total_correct = 0\n",
        "    total_samples = 0\n",
        "    total_loss = 0\n",
        "\n",
        "    for batch in train_dataloader:\n",
        "\n",
        "      inputs = batch['feature']\n",
        "      labels = batch['label']\n",
        "\n",
        "      mapped_labels = [label_mapping[label.item()] for label in labels]\n",
        "      mapped_labels = torch.tensor(mapped_labels, dtype=torch.long)\n",
        "\n",
        "      inputs = inputs.float()\n",
        "\n",
        "      outputs = model(inputs)\n",
        "\n",
        "      loss = criterion(outputs, mapped_labels)\n",
        "\n",
        "      optimizer.zero_grad()\n",
        "      loss.backward()\n",
        "      optimizer.step()\n",
        "\n",
        "      val, predicted = torch.max(outputs.data, 1)\n",
        "      total_samples += labels.size(0) # Para coger cuantos labels había\n",
        "      total_correct += (predicted == mapped_labels).sum().item() # Para ver cuantos han sido igual\n",
        "\n",
        "      total_loss += loss.item()\n",
        "\n",
        "    print(f'Epoch [{epoch+1}/{num_epochs}], Loss: {total_loss/len(train_dataloader):.2f}, Accuracy: {total_correct/total_samples:.2%}')\n",
        "\n",
        "  return model"
      ],
      "metadata": {
        "id": "sjHjs0t6JgEr"
      },
      "execution_count": null,
      "outputs": []
    },
    {
      "cell_type": "code",
      "source": [
        "class MyNN_EEG(nn.Module):\n",
        "  def __init__(self, input_size, num_classes):\n",
        "    super(MyNN_EEG, self).__init__()\n",
        "    self.fc1 = nn.Linear(input_size, input_size)\n",
        "    self.fc2 = nn.Linear(input_size, num_classes)\n",
        "    self.relu = nn.ReLU()\n",
        "\n",
        "  def forward(self, x):\n",
        "    x = self.fc1(x)\n",
        "    x = self.relu(x)\n",
        "    x = self.fc2(x)\n",
        "    return x\n",
        "\n",
        "class MyNN_Prec(nn.Module):\n",
        "  def __init__(self, input_size, num_classes):\n",
        "    super(MyNN_Prec, self).__init__()\n",
        "    self.fc1 = nn.Linear(input_size, input_size)\n",
        "    self.fc2 = nn.Linear(input_size, num_classes)\n",
        "    self.relu = nn.ReLU()\n",
        "\n",
        "  def forward(self, x):\n",
        "    x = self.fc1(x)\n",
        "    x = self.relu(x)\n",
        "    x = self.fc2(x)\n",
        "    return x\n",
        "\n",
        "class ModeloCombinado(nn.Module):\n",
        "  def __init__(self, input_size, output_size):\n",
        "    super(ModeloCombinado, self).__init__()\n",
        "    self.fc = nn.Linear(input_size, output_size)\n",
        "\n",
        "  def forward(self, x):\n",
        "    x = self.fc(x)\n",
        "    return x"
      ],
      "metadata": {
        "id": "6C-1uqFKPYnI"
      },
      "execution_count": null,
      "outputs": []
    },
    {
      "cell_type": "markdown",
      "source": [
        "Lo entrenamos..."
      ],
      "metadata": {
        "id": "lJHuVWUP0xAs"
      }
    },
    {
      "cell_type": "code",
      "source": [
        "# Todos los parámetros\n",
        "num_epochs = 5\n",
        "batch_size = 32\n",
        "\n",
        "input_size_EEG = 32\n",
        "input_size_precomputed = 96\n",
        "num_classes = 3\n",
        "conc_input_size = num_classes + num_classes"
      ],
      "metadata": {
        "id": "Rh2hIKB04FRd"
      },
      "execution_count": null,
      "outputs": []
    },
    {
      "cell_type": "markdown",
      "source": [
        "Parte de entrenamiento del EEG"
      ],
      "metadata": {
        "id": "S1vUBtFcF2Wb"
      }
    },
    {
      "cell_type": "code",
      "source": [
        "modelo_EEG = MyNN_EEG(input_size_EEG, num_classes)\n",
        "criterion = nn.CrossEntropyLoss()\n",
        "optimizer_EEG = optim.SGD(modelo_EEG.parameters(), lr=0.01)\n",
        "\n",
        "raw_eeg_dataloader = DataLoader(train_data_final, batch_size, shuffle=True)\n",
        "trained_model_EEG = training(num_epochs, raw_eeg_dataloader, modelo_EEG, optimizer_EEG, criterion)"
      ],
      "metadata": {
        "colab": {
          "base_uri": "https://localhost:8080/"
        },
        "id": "q8rN4Uj_F0XU",
        "outputId": "8652e219-7c2c-4056-ba48-ad88fbf7929d"
      },
      "execution_count": null,
      "outputs": [
        {
          "output_type": "stream",
          "name": "stdout",
          "text": [
            "Epoch [1/5], Loss: 1.09, Accuracy: 37.05%\n",
            "Epoch [2/5], Loss: 1.09, Accuracy: 37.64%\n",
            "Epoch [3/5], Loss: 1.09, Accuracy: 37.99%\n",
            "Epoch [4/5], Loss: 1.09, Accuracy: 37.83%\n",
            "Epoch [5/5], Loss: 1.09, Accuracy: 38.33%\n"
          ]
        }
      ]
    },
    {
      "cell_type": "markdown",
      "source": [
        "Coger los outputs"
      ],
      "metadata": {
        "id": "LwwOai8CHrnR"
      }
    },
    {
      "cell_type": "code",
      "source": [
        "modelo_EEG.eval()\n",
        "outputs_EEG_all = []\n",
        "\n",
        "for batch in raw_eeg_dataloader:\n",
        "    inputs = batch['feature']\n",
        "    outputs_EEG = modelo_EEG(inputs.float())\n",
        "    outputs_EEG_all.append(outputs_EEG)\n",
        "\n",
        "outputs_EEG_combined = torch.cat(outputs_EEG_all, dim=0)"
      ],
      "metadata": {
        "id": "kNKUzfkZHtR9"
      },
      "execution_count": null,
      "outputs": []
    },
    {
      "cell_type": "markdown",
      "source": [
        "Lo mismo para los precomputed features"
      ],
      "metadata": {
        "id": "Tt2CXZHGH4Ux"
      }
    },
    {
      "cell_type": "code",
      "source": [
        "modelo_P = MyNN_Prec(input_size_precomputed, num_classes)\n",
        "criterion = nn.CrossEntropyLoss()\n",
        "optimizer_P = optim.SGD(modelo_P.parameters(), lr=0.01)\n",
        "\n",
        "precomputed_dataloader = DataLoader(precomputed_data_final, batch_size, shuffle=True)\n",
        "trained_model_EEG = training(num_epochs, precomputed_dataloader, modelo_P, optimizer_P, criterion)"
      ],
      "metadata": {
        "colab": {
          "base_uri": "https://localhost:8080/"
        },
        "id": "1bW6XUnlIG9F",
        "outputId": "4827c025-7fa5-43a5-c312-0090768f2603"
      },
      "execution_count": null,
      "outputs": [
        {
          "output_type": "stream",
          "name": "stdout",
          "text": [
            "Epoch [1/5], Loss: 0.97, Accuracy: 52.70%\n",
            "Epoch [2/5], Loss: 0.86, Accuracy: 60.32%\n",
            "Epoch [3/5], Loss: 0.81, Accuracy: 63.81%\n",
            "Epoch [4/5], Loss: 0.76, Accuracy: 66.40%\n",
            "Epoch [5/5], Loss: 0.72, Accuracy: 68.33%\n"
          ]
        }
      ]
    },
    {
      "cell_type": "code",
      "source": [
        "modelo_P.eval()\n",
        "outputs_P_all = []\n",
        "\n",
        "for batch in precomputed_dataloader:\n",
        "    inputs = batch['feature']\n",
        "    outputs_P = modelo_P(inputs.float())\n",
        "    outputs_P_all.append(outputs_P)\n",
        "\n",
        "outputs_P_combined = torch.cat(outputs_P_all, dim=0)\n",
        "print(outputs_P_combined)"
      ],
      "metadata": {
        "colab": {
          "base_uri": "https://localhost:8080/"
        },
        "id": "CXiF6b4gIxc9",
        "outputId": "23d2f378-72ed-4902-faaf-c8d3fb61dc8c"
      },
      "execution_count": null,
      "outputs": [
        {
          "output_type": "stream",
          "name": "stdout",
          "text": [
            "tensor([[ 0.2084, -0.7426,  1.0909],\n",
            "        [-0.5083,  0.8240, -0.1844],\n",
            "        [-0.7691,  0.2936,  0.0804],\n",
            "        ...,\n",
            "        [-0.5106,  0.5233, -0.3742],\n",
            "        [-0.5286,  0.0751,  0.3120],\n",
            "        [ 0.5059, -1.5335,  1.6846]], grad_fn=<CatBackward0>)\n"
          ]
        }
      ]
    },
    {
      "cell_type": "markdown",
      "source": [
        "Concatenar los outputs de ambos modelos"
      ],
      "metadata": {
        "id": "SvuZsHLfJOGt"
      }
    },
    {
      "cell_type": "code",
      "source": [
        "print('Output shape for EEG: ', outputs_EEG_combined.size())\n",
        "print('Output shape for Precomputed Features: ', outputs_P_combined.size())"
      ],
      "metadata": {
        "colab": {
          "base_uri": "https://localhost:8080/"
        },
        "id": "ECv-0K19JjgN",
        "outputId": "74b9fd6b-8c8f-4b4e-808a-fc808f637380"
      },
      "execution_count": null,
      "outputs": [
        {
          "output_type": "stream",
          "name": "stdout",
          "text": [
            "Output shape for EEG:  torch.Size([31216, 3])\n",
            "Output shape for Precomputed Features:  torch.Size([31216, 3])\n"
          ]
        }
      ]
    },
    {
      "cell_type": "code",
      "source": [
        "outputs_combined = torch.cat([outputs_EEG_combined, outputs_P_combined], dim=1)"
      ],
      "metadata": {
        "id": "OpFNA5iKJSRt"
      },
      "execution_count": null,
      "outputs": []
    },
    {
      "cell_type": "code",
      "source": [
        "labels_input = Y_P"
      ],
      "metadata": {
        "id": "s6BMASdCOHD5"
      },
      "execution_count": null,
      "outputs": []
    },
    {
      "cell_type": "code",
      "source": [
        "print('Tamaño de los outputs:', outputs_combined.size())\n",
        "print('Tamaño de los labels:', labels_input.size())"
      ],
      "metadata": {
        "colab": {
          "base_uri": "https://localhost:8080/"
        },
        "id": "UJoeaSuKPDc2",
        "outputId": "2eb2335b-4767-4f34-f692-0f14d5ddc4e6"
      },
      "execution_count": null,
      "outputs": [
        {
          "output_type": "stream",
          "name": "stdout",
          "text": [
            "Tamaño de los outputs: torch.Size([31216, 6])\n",
            "Tamaño de los labels: torch.Size([31216])\n"
          ]
        }
      ]
    },
    {
      "cell_type": "markdown",
      "source": [
        "Pasarlo al modelo final:"
      ],
      "metadata": {
        "id": "6x3tXFf-MdCL"
      }
    },
    {
      "cell_type": "markdown",
      "source": [
        "Algunos hiperparámetros:"
      ],
      "metadata": {
        "id": "LI89C25KOW0L"
      }
    },
    {
      "cell_type": "code",
      "source": [
        "input_size = outputs_combined.size(1)\n",
        "num_classes = 3\n",
        "num_epochs = 10"
      ],
      "metadata": {
        "id": "zXQ7UERvOZKz"
      },
      "execution_count": null,
      "outputs": []
    },
    {
      "cell_type": "code",
      "source": [
        "dataset = TensorDataset(outputs_combined, labels_input)\n",
        "dataloader = DataLoader(dataset, batch_size=32, shuffle=True)\n",
        "\n",
        "modelo_combinado = ModeloCombinado(input_size, num_classes)\n",
        "criterion = nn.CrossEntropyLoss()\n",
        "optimizer_combinado = optim.SGD(modelo_combinado.parameters(), lr=0.01)\n",
        "\n",
        "label_mapping = {2: 0, 3: 1, 7: 2}\n",
        "\n",
        "modelo_combinado.train()\n",
        "\n",
        "for epoch in range(num_epochs):\n",
        "    total_loss = 0\n",
        "    total_correct = 0\n",
        "    total_samples = 0\n",
        "\n",
        "    for batch in dataloader:\n",
        "        inputs, labels = batch\n",
        "\n",
        "        # Forward pass\n",
        "        outputs = modelo_combinado(inputs).detach().requires_grad_()\n",
        "\n",
        "        mapped_labels = [label_mapping[label.item()] for label in labels]\n",
        "        mapped_labels = torch.tensor(mapped_labels, dtype=torch.long)\n",
        "\n",
        "        # Compute loss\n",
        "        loss = criterion(outputs, mapped_labels)\n",
        "\n",
        "        # Backward pass and optimization\n",
        "        optimizer_combinado.zero_grad()\n",
        "        loss.backward()\n",
        "        optimizer_combinado.step()\n",
        "\n",
        "        # Metrics\n",
        "        val, predicted = torch.max(outputs.data, 1)\n",
        "        total_samples += labels.size(0)\n",
        "        total_correct += (predicted == labels).sum().item()\n",
        "        total_loss += loss.item()\n",
        "\n",
        "    # Print metrics for each epoch\n",
        "    print(f'Epoch [{epoch + 1}/{num_epochs}], Loss: {total_loss / len(dataloader):.2f}, Accuracy: {total_correct / total_samples:.2%}')"
      ],
      "metadata": {
        "colab": {
          "base_uri": "https://localhost:8080/"
        },
        "id": "YKIyET0BMevp",
        "outputId": "b70aeaae-66fa-4a1b-9953-79ca262b0df6"
      },
      "execution_count": null,
      "outputs": [
        {
          "output_type": "stream",
          "name": "stdout",
          "text": [
            "Epoch [1/10], Loss: 1.26, Accuracy: 1.26%\n",
            "Epoch [2/10], Loss: 1.26, Accuracy: 1.26%\n",
            "Epoch [3/10], Loss: 1.26, Accuracy: 1.26%\n",
            "Epoch [4/10], Loss: 1.26, Accuracy: 1.26%\n",
            "Epoch [5/10], Loss: 1.26, Accuracy: 1.26%\n",
            "Epoch [6/10], Loss: 1.26, Accuracy: 1.26%\n",
            "Epoch [7/10], Loss: 1.26, Accuracy: 1.26%\n",
            "Epoch [8/10], Loss: 1.26, Accuracy: 1.26%\n",
            "Epoch [9/10], Loss: 1.26, Accuracy: 1.26%\n",
            "Epoch [10/10], Loss: 1.26, Accuracy: 1.26%\n"
          ]
        }
      ]
    },
    {
      "cell_type": "markdown",
      "source": [
        "# Un NN un poco más grande\n",
        "\n",
        "Con el objetivo de mejorar el loss"
      ],
      "metadata": {
        "id": "vCpXxw03YaKo"
      }
    },
    {
      "cell_type": "code",
      "source": [
        "class MyNN2capas(nn.Module):\n",
        "  def __init__(self, input_size, hidden_size, num_classes, dropout_rate=0.2):\n",
        "    super(MyNN2capas, self).__init__()\n",
        "    self.fc1 = nn.Linear(input_size, hidden_size)\n",
        "    self.relu = nn.ReLU()\n",
        "    self.dropout = nn.Dropout(dropout_rate)\n",
        "    self.fc2 = nn.Linear(hidden_size, num_classes)\n",
        "\n",
        "  def forward(self, x):\n",
        "    x = self.fc1(x)\n",
        "    x = self.relu(x)\n",
        "    x = self.dropout(x)\n",
        "    x = self.fc2(x)\n",
        "    return x"
      ],
      "metadata": {
        "id": "Sg5u70nwYgHe"
      },
      "execution_count": null,
      "outputs": []
    },
    {
      "cell_type": "markdown",
      "source": [
        "Lo entrenamos..."
      ],
      "metadata": {
        "id": "gz0tNDS30vaQ"
      }
    },
    {
      "cell_type": "code",
      "source": [
        "import torch.optim as optim\n",
        "from torch.utils.data import DataLoader\n",
        "\n",
        "num_epochs = 5\n",
        "\n",
        "input_size = 32\n",
        "hidden_size = 16\n",
        "num_classes = 3\n",
        "model = MyNN2capas(input_size, hidden_size, num_classes)\n",
        "\n",
        "criterion = nn.CrossEntropyLoss()\n",
        "optimizer = optim.Adam(model.parameters(), lr=0.001)\n",
        "\n",
        "batch_size = 32\n",
        "train_dataloader = DataLoader(train_data, batch_size, shuffle=True)\n",
        "\n",
        "training(num_epochs, train_dataloader, model, optimizer, criterion)"
      ],
      "metadata": {
        "colab": {
          "base_uri": "https://localhost:8080/"
        },
        "id": "UEdc1PA80mCz",
        "outputId": "8e037647-4e79-429b-ed60-ba0a6820e086"
      },
      "execution_count": null,
      "outputs": [
        {
          "output_type": "stream",
          "name": "stdout",
          "text": [
            "Epoch [1/5], Loss: 1.09, Accuracy: 37.12%\n",
            "Epoch [2/5], Loss: 1.09, Accuracy: 37.36%\n",
            "Epoch [3/5], Loss: 1.09, Accuracy: 37.63%\n",
            "Epoch [4/5], Loss: 1.09, Accuracy: 37.63%\n",
            "Epoch [5/5], Loss: 1.09, Accuracy: 37.96%\n"
          ]
        },
        {
          "output_type": "execute_result",
          "data": {
            "text/plain": [
              "MyNN2capas(\n",
              "  (fc1): Linear(in_features=32, out_features=16, bias=True)\n",
              "  (relu): ReLU()\n",
              "  (dropout): Dropout(p=0.2, inplace=False)\n",
              "  (fc2): Linear(in_features=16, out_features=3, bias=True)\n",
              ")"
            ]
          },
          "metadata": {},
          "execution_count": 33
        }
      ]
    },
    {
      "cell_type": "markdown",
      "source": [
        "Solo metiendo una capa más y haciendo dropout ha bajado mucho el loss.\n",
        "\n",
        "Vamos a introducir una capa más, y también la inicialización kaiming."
      ],
      "metadata": {
        "id": "BONrN_w6cFh8"
      }
    },
    {
      "cell_type": "markdown",
      "source": [
        "# Con inicialización Kaiming"
      ],
      "metadata": {
        "id": "CYxAuSs6sBb9"
      }
    },
    {
      "cell_type": "code",
      "source": [
        "class MyNNKaiming(nn.Module):\n",
        "  def __init__(self, input_size, hidden_size, num_classes, dropout_rate=0.2):\n",
        "    super(MyNNKaiming, self).__init__()\n",
        "    self.fc1 = nn.Linear(input_size, hidden_size)\n",
        "    torch.nn.init.kaiming_uniform_(self.fc1.weight)\n",
        "\n",
        "    self.fc2 = nn.Linear(hidden_size, hidden_size)\n",
        "    torch.nn.init.kaiming_uniform_(self.fc2.weight)\n",
        "\n",
        "    self.fc3 = nn.Linear(hidden_size, num_classes)\n",
        "    torch.nn.init.kaiming_uniform_(self.fc3.weight)\n",
        "\n",
        "    self.relu = nn.ReLU()\n",
        "    self.dropout = nn.Dropout(dropout_rate)\n",
        "\n",
        "  def forward(self, x):\n",
        "    x = self.fc1(x)\n",
        "    x = self.relu(x)\n",
        "    x = self.dropout(x)\n",
        "    x = self.fc2(x)\n",
        "    x = self.relu(x)\n",
        "    x = self.dropout(x)\n",
        "    x = self.fc3(x)\n",
        "    return x"
      ],
      "metadata": {
        "id": "UJLGFwE4dl0f"
      },
      "execution_count": null,
      "outputs": []
    },
    {
      "cell_type": "markdown",
      "source": [
        "Lo entrenamos..."
      ],
      "metadata": {
        "id": "02z0-JnH1aJe"
      }
    },
    {
      "cell_type": "code",
      "source": [
        "import torch.optim as optim\n",
        "from torch.utils.data import DataLoader\n",
        "\n",
        "num_epochs = 5\n",
        "\n",
        "input_size = 32\n",
        "hidden_size = 16\n",
        "num_classes = 3\n",
        "model = MyNNKaiming(input_size, hidden_size, num_classes)\n",
        "\n",
        "criterion = nn.CrossEntropyLoss()\n",
        "optimizer = optim.Adam(model.parameters(), lr=0.001)\n",
        "\n",
        "batch_size = 32\n",
        "train_dataloader = DataLoader(train_data, batch_size, shuffle=True)\n",
        "\n",
        "training(num_epochs, train_dataloader, model, optimizer, criterion)"
      ],
      "metadata": {
        "id": "VlQsc9Ab1KyN",
        "colab": {
          "base_uri": "https://localhost:8080/"
        },
        "outputId": "5231a424-521d-4231-91e8-4c8a22271764"
      },
      "execution_count": null,
      "outputs": [
        {
          "output_type": "stream",
          "name": "stdout",
          "text": [
            "Epoch [1/5], Loss: 1.13, Accuracy: 35.15%\n",
            "Epoch [2/5], Loss: 1.09, Accuracy: 37.34%\n",
            "Epoch [3/5], Loss: 1.09, Accuracy: 37.84%\n",
            "Epoch [4/5], Loss: 1.09, Accuracy: 37.71%\n",
            "Epoch [5/5], Loss: 1.09, Accuracy: 37.89%\n"
          ]
        },
        {
          "output_type": "execute_result",
          "data": {
            "text/plain": [
              "MyNNKaiming(\n",
              "  (fc1): Linear(in_features=32, out_features=16, bias=True)\n",
              "  (fc2): Linear(in_features=16, out_features=16, bias=True)\n",
              "  (fc3): Linear(in_features=16, out_features=3, bias=True)\n",
              "  (relu): ReLU()\n",
              "  (dropout): Dropout(p=0.2, inplace=False)\n",
              ")"
            ]
          },
          "metadata": {},
          "execution_count": 35
        }
      ]
    },
    {
      "cell_type": "markdown",
      "source": [
        "# Con batch normalization"
      ],
      "metadata": {
        "id": "z4dFZr4O0U6Q"
      }
    },
    {
      "cell_type": "code",
      "source": [
        "class myNNBN(nn.Module):\n",
        "  def __init__(self, input_size, hidden_size, num_classes):\n",
        "    super(myNNBN, self).__init__()\n",
        "    self.linear1 = nn.Linear(input_size, hidden_size)\n",
        "    nn.init.kaiming_uniform_(self.linear1.weight)\n",
        "    self.bnorm1 = nn.BatchNorm1d(hidden_size)\n",
        "    self.linear2 = nn.Linear(hidden_size, hidden_size)\n",
        "    nn.init.kaiming_uniform_(self.linear2.weight)\n",
        "    self.bnorm2 = nn.BatchNorm1d(hidden_size)\n",
        "    self.linear3 = nn.Linear(hidden_size, num_classes)\n",
        "    nn.init.kaiming_uniform_(self.linear3.weight)\n",
        "\n",
        "    self.relu = nn.ReLU()\n",
        "\n",
        "  def forward(self, x):\n",
        "    x = self.linear1(x)\n",
        "    x = self.bnorm1(x)\n",
        "    x = self.relu(x)\n",
        "    x = self.linear2(x)\n",
        "    x = self.bnorm2(x)\n",
        "    x = self.relu(x)\n",
        "    x = self.linear3(x)\n",
        "    return x"
      ],
      "metadata": {
        "id": "9-fM8j2f0UZi"
      },
      "execution_count": null,
      "outputs": []
    },
    {
      "cell_type": "markdown",
      "source": [
        "Lo entrenamos..."
      ],
      "metadata": {
        "id": "5BTVTdin2ndx"
      }
    },
    {
      "cell_type": "code",
      "source": [
        "import torch.optim as optim\n",
        "from torch.utils.data import DataLoader\n",
        "\n",
        "num_epochs = 10\n",
        "\n",
        "input_size = 32\n",
        "hidden_size = 16\n",
        "num_classes = 3\n",
        "model = myNNBN(input_size, hidden_size, num_classes)\n",
        "\n",
        "criterion = nn.CrossEntropyLoss()\n",
        "optimizer = optim.Adam(model.parameters(), lr=0.001, weight_decay=1e-3)\n",
        "\n",
        "batch_size = 32\n",
        "train_dataloader = DataLoader(train_data, batch_size, shuffle=True)\n",
        "\n",
        "training(num_epochs, train_dataloader, model, optimizer, criterion)"
      ],
      "metadata": {
        "colab": {
          "base_uri": "https://localhost:8080/"
        },
        "id": "cIhK6W_Y1gCy",
        "outputId": "dc5e3e32-89ca-4461-f1d8-83ff4eed1770"
      },
      "execution_count": null,
      "outputs": [
        {
          "output_type": "stream",
          "name": "stdout",
          "text": [
            "Epoch [1/10], Loss: 1.10, Accuracy: 37.31%\n",
            "Epoch [2/10], Loss: 1.09, Accuracy: 38.23%\n",
            "Epoch [3/10], Loss: 1.09, Accuracy: 38.80%\n",
            "Epoch [4/10], Loss: 1.08, Accuracy: 39.40%\n",
            "Epoch [5/10], Loss: 1.08, Accuracy: 39.77%\n",
            "Epoch [6/10], Loss: 1.08, Accuracy: 40.21%\n",
            "Epoch [7/10], Loss: 1.07, Accuracy: 41.00%\n",
            "Epoch [8/10], Loss: 1.07, Accuracy: 41.01%\n",
            "Epoch [9/10], Loss: 1.07, Accuracy: 41.56%\n",
            "Epoch [10/10], Loss: 1.07, Accuracy: 41.26%\n"
          ]
        },
        {
          "output_type": "execute_result",
          "data": {
            "text/plain": [
              "myNNBN(\n",
              "  (linear1): Linear(in_features=32, out_features=16, bias=True)\n",
              "  (bnorm1): BatchNorm1d(16, eps=1e-05, momentum=0.1, affine=True, track_running_stats=True)\n",
              "  (linear2): Linear(in_features=16, out_features=16, bias=True)\n",
              "  (bnorm2): BatchNorm1d(16, eps=1e-05, momentum=0.1, affine=True, track_running_stats=True)\n",
              "  (linear3): Linear(in_features=16, out_features=3, bias=True)\n",
              "  (relu): ReLU()\n",
              ")"
            ]
          },
          "metadata": {},
          "execution_count": 37
        }
      ]
    },
    {
      "cell_type": "markdown",
      "source": [
        "Making test just trained on train data"
      ],
      "metadata": {
        "id": "qGps1YoPXwgl"
      }
    },
    {
      "cell_type": "code",
      "source": [
        "def testing(test_dataloader, model):\n",
        "    model.eval()\n",
        "    predictions = []\n",
        "\n",
        "    with torch.no_grad():\n",
        "        for batch in test_dataloader:\n",
        "            inputs = batch['feature']\n",
        "\n",
        "            outputs = model(inputs.float())\n",
        "\n",
        "            val, predicted = torch.max(outputs.data, 1)\n",
        "\n",
        "            predictions.extend(predicted.tolist())\n",
        "\n",
        "    return predictions\n",
        "\n",
        "\n",
        "test_dataloader = DataLoader(train_data, batch_size, shuffle=True)\n",
        "\n",
        "test_predictions = testing(test_dataloader, model)\n",
        "\n",
        "\n",
        "print(test_predictions)\n"
      ],
      "metadata": {
        "id": "pt6RaaL7Xz-B",
        "colab": {
          "base_uri": "https://localhost:8080/"
        },
        "outputId": "719af61b-4035-4907-c8e3-172e57bb2985"
      },
      "execution_count": null,
      "outputs": [
        {
          "output_type": "stream",
          "name": "stdout",
          "text": [
            "[2, 2, 2, 1, 2, 2, 1, 2, 2, 0, 1, 2, 0, 2, 2, 1, 1, 0, 2, 1, 1, 1, 2, 2, 2, 2, 1, 2, 1, 2, 1, 2, 1, 2, 1, 2, 0, 2, 2, 1, 2, 2, 1, 0, 1, 2, 2, 1, 0, 1, 2, 2, 2, 1, 1, 2, 2, 2, 1, 2, 2, 2, 2, 0, 2, 1, 0, 1, 1, 2, 2, 2, 1, 2, 2, 2, 1, 2, 0, 2, 2, 2, 2, 1, 1, 2, 2, 1, 1, 2, 2, 2, 1, 2, 2, 1, 1, 2, 1, 2, 1, 2, 1, 2, 0, 2, 2, 2, 1, 2, 2, 2, 1, 2, 2, 2, 2, 1, 2, 2, 2, 0, 0, 0, 2, 2, 0, 2, 2, 1, 2, 2, 2, 1, 2, 2, 2, 1, 2, 2, 0, 2, 2, 0, 1, 2, 2, 1, 2, 2, 1, 2, 1, 2, 1, 1, 1, 2, 0, 1, 2, 2, 0, 0, 2, 2, 2, 2, 2, 2, 1, 2, 2, 1, 1, 2, 2, 0, 2, 2, 2, 2, 2, 1, 0, 2, 0, 0, 1, 2, 2, 2, 2, 0, 2, 1, 1, 1, 2, 2, 2, 2, 2, 2, 1, 1, 1, 1, 0, 2, 2, 0, 2, 2, 2, 1, 2, 2, 2, 0, 1, 2, 2, 0, 1, 0, 2, 2, 2, 2, 1, 2, 2, 2, 1, 1, 2, 0, 2, 2, 0, 1, 2, 2, 2, 1, 2, 1, 2, 1, 2, 1, 1, 2, 2, 2, 1, 2, 0, 1, 2, 2, 1, 0, 2, 2, 1, 2, 2, 1, 2, 2, 2, 2, 2, 2, 2, 2, 2, 0, 2, 2, 0, 1, 2, 2, 1, 1, 0, 2, 2, 1, 2, 2, 1, 2, 1, 2, 2, 2, 0, 2, 2, 2, 2, 0, 2, 0, 0, 1, 0, 2, 2, 1, 1, 1, 2, 1, 0, 2, 1, 2, 2, 0, 2, 1, 2, 2, 2, 2, 0, 2, 2, 1, 2, 1, 0, 1, 2, 2, 0, 2, 2, 1, 2, 2, 2, 2, 1, 1, 2, 2, 2, 2, 0, 1, 2, 2, 1, 2, 0, 2, 1, 2, 2, 1, 2, 2, 2, 2, 2, 1, 1, 2, 2, 0, 2, 2, 1, 2, 2, 1, 1, 2, 2, 0, 1, 1, 2, 2, 0, 2, 1, 1, 0, 1, 1, 1, 2, 1, 2, 1, 2, 1, 1, 1, 2, 2, 2, 1, 1, 1, 2, 1, 2, 2, 1, 2, 2, 0, 2, 2, 2, 2, 1, 2, 0, 1, 1, 2, 2, 2, 1, 2, 1, 2, 2, 0, 1, 2, 2, 2, 2, 1, 2, 2, 2, 2, 1, 1, 1, 2, 2, 1, 0, 2, 2, 1, 1, 2, 1, 2, 1, 2, 2, 2, 2, 2, 2, 2, 2, 1, 2, 2, 2, 1, 1, 2, 2, 2, 2, 2, 2, 1, 1, 2, 0, 2, 2, 2, 1, 2, 2, 1, 2, 0, 1, 1, 1, 2, 2, 2, 1, 1, 2, 1, 0, 1, 2, 1, 2, 2, 2, 2, 0, 2, 2, 2, 2, 2, 0, 1, 2, 2, 1, 1, 1, 2, 2, 2, 1, 0, 1, 2, 2, 1, 2, 0, 2, 1, 2, 2, 1, 2, 2, 2, 2, 0, 0, 0, 0, 1, 2, 2, 2, 2, 2, 2, 0, 2, 0, 1, 2, 2, 2, 0, 2, 2, 2, 1, 0, 1, 0, 2, 2, 0, 2, 2, 2, 0, 1, 1, 1, 2, 1, 2, 0, 1, 1, 2, 2, 2, 1, 2, 2, 1, 2, 1, 1, 2, 1, 2, 1, 2, 2, 1, 1, 2, 0, 2, 1, 2, 1, 1, 2, 1, 1, 2, 1, 2, 1, 2, 1, 0, 2, 1, 0, 2, 2, 2, 2, 2, 2, 2, 1, 1, 0, 2, 0, 2, 1, 2, 1, 2, 2, 1, 2, 2, 2, 0, 1, 2, 2, 2, 1, 2, 1, 0, 2, 2, 1, 2, 2, 2, 1, 1, 2, 1, 1, 1, 2, 1, 1, 0, 0, 1, 1, 2, 2, 0, 0, 1, 2, 1, 1, 2, 2, 1, 1, 2, 1, 2, 2, 2, 2, 2, 0, 2, 2, 0, 2, 1, 2, 2, 2, 2, 2, 2, 1, 2, 2, 0, 2, 2, 2, 1, 2, 2, 2, 1, 0, 1, 2, 2, 0, 2, 1, 2, 2, 0, 0, 1, 1, 1, 1, 2, 2, 0, 2, 2, 2, 2, 2, 2, 2, 2, 2, 1, 2, 1, 2, 0, 0, 2, 2, 2, 2, 2, 2, 1, 1, 2, 0, 2, 1, 0, 2, 1, 0, 2, 1, 1, 2, 2, 2, 2, 2, 2, 1, 2, 0, 2, 2, 2, 2, 1, 1, 2, 2, 0, 1, 1, 1, 1, 0, 1, 1, 2, 2, 2, 2, 2, 1, 2, 1, 1, 2, 2, 1, 2, 2, 1, 1, 2, 2, 1, 1, 1, 1, 0, 0, 2, 1, 2, 2, 1, 2, 2, 1, 1, 0, 2, 2, 2, 2, 2, 1, 1, 1, 0, 2, 1, 0, 0, 2, 2, 2, 2, 0, 1, 2, 2, 2, 2, 2, 2, 1, 2, 1, 1, 2, 2, 1, 0, 2, 2, 0, 1, 2, 2, 1, 2, 2, 1, 2, 1, 2, 2, 2, 0, 0, 2, 1, 1, 2, 2, 1, 2, 0, 2, 2, 2, 2, 0, 2, 2, 1, 2, 2, 0, 2, 2, 2, 2, 1, 2, 2, 1, 2, 0, 2, 1, 1, 2, 1, 0, 1, 2, 0, 2, 0, 1, 2, 2, 2, 2, 0, 2, 1, 1, 2, 2, 1, 2, 1, 2, 1, 2, 2, 2, 1, 2, 1, 1, 2, 2, 2, 2, 2, 1, 0, 2, 2, 1, 0, 2, 2, 2, 1, 2, 1, 2, 1, 2, 2, 1, 2, 1, 2, 1, 2, 2, 2, 2, 2, 0, 0, 2, 0, 0, 1, 1, 1, 2, 1, 1, 1, 2, 2, 1, 2, 2, 2, 2, 2, 1, 2, 2, 1, 2, 2, 1, 2, 2, 2, 1, 2, 0, 1, 1, 2, 1, 2, 2, 1, 1, 2, 1, 1, 2, 1, 0, 1, 2, 2, 1, 1, 1, 2, 2, 0, 1, 2, 0, 2, 1, 2, 1, 2, 0, 1, 2, 2, 0, 1, 2, 1, 0, 2, 2, 1, 2, 2, 2, 2, 1, 0, 1, 1, 1, 1, 2, 1, 2, 2, 1, 1, 2, 2, 2, 1, 0, 2, 0, 0, 2, 2, 1, 1, 2, 2, 2, 1, 2, 2, 2, 2, 1, 0, 2, 2, 2, 2, 2, 2, 1, 1, 2, 2, 2, 2, 1, 1, 2, 2, 1, 2, 0, 1, 1, 2, 2, 0, 0, 2, 2, 2, 1, 2, 2, 1, 0, 1, 2, 2, 1, 2, 0, 2, 0, 1, 2, 1, 0, 2, 1, 0, 2, 2, 0, 2, 2, 2, 2, 2, 2, 2, 2, 2, 1, 0, 0, 1, 1, 1, 2, 1, 1, 1, 2, 1, 2, 2, 2, 1, 2, 2, 2, 2, 2, 0, 0, 2, 2, 2, 2, 1, 2, 1, 1, 2, 1, 2, 1, 1, 1, 2, 2, 2, 1, 2, 2, 2, 1, 1, 2, 2, 2, 2, 1, 2, 1, 2, 1, 2, 1, 2, 1, 2, 2, 2, 2, 2, 2, 2, 0, 2, 2, 2, 1, 2, 2, 2, 2, 2, 2, 2, 1, 2, 2, 2, 0, 2, 0, 1, 0, 1, 1, 2, 2, 2, 2, 2, 1, 2, 2, 2, 1, 1, 2, 1, 2, 2, 2, 2, 2, 1, 1, 2, 2, 2, 2, 2, 1, 1, 0, 2, 2, 0, 0, 2, 2, 2, 2, 2, 2, 2, 2, 1, 2, 2, 1, 2, 2, 2, 2, 2, 0, 1, 2, 2, 2, 2, 0, 2, 2, 1, 2, 0, 2, 2, 1, 1, 1, 1, 2, 2, 2, 1, 2, 2, 2, 1, 2, 1, 1, 2, 0, 2, 2, 0, 2, 0, 1, 1, 2, 2, 2, 1, 2, 2, 0, 2, 2, 2, 2, 2, 1, 2, 2, 2, 2, 1, 2, 0, 2, 2, 1, 1, 2, 1, 2, 1, 1, 2, 2, 1, 0, 2, 2, 2, 2, 1, 2, 2, 1, 2, 2, 1, 2, 0, 0, 2, 1, 2, 2, 2, 1, 2, 1, 2, 1, 2, 2, 2, 2, 2, 2, 0, 1, 1, 2, 2, 0, 2, 2, 2, 2, 0, 0, 2, 2, 2, 2, 2, 2, 2, 0, 1, 1, 2, 2, 1, 2, 2, 2, 2, 1, 1, 2, 2, 2, 2, 0, 2, 0, 2, 2, 2, 2, 1, 2, 1, 0, 2, 1, 1, 2, 0, 2, 0, 0, 2, 0, 2, 2, 1, 2, 1, 2, 2, 2, 1, 2, 0, 2, 2, 2, 1, 2, 1, 2, 0, 2, 2, 1, 0, 2, 2, 2, 2, 2, 0, 2, 2, 1, 1, 1, 1, 1, 1, 2, 1, 1, 1, 1, 0, 2, 2, 2, 2, 1, 1, 0, 0, 2, 2, 2, 0, 2, 2, 1, 2, 2, 0, 1, 2, 2, 2, 1, 2, 2, 0, 2, 2, 2, 1, 2, 2, 0, 1, 2, 1, 1, 1, 2, 1, 2, 2, 0, 2, 1, 2, 2, 1, 2, 0, 2, 1, 2, 2, 1, 2, 2, 2, 2, 2, 1, 0, 1, 2, 2, 1, 2, 0, 2, 0, 1, 2, 2, 2, 2, 0, 2, 2, 2, 0, 2, 0, 0, 1, 0, 1, 2, 1, 0, 1, 1, 2, 1, 1, 1, 2, 2, 0, 1, 1, 2, 2, 0, 1, 2, 2, 2, 2, 2, 2, 1, 0, 1, 2, 1, 2, 0, 2, 1, 2, 1, 2, 1, 2, 1, 2, 2, 2, 1, 1, 1, 1, 1, 2, 1, 2, 1, 2, 2, 0, 2, 0, 2, 1, 2, 2, 0, 2, 0, 2, 1, 2, 2, 1, 2, 1, 2, 1, 1, 2, 2, 2, 1, 2, 0, 1, 1, 2, 0, 2, 2, 2, 1, 1, 1, 0, 2, 2, 2, 0, 2, 1, 2, 2, 2, 2, 1, 1, 0, 2, 2, 2, 0, 2, 2, 1, 1, 2, 0, 2, 2, 2, 0, 2, 2, 1, 2, 2, 1, 1, 2, 0, 0, 2, 2, 0, 2, 2, 2, 1, 2, 1, 0, 2, 0, 1, 0, 1, 2, 2, 1, 0, 0, 0, 1, 0, 2, 2, 1, 1, 0, 1, 2, 1, 1, 2, 2, 1, 2, 0, 0, 1, 0, 2, 2, 2, 2, 2, 2, 0, 2, 0, 1, 1, 1, 2, 1, 2, 2, 0, 1, 2, 2, 2, 1, 2, 1, 1, 0, 1, 2, 2, 1, 1, 2, 2, 1, 2, 2, 0, 2, 1, 2, 1, 1, 2, 2, 1, 1, 1, 2, 0, 2, 2, 2, 1, 0, 2, 0, 1, 2, 2, 2, 2, 2, 2, 2, 1, 2, 2, 0, 2, 2, 1, 2, 2, 2, 0, 1, 2, 1, 1, 1, 2, 2, 2, 0, 1, 0, 0, 2, 2, 2, 2, 2, 1, 0, 2, 2, 2, 2, 1, 2, 2, 2, 1, 1, 2, 1, 1, 2, 0, 2, 2, 0, 2, 0, 2, 2, 2, 2, 2, 2, 2, 2, 2, 2, 2, 2, 2, 1, 0, 2, 2, 0, 2, 1, 2, 1, 2, 2, 1, 2, 1, 1, 1, 2, 2, 0, 1, 2, 2, 2, 1, 2, 2, 0, 2, 2, 0, 2, 1, 1, 0, 2, 2, 1, 2, 2, 2, 2, 2, 1, 2, 2, 2, 1, 2, 1, 0, 2, 2, 1, 1, 2, 1, 0, 1, 1, 2, 2, 1, 1, 2, 1, 2, 1, 2, 1, 2, 2, 2, 2, 2, 1, 1, 2, 2, 2, 0, 2, 1, 0, 1, 2, 2, 1, 2, 1, 0, 0, 2, 1, 2, 2, 1, 2, 0, 2, 1, 2, 1, 2, 0, 2, 2, 2, 0, 0, 2, 2, 0, 2, 2, 2, 2, 2, 0, 1, 2, 2, 2, 1, 2, 2, 2, 1, 1, 2, 2, 2, 2, 2, 1, 1, 1, 1, 1, 2, 0, 2, 1, 2, 2, 2, 1, 2, 2, 2, 2, 2, 2, 1, 2, 2, 1, 0, 2, 2, 1, 0, 2, 2, 2, 2, 0, 2, 1, 2, 0, 1, 2, 1, 2, 2, 1, 2, 0, 1, 2, 1, 1, 1, 2, 2, 2, 2, 2, 0, 2, 2, 1, 2, 2, 2, 2, 1, 2, 2, 1, 2, 0, 2, 1, 2, 2, 2, 2, 2, 2, 2, 2, 1, 0, 2, 0, 1, 0, 2, 1, 2, 1, 2, 1, 0, 1, 2, 2, 0, 0, 2, 1, 1, 2, 2, 1, 0, 2, 2, 2, 1, 2, 1, 2, 1, 2, 2, 1, 0, 2, 2, 2, 1, 2, 2, 1, 2, 2, 2, 2, 1, 2, 2, 2, 1, 2, 1, 0, 2, 2, 0, 2, 2, 2, 0, 2, 2, 2, 1, 1, 2, 2, 2, 2, 2, 2, 0, 2, 1, 2, 1, 2, 2, 0, 1, 0, 1, 1, 1, 2, 1, 2, 1, 2, 2, 1, 2, 2, 1, 2, 2, 0, 1, 0, 2, 2, 1, 2, 0, 2, 1, 0, 2, 2, 2, 2, 1, 2, 0, 2, 2, 2, 1, 0, 0, 2, 1, 1, 1, 2, 1, 2, 2, 2, 2, 2, 2, 0, 2, 2, 2, 2, 2, 1, 2, 2, 2, 2, 1, 1, 0, 1, 1, 2, 2, 1, 2, 0, 1, 2, 2, 2, 0, 2, 2, 1, 2, 1, 1, 2, 2, 2, 1, 1, 2, 2, 0, 0, 2, 2, 0, 2, 0, 2, 1, 2, 2, 2, 1, 1, 2, 2, 0, 2, 1, 2, 2, 2, 2, 2, 1, 2, 2, 1, 1, 2, 1, 2, 1, 1, 2, 2, 2, 2, 2, 2, 1, 2, 1, 1, 0, 1, 1, 2, 0, 1, 1, 2, 2, 2, 2, 2, 1, 2, 1, 2, 1, 2, 0, 1, 2, 2, 2, 2, 1, 2, 1, 2, 2, 2, 1, 0, 2, 2, 2, 2, 2, 1, 2, 1, 2, 2, 2, 2, 2, 1, 2, 0, 1, 0, 2, 2, 2, 2, 1, 2, 1, 2, 1, 2, 2, 2, 2, 2, 2, 2, 1, 2, 2, 1, 2, 2, 2, 2, 2, 2, 1, 2, 2, 0, 1, 1, 1, 0, 1, 2, 2, 2, 2, 2, 1, 2, 2, 1, 2, 1, 1, 2, 1, 1, 1, 2, 0, 2, 0, 1, 0, 2, 2, 2, 1, 2, 2, 2, 1, 1, 0, 2, 1, 2, 2, 1, 1, 0, 2, 1, 0, 2, 2, 2, 2, 2, 2, 2, 1, 2, 2, 2, 2, 1, 2, 2, 2, 1, 2, 0, 2, 2, 2, 2, 0, 2, 2, 2, 1, 2, 1, 2, 2, 2, 2, 0, 2, 2, 2, 1, 1, 2, 2, 1, 1, 1, 0, 2, 0, 2, 2, 1, 2, 2, 0, 0, 2, 2, 2, 2, 2, 2, 1, 2, 2, 2, 1, 0, 0, 1, 2, 2, 2, 0, 2, 2, 0, 2, 0, 1, 2, 2, 2, 2, 0, 2, 2, 1, 1, 2, 2, 0, 1, 2, 1, 2, 2, 1, 1, 2, 1, 2, 2, 0, 0, 2, 2, 2, 2, 1, 1, 2, 2, 2, 1, 2, 1, 2, 2, 0, 2, 2, 2, 2, 2, 1, 1, 2, 1, 1, 1, 2, 2, 1, 1, 2, 0, 1, 2, 2, 0, 2, 2, 1, 2, 1, 2, 2, 2, 0, 2, 1, 2, 2, 2, 2, 0, 2, 1, 2, 1, 0, 2, 1, 0, 2, 2, 2, 2, 2, 0, 2, 2, 2, 1, 2, 2, 2, 2, 2, 1, 1, 2, 1, 1, 0, 2, 2, 2, 2, 2, 1, 0, 1, 1, 2, 2, 1, 2, 1, 2, 1, 1, 2, 2, 1, 2, 1, 2, 1, 1, 2, 1, 2, 1, 0, 2, 2, 2, 2, 0, 1, 0, 2, 2, 1, 1, 2, 2, 2, 2, 2, 2, 1, 2, 2, 2, 2, 2, 1, 2, 2, 2, 1, 1, 2, 2, 1, 2, 2, 2, 2, 0, 2, 2, 0, 2, 1, 2, 1, 2, 2, 1, 2, 2, 0, 2, 2, 1, 2, 2, 2, 1, 0, 1, 1, 1, 2, 2, 1, 1, 1, 1, 2, 2, 2, 2, 1, 2, 1, 2, 2, 1, 2, 2, 1, 2, 1, 2, 1, 2, 1, 1, 1, 0, 2, 2, 2, 2, 0, 2, 0, 0, 1, 2, 0, 2, 2, 2, 2, 2, 1, 2, 2, 0, 0, 2, 1, 2, 0, 1, 2, 2, 2, 1, 1, 2, 2, 2, 1, 2, 2, 2, 2, 2, 1, 2, 2, 0, 2, 2, 2, 1, 1, 1, 1, 2, 1, 2, 2, 2, 2, 2, 2, 2, 2, 1, 2, 1, 1, 2, 2, 2, 0, 2, 0, 0, 0, 2, 1, 2, 2, 1, 2, 0, 2, 0, 2, 2, 1, 0, 1, 2, 2, 0, 1, 2, 2, 1, 2, 2, 1, 2, 1, 2, 2, 2, 2, 0, 2, 2, 2, 0, 0, 2, 0, 0, 2, 2, 2, 2, 1, 2, 2, 1, 0, 1, 1, 2, 0, 0, 2, 0, 0, 2, 2, 1, 2, 2, 2, 2, 2, 2, 2, 2, 2, 0, 2, 1, 1, 0, 2, 2, 2, 2, 2, 2, 1, 2, 0, 1, 1, 1, 2, 2, 1, 2, 2, 0, 2, 2, 2, 1, 0, 2, 1, 2, 1, 2, 2, 2, 2, 1, 2, 1, 0, 0, 2, 2, 2, 1, 2, 1, 2, 2, 2, 2, 2, 0, 1, 2, 2, 0, 2, 2, 1, 1, 2, 1, 2, 2, 1, 2, 2, 2, 2, 2, 2, 1, 2, 2, 2, 2, 2, 2, 2, 2, 2, 2, 0, 2, 0, 2, 2, 2, 2, 1, 2, 2, 2, 0, 2, 1, 2, 0, 2, 2, 2, 1, 0, 0, 2, 1, 2, 2, 1, 2, 2, 2, 2, 0, 1, 2, 1, 2, 2, 1, 1, 2, 1, 1, 2, 0, 2, 2, 2, 1, 1, 2, 2, 2, 2, 1, 0, 0, 2, 2, 0, 2, 2, 2, 1, 1, 2, 2, 2, 2, 2, 2, 2, 2, 0, 1, 2, 2, 1, 0, 2, 1, 1, 2, 2, 1, 1, 2, 1, 2, 1, 2, 1, 2, 1, 1, 2, 0, 2, 2, 1, 0, 2, 2, 2, 1, 2, 2, 1, 2, 2, 1, 2, 2, 2, 0, 1, 2, 1, 2, 2, 1, 1, 2, 2, 1, 0, 2, 1, 2, 2, 1, 2, 0, 2, 2, 2, 1, 2, 2, 1, 0, 1, 1, 2, 2, 2, 2, 1, 1, 2, 2, 2, 2, 2, 2, 0, 1, 0, 1, 2, 2, 0, 2, 1, 1, 2, 2, 1, 2, 1, 0, 2, 1, 0, 2, 2, 2, 2, 1, 2, 2, 2, 2, 1, 2, 2, 1, 0, 2, 2, 2, 0, 1, 1, 0, 2, 2, 0, 2, 1, 2, 1, 1, 1, 2, 1, 2, 2, 2, 1, 1, 1, 2, 0, 2, 1, 1, 2, 2, 0, 2, 2, 0, 1, 2, 0, 1, 0, 0, 2, 2, 2, 2, 2, 2, 1, 1, 1, 1, 2, 2, 1, 1, 1, 2, 0, 1, 2, 2, 2, 2, 1, 0, 2, 0, 2, 2, 0, 1, 0, 2, 0, 0, 2, 1, 1, 2, 0, 1, 2, 2, 2, 2, 1, 2, 2, 2, 2, 1, 2, 2, 0, 0, 2, 1, 1, 1, 2, 2, 1, 2, 2, 1, 1, 2, 2, 1, 1, 1, 2, 2, 2, 2, 1, 2, 2, 0, 2, 0, 2, 2, 1, 2, 0, 2, 2, 2, 1, 2, 1, 2, 2, 2, 1, 2, 1, 2, 1, 2, 2, 1, 1, 0, 2, 2, 0, 2, 2, 1, 2, 2, 2, 1, 2, 2, 1, 0, 1, 1, 2, 2, 2, 2, 2, 2, 2, 1, 0, 1, 1, 2, 1, 2, 2, 0, 0, 2, 1, 2, 2, 2, 2, 0, 2, 2, 1, 2, 2, 2, 2, 2, 1, 1, 1, 1, 0, 2, 2, 2, 2, 1, 1, 2, 2, 0, 1, 1, 2, 1, 2, 2, 2, 2, 2, 2, 1, 2, 0, 2, 2, 2, 1, 2, 0, 2, 1, 2, 2, 2, 1, 2, 2, 2, 1, 2, 2, 2, 1, 2, 0, 1, 1, 0, 2, 1, 0, 2, 2, 2, 1, 2, 1, 1, 2, 0, 1, 2, 2, 2, 2, 2, 1, 1, 1, 2, 1, 2, 2, 1, 2, 2, 2, 1, 1, 1, 2, 1, 0, 1, 0, 0, 2, 2, 2, 0, 1, 1, 2, 1, 1, 2, 2, 2, 2, 0, 0, 2, 2, 2, 1, 0, 2, 1, 2, 2, 1, 1, 2, 2, 2, 2, 2, 1, 1, 2, 2, 2, 2, 2, 1, 2, 2, 2, 2, 1, 2, 1, 2, 2, 1, 2, 2, 1, 2, 1, 2, 1, 1, 1, 1, 0, 1, 1, 2, 2, 1, 2, 2, 1, 2, 2, 1, 1, 2, 0, 1, 2, 2, 1, 2, 2, 1, 1, 2, 1, 0, 2, 1, 2, 2, 2, 1, 2, 1, 1, 1, 1, 0, 1, 1, 2, 1, 1, 0, 1, 1, 0, 2, 0, 2, 0, 0, 2, 1, 2, 2, 1, 2, 2, 0, 1, 1, 2, 2, 0, 0, 2, 1, 2, 2, 2, 0, 1, 2, 1, 2, 2, 2, 0, 2, 1, 2, 2, 1, 0, 0, 0, 1, 1, 1, 1, 1, 1, 2, 0, 0, 2, 2, 2, 2, 1, 1, 2, 2, 2, 2, 2, 2, 0, 1, 2, 1, 1, 1, 2, 0, 1, 2, 2, 2, 1, 2, 2, 2, 1, 2, 2, 2, 1, 2, 1, 0, 2, 1, 1, 2, 2, 2, 2, 2, 2, 2, 2, 2, 1, 1, 2, 2, 2, 2, 1, 1, 2, 0, 2, 2, 2, 2, 1, 0, 2, 1, 1, 2, 2, 2, 2, 1, 1, 0, 1, 2, 2, 1, 0, 2, 0, 2, 2, 1, 2, 1, 2, 1, 0, 2, 2, 2, 2, 2, 1, 2, 2, 2, 2, 2, 1, 1, 2, 2, 0, 2, 1, 1, 2, 1, 2, 1, 0, 1, 2, 1, 2, 2, 0, 0, 2, 2, 1, 1, 2, 2, 2, 1, 1, 2, 2, 2, 2, 2, 2, 2, 2, 0, 1, 2, 0, 2, 2, 1, 2, 2, 2, 0, 2, 2, 0, 2, 1, 1, 0, 2, 0, 1, 2, 2, 2, 1, 1, 2, 2, 2, 2, 2, 1, 1, 1, 2, 2, 2, 2, 2, 2, 2, 2, 2, 1, 2, 2, 2, 2, 2, 2, 2, 2, 1, 2, 2, 1, 1, 2, 2, 1, 1, 2, 2, 1, 2, 2, 1, 2, 2, 1, 2, 1, 2, 2, 2, 1, 2, 1, 2, 1, 0, 1, 2, 2, 2, 2, 1, 2, 2, 1, 1, 1, 1, 1, 2, 2, 0, 2, 2, 1, 2, 2, 1, 2, 1, 1, 2, 1, 1, 2, 0, 2, 1, 2, 2, 2, 2, 1, 2, 1, 2, 2, 2, 0, 1, 2, 2, 1, 1, 2, 2, 2, 2, 2, 1, 2, 1, 1, 0, 2, 2, 0, 2, 1, 2, 2, 2, 2, 1, 1, 2, 1, 2, 2, 0, 2, 1, 2, 2, 2, 2, 2, 1, 0, 0, 1, 2, 1, 2, 2, 2, 2, 2, 2, 2, 0, 2, 2, 2, 1, 2, 2, 2, 2, 2, 2, 2, 2, 2, 0, 2, 2, 2, 2, 0, 2, 0, 2, 2, 2, 2, 1, 2, 2, 2, 2, 1, 2, 0, 1, 2, 2, 2, 1, 2, 1, 2, 1, 2, 0, 1, 2, 2, 2, 2, 1, 2, 2, 1, 1, 1, 1, 1, 2, 2, 2, 2, 1, 2, 2, 2, 1, 2, 2, 0, 2, 2, 2, 1, 2, 2, 2, 1, 2, 2, 1, 1, 2, 1, 0, 2, 2, 1, 2, 2, 2, 1, 2, 2, 2, 1, 0, 2, 2, 2, 2, 1, 2, 0, 2, 2, 2, 2, 2, 1, 1, 2, 2, 2, 0, 2, 2, 2, 1, 1, 1, 2, 2, 2, 2, 2, 1, 1, 2, 1, 2, 1, 1, 2, 2, 2, 2, 2, 2, 2, 1, 1, 2, 2, 0, 1, 2, 0, 2, 1, 2, 1, 1, 1, 1, 0, 2, 2, 2, 2, 2, 2, 2, 1, 2, 1, 2, 1, 2, 1, 2, 2, 2, 2, 2, 2, 0, 1, 2, 0, 2, 2, 2, 2, 1, 1, 2, 1, 0, 2, 2, 2, 2, 2, 2, 2, 2, 0, 0, 1, 2, 2, 2, 2, 0, 0, 2, 2, 1, 2, 2, 2, 1, 2, 2, 2, 1, 1, 2, 2, 1, 2, 2, 1, 2, 0, 2, 2, 1, 0, 2, 1, 2, 2, 2, 0, 2, 2, 1, 1, 2, 1, 2, 1, 0, 2, 0, 2, 1, 2, 1, 1, 2, 2, 2, 2, 2, 2, 1, 1, 2, 2, 0, 1, 2, 0, 2, 2, 2, 1, 2, 2, 2, 1, 2, 2, 2, 1, 0, 1, 1, 2, 1, 0, 2, 1, 2, 1, 0, 0, 0, 2, 2, 1, 2, 0, 2, 1, 0, 2, 0, 2, 0, 2, 0, 2, 0, 2, 0, 1, 0, 1, 1, 1, 2, 2, 2, 0, 1, 2, 1, 2, 2, 0, 1, 2, 2, 1, 2, 1, 2, 1, 2, 1, 0, 0, 2, 2, 1, 1, 1, 2, 1, 2, 1, 2, 1, 2, 0, 1, 2, 2, 0, 2, 1, 1, 2, 2, 2, 0, 2, 0, 2, 2, 1, 1, 0, 0, 1, 2, 2, 2, 2, 1, 2, 2, 0, 2, 2, 2, 1, 0, 2, 2, 2, 1, 1, 0, 0, 2, 1, 2, 1, 1, 1, 1, 0, 1, 2, 1, 2, 2, 2, 2, 1, 1, 1, 1, 2, 2, 2, 1, 2, 2, 2, 1, 2, 1, 1, 0, 2, 2, 2, 2, 1, 1, 1, 2, 2, 1, 2, 2, 0, 2, 0, 2, 1, 0, 1, 2, 0, 2, 2, 1, 2, 2, 1, 1, 1, 0, 2, 2, 2, 1, 2, 1, 2, 2, 0, 2, 2, 2, 2, 2, 2, 2, 2, 2, 1, 2, 2, 2, 2, 1, 2, 2, 2, 0, 2, 1, 1, 1, 0, 1, 1, 2, 2, 1, 1, 2, 2, 1, 2, 2, 2, 2, 2, 2, 2, 1, 2, 2, 0, 0, 2, 2, 2, 1, 2, 1, 2, 1, 1, 2, 2, 1, 2, 2, 2, 2, 0, 1, 2, 2, 2, 2, 1, 1, 0, 1, 2, 2, 1, 2, 0, 1, 2, 2, 1, 0, 1, 1, 2, 1, 1, 1, 2, 0, 0, 2, 2, 0, 1, 2, 2, 1, 1, 2, 2, 2, 2, 0, 0, 2, 2, 2, 2, 2, 1, 1, 2, 1, 1, 2, 2, 2, 1, 1, 2, 2, 0, 2, 1, 2, 1, 2, 2, 1, 2, 2, 2, 1, 2, 0, 2, 2, 1, 1, 2, 2, 2, 2, 2, 2, 2, 2, 2, 1, 2, 2, 2, 0, 2, 1, 2, 1, 1, 1, 2, 2, 2, 2, 0, 1, 2, 1, 2, 2, 2, 2, 2, 2, 1, 1, 2, 2, 2, 2, 2, 1, 0, 1, 2, 1, 2, 2, 0, 2, 2, 1, 2, 2, 1, 2, 2, 1, 1, 0, 1, 2, 1, 2, 2, 2, 2, 2, 2, 1, 2, 2, 0, 1, 1, 1, 2, 2, 1, 2, 2, 1, 1, 1, 2, 1, 2, 2, 1, 2, 1, 2, 1, 0, 1, 1, 2, 1, 1, 2, 2, 2, 1, 2, 1, 1, 0, 2, 2, 2, 1, 2, 2, 0, 2, 0, 0, 1, 2, 2, 1, 2, 2, 2, 2, 2, 1, 0, 2, 2, 1, 2, 1, 1, 2, 1, 2, 2, 2, 1, 2, 2, 2, 1, 1, 2, 2, 1, 1, 2, 2, 1, 2, 1, 1, 2, 2, 1, 2, 2, 2, 1, 2, 2, 1, 1, 0, 2, 1, 1, 2, 1, 2, 0, 0, 2, 2, 2, 1, 2, 1, 2, 1, 1, 2, 2, 2, 2, 2, 1, 2, 2, 1, 0, 1, 2, 2, 1, 1, 2, 2, 2, 2, 2, 2, 0, 2, 2, 2, 2, 2, 2, 1, 1, 2, 2, 2, 2, 1, 2, 2, 2, 2, 2, 2, 2, 2, 1, 2, 2, 2, 2, 2, 0, 2, 1, 2, 2, 2, 2, 1, 2, 0, 2, 1, 2, 2, 2, 2, 2, 2, 1, 2, 2, 1, 2, 2, 2, 2, 1, 1, 2, 1, 1, 1, 2, 2, 1, 2, 2, 1, 2, 1, 2, 2, 2, 2, 0, 2, 2, 1, 2, 1, 0, 2, 2, 2, 2, 2, 1, 2, 2, 0, 2, 1, 2, 1, 1, 1, 1, 2, 1, 1, 1, 1, 2, 2, 1, 1, 1, 1, 1, 2, 2, 2, 0, 1, 2, 1, 2, 2, 1, 2, 1, 2, 1, 1, 2, 2, 1, 2, 0, 0, 1, 2, 1, 0, 2, 0, 2, 0, 2, 2, 2, 1, 1, 2, 1, 2, 1, 1, 0, 0, 0, 2, 1, 2, 0, 2, 2, 2, 2, 2, 1, 2, 1, 2, 1, 2, 1, 1, 2, 2, 0, 2, 2, 2, 2, 2, 0, 2, 1, 1, 0, 2, 1, 0, 2, 2, 0, 2, 1, 0, 1, 2, 1, 0, 2, 2, 2, 1, 2, 2, 1, 2, 0, 2, 1, 0, 1, 1, 2, 1, 2, 2, 2, 1, 2, 2, 1, 2, 2, 1, 1, 1, 2, 0, 1, 2, 1, 0, 1, 1, 2, 0, 2, 2, 1, 2, 0, 2, 2, 1, 2, 2, 1, 2, 2, 2, 2, 2, 2, 2, 0, 1, 2, 2, 2, 2, 1, 1, 2, 2, 2, 2, 1, 1, 2, 2, 1, 2, 0, 1, 1, 2, 1, 1, 1, 0, 0, 2, 2, 1, 2, 2, 2, 2, 1, 2, 1, 1, 1, 2, 2, 1, 0, 2, 2, 1, 2, 2, 1, 1, 1, 2, 2, 2, 2, 0, 1, 2, 2, 1, 1, 2, 1, 1, 2, 2, 2, 1, 1, 1, 1, 2, 1, 2, 0, 0, 2, 2, 1, 1, 2, 1, 2, 1, 2, 2, 2, 2, 2, 1, 2, 2, 2, 1, 2, 0, 1, 2, 2, 2, 0, 1, 2, 1, 1, 0, 2, 1, 0, 1, 2, 2, 2, 1, 2, 2, 1, 1, 1, 2, 1, 1, 2, 1, 2, 1, 2, 2, 2, 2, 2, 2, 2, 2, 0, 2, 2, 2, 2, 2, 2, 2, 2, 2, 1, 1, 2, 2, 1, 2, 1, 2, 2, 2, 2, 2, 2, 1, 1, 1, 2, 2, 1, 1, 1, 2, 2, 2, 2, 2, 0, 2, 0, 0, 2, 0, 2, 1, 2, 0, 0, 2, 1, 2, 2, 1, 2, 2, 1, 1, 2, 1, 2, 1, 2, 2, 1, 2, 0, 2, 2, 1, 2, 2, 2, 2, 2, 0, 2, 2, 2, 2, 2, 2, 2, 1, 2, 1, 2, 1, 2, 0, 1, 1, 1, 1, 2, 1, 2, 2, 1, 2, 2, 2, 1, 1, 2, 1, 1, 1, 2, 2, 2, 0, 2, 1, 0, 1, 2, 2, 2, 1, 1, 2, 0, 1, 2, 1, 1, 2, 0, 2, 0, 2, 2, 2, 2, 2, 1, 1, 2, 2, 2, 2, 2, 0, 1, 2, 2, 1, 0, 2, 2, 2, 2, 2, 2, 0, 2, 1, 1, 2, 2, 2, 0, 1, 2, 2, 0, 1, 1, 2, 1, 1, 2, 2, 2, 0, 2, 2, 2, 2, 1, 2, 1, 0, 2, 2, 0, 1, 1, 2, 2, 2, 0, 1, 0, 2, 1, 2, 2, 2, 2, 2, 1, 1, 2, 0, 0, 2, 2, 1, 2, 0, 1, 1, 0, 2, 2, 1, 2, 1, 2, 2, 0, 1, 1, 2, 2, 2, 2, 1, 0, 2, 2, 0, 2, 2, 2, 1, 1, 2, 1, 2, 0, 1, 2, 2, 2, 2, 2, 2, 2, 0, 2, 2, 2, 1, 2, 0, 2, 2, 0, 1, 1, 2, 2, 0, 1, 0, 2, 2, 1, 1, 2, 2, 2, 1, 1, 2, 2, 2, 1, 0, 1, 1, 0, 1, 2, 2, 2, 1, 1, 2, 1, 2, 2, 2, 1, 1, 2, 2, 2, 2, 0, 2, 2, 2, 2, 2, 2, 2, 2, 1, 2, 2, 2, 1, 2, 2, 2, 1, 1, 2, 2, 2, 2, 2, 1, 2, 0, 0, 2, 2, 2, 0, 2, 1, 2, 0, 2, 1, 2, 1, 2, 0, 2, 2, 2, 2, 2, 2, 0, 1, 2, 2, 1, 2, 2, 0, 2, 2, 0, 2, 2, 2, 1, 2, 2, 1, 0, 2, 2, 2, 2, 0, 1, 2, 2, 0, 2, 1, 1, 2, 0, 2, 1, 1, 2, 2, 0, 2, 2, 2, 0, 0, 2, 2, 0, 2, 2, 2, 1, 1, 2, 2, 1, 0, 2, 1, 0, 2, 0, 2, 2, 2, 2, 2, 0, 2, 1, 1, 2, 0, 1, 1, 2, 2, 1, 1, 0, 2, 1, 0, 1, 2, 2, 1, 2, 2, 2, 2, 2, 0, 2, 1, 2, 0, 2, 0, 1, 2, 1, 2, 2, 1, 1, 2, 1, 2, 2, 2, 2, 2, 2, 1, 1, 2, 1, 0, 2, 0, 2, 2, 2, 1, 1, 2, 1, 2, 2, 2, 2, 1, 1, 2, 0, 2, 2, 1, 1, 2, 2, 2, 2, 2, 1, 1, 2, 2, 2, 0, 0, 2, 0, 0, 2, 0, 2, 2, 2, 0, 1, 1, 1, 2, 2, 2, 2, 2, 1, 2, 2, 2, 2, 2, 0, 2, 1, 2, 2, 0, 0, 2, 0, 2, 2, 2, 2, 0, 2, 2, 1, 1, 2, 1, 2, 2, 2, 2, 2, 2, 0, 2, 0, 1, 1, 2, 2, 2, 1, 0, 2, 1, 0, 0, 2, 2, 1, 1, 2, 2, 2, 2, 2, 1, 2, 2, 2, 2, 0, 2, 1, 2, 2, 2, 2, 2, 1, 0, 2, 1, 2, 2, 2, 2, 2, 1, 2, 2, 0, 2, 2, 1, 1, 2, 2, 0, 2, 0, 2, 2, 2, 0, 2, 2, 1, 1, 0, 1, 2, 2, 2, 1, 1, 1, 0, 1, 2, 1, 2, 2, 2, 2, 2, 2, 1, 2, 2, 1, 1, 0, 1, 0, 1, 2, 2, 1, 2, 2, 0, 2, 2, 1, 2, 2, 0, 1, 2, 2, 0, 2, 1, 1, 2, 2, 2, 2, 2, 2, 1, 2, 1, 2, 2, 2, 2, 2, 2, 2, 2, 2, 2, 2, 2, 1, 2, 2, 2, 2, 1, 2, 1, 2, 2, 2, 0, 2, 2, 0, 0, 0, 2, 2, 1, 2, 1, 1, 1, 1, 0, 2, 2, 1, 2, 2, 2, 2, 2, 2, 0, 0, 2, 1, 1, 1, 2, 1, 2, 2, 0, 2, 0, 2, 0, 1, 2, 2, 1, 2, 1, 1, 1, 2, 2, 1, 2, 2, 2, 2, 0, 1, 2, 2, 2, 2, 2, 2, 2, 1, 0, 2, 0, 2, 2, 2, 2, 2, 2, 2, 2, 2, 2, 0, 2, 1, 1, 1, 2, 1, 2, 0, 2, 1, 0, 0, 0, 2, 1, 1, 0, 2, 2, 2, 2, 2, 2, 2, 2, 0, 2, 1, 0, 2, 2, 1, 0, 0, 1, 1, 1, 0, 2, 1, 2, 2, 2, 2, 2, 1, 0, 2, 2, 2, 2, 2, 2, 2, 1, 0, 1, 1, 1, 0, 2, 2, 1, 0, 2, 2, 1, 2, 2, 2, 2, 1, 2, 0, 2, 2, 2, 2, 0, 2, 2, 1, 2, 2, 0, 1, 2, 2, 1, 1, 1, 0, 2, 2, 0, 2, 1, 1, 2, 1, 2, 1, 1, 2, 1, 2, 2, 2, 2, 2, 1, 1, 2, 1, 1, 0, 1, 2, 2, 2, 2, 1, 2, 1, 2, 1, 2, 2, 1, 1, 1, 1, 2, 2, 1, 1, 1, 2, 2, 0, 2, 2, 1, 1, 1, 2, 1, 2, 0, 1, 2, 2, 0, 2, 1, 2, 2, 2, 1, 2, 1, 1, 0, 1, 1, 2, 2, 0, 1, 0, 0, 2, 2, 0, 2, 1, 2, 0, 1, 2, 2, 2, 0, 2, 1, 2, 2, 1, 2, 2, 2, 2, 2, 2, 2, 0, 2, 2, 0, 2, 1, 2, 0, 1, 1, 2, 1, 2, 1, 2, 0, 2, 1, 2, 2, 0, 1, 2, 2, 0, 0, 2, 2, 2, 1, 2, 0, 2, 1, 1, 1, 2, 2, 2, 1, 2, 2, 2, 2, 0, 2, 2, 2, 1, 0, 2, 2, 1, 1, 1, 2, 1, 2, 2, 1, 1, 2, 2, 1, 0, 2, 1, 2, 1, 2, 2, 2, 0, 2, 2, 2, 1, 2, 2, 1, 2, 1, 1, 2, 2, 2, 2, 2, 0, 2, 1, 2, 1, 2, 2, 2, 2, 2, 1, 1, 1, 2, 2, 2, 2, 2, 1, 1, 2, 2, 2, 2, 2, 2, 2, 0, 2, 0, 2, 1, 2, 0, 2, 1, 1, 1, 2, 2, 2, 2, 0, 1, 0, 2, 2, 1, 1, 2, 0, 2, 1, 2, 2, 0, 2, 2, 0, 2, 2, 0, 1, 1, 2, 2, 1, 0, 0, 2, 0, 1, 0, 1, 1, 1, 2, 2, 2, 2, 2, 1, 1, 2, 2, 1, 2, 2, 2, 2, 1, 2, 2, 1, 2, 2, 2, 0, 1, 1, 1, 1, 1, 1, 0, 2, 1, 0, 2, 2, 2, 1, 1, 2, 1, 2, 1, 2, 2, 2, 1, 2, 2, 0, 2, 1, 2, 1, 1, 1, 0, 1, 2, 1, 2, 2, 2, 2, 2, 2, 2, 2, 2, 0, 1, 2, 2, 2, 1, 1, 0, 1, 0, 0, 2, 2, 2, 1, 2, 2, 2, 1, 2, 0, 2, 2, 1, 2, 1, 0, 0, 2, 1, 1, 2, 2, 2, 1, 2, 1, 1, 2, 2, 0, 1, 1, 1, 2, 2, 2, 1, 2, 0, 2, 1, 2, 0, 2, 1, 1, 1, 2, 2, 1, 2, 2, 2, 2, 2, 1, 0, 2, 1, 1, 1, 0, 2, 0, 1, 2, 2, 2, 2, 2, 0, 2, 2, 2, 1, 2, 2, 1, 2, 1, 0, 2, 2, 2, 2, 2, 2, 0, 2, 2, 0, 2, 0, 1, 2, 2, 1, 1, 0, 2, 2, 1, 2, 1, 0, 1, 2, 0, 2, 1, 2, 2, 1, 0, 1, 1, 2, 2, 1, 0, 0, 1, 1, 2, 2, 2, 2, 2, 0, 2, 2, 1, 2, 1, 1, 2, 1, 2, 0, 1, 2, 2, 2, 0, 0, 1, 2, 1, 2, 2, 1, 2, 1, 1, 2, 1, 2, 1, 2, 2, 2, 2, 2, 2, 2, 1, 0, 1, 1, 0, 0, 2, 2, 2, 0, 0, 2, 2, 1, 1, 1, 1, 1, 0, 1, 2, 2, 2, 2, 1, 2, 2, 1, 2, 1, 1, 2, 2, 2, 2, 2, 2, 2, 2, 2, 1, 1, 2, 2, 2, 2, 1, 2, 1, 2, 1, 1, 0, 2, 1, 1, 1, 2, 2, 2, 2, 2, 2, 2, 2, 1, 2, 2, 2, 1, 2, 2, 2, 1, 2, 2, 2, 2, 0, 1, 2, 2, 2, 1, 2, 2, 2, 1, 2, 0, 2, 1, 1, 1, 2, 2, 2, 1, 2, 1, 2, 1, 2, 2, 2, 2, 2, 2, 2, 1, 0, 2, 1, 2, 2, 2, 2, 2, 0, 2, 2, 1, 2, 2, 2, 1, 1, 1, 0, 2, 2, 2, 2, 0, 1, 2, 1, 2, 2, 2, 0, 2, 2, 2, 1, 2, 2, 2, 2, 1, 1, 2, 2, 2, 2, 2, 2, 2, 2, 1, 2, 2, 1, 1, 2, 2, 2, 2, 2, 0, 0, 2, 1, 2, 2, 2, 2, 2, 0, 2, 1, 1, 2, 2, 2, 1, 2, 0, 1, 2, 1, 2, 2, 2, 2, 1, 2, 1, 2, 2, 2, 0, 2, 2, 2, 2, 1, 2, 2, 1, 2, 2, 0, 2, 1, 2, 1, 1, 2, 2, 1, 2, 1, 2, 1, 1, 2, 2, 2, 2, 2, 2, 2, 2, 2, 0, 2, 0, 1, 0, 0, 2, 2, 1, 2, 1, 2, 1, 0, 2, 0, 1, 2, 2, 1, 1, 1, 2, 1, 2, 2, 0, 2, 1, 2, 2, 1, 2, 2, 2, 2, 2, 0, 2, 1, 2, 2, 2, 2, 2, 2, 2, 2, 2, 2, 2, 0, 1, 2, 2, 2, 1, 1, 2, 2, 2, 1, 2, 0, 2, 1, 2, 1, 2, 2, 2, 2, 1, 2, 0, 2, 2, 1, 1, 2, 0, 2, 2, 1, 0, 2, 1, 2, 2, 0, 2, 2, 1, 0, 2, 1, 1, 1, 2, 2, 2, 2, 2, 2, 0, 2, 2, 1, 2, 2, 1, 0, 2, 2, 2, 2, 2, 2, 2, 2, 2, 1, 1, 1, 2, 2, 1, 2, 2, 1, 2, 0, 2, 2, 2, 2, 0, 2, 1, 2, 1, 0, 1, 1, 2, 0, 1, 1, 1, 0, 2, 2, 2, 1, 2, 1, 2, 0, 0, 2, 1, 2, 1, 1, 0, 2, 1, 2, 1, 2, 2, 0, 0, 2, 0, 2, 2, 1, 0, 1, 1, 0, 0, 2, 2, 1, 1, 1, 2, 1, 2, 2, 2, 2, 1, 2, 2, 2, 2, 1, 2, 1, 0, 2, 2, 2, 2, 2, 2, 1, 1, 2, 2, 2, 2, 0, 2, 1, 2, 2, 2, 2, 2, 1, 2, 2, 1, 0, 2, 1, 2, 2, 2, 2, 2, 2, 2, 2, 2, 2, 2, 1, 1, 2, 2, 2, 1, 2, 2, 0, 2, 1, 1, 2, 2, 1, 2, 2, 1, 0, 2, 0, 2, 0, 2, 1, 2, 2, 2, 2, 1, 2, 2, 0, 2, 2, 0, 2, 2, 2, 2, 2, 2, 1, 0, 1, 0, 2, 2, 2, 2, 2, 0, 2, 2, 2, 1, 2, 2, 2, 1, 2, 1, 1, 1, 1, 0, 2, 2, 1, 2, 2, 1, 2, 2, 1, 1, 0, 0, 2, 2, 1, 2, 1, 1, 2, 1, 2, 2, 1, 2, 2, 2, 1, 0, 2, 2, 2, 1, 1, 2, 0, 2, 0, 0, 1, 2, 1, 0, 2, 1, 2, 2, 2, 0, 2, 2, 2, 2, 2, 1, 0, 0, 2, 0, 1, 2, 2, 2, 1, 2, 2, 1, 2, 1, 2, 2, 1, 1, 2, 2, 2, 0, 1, 2, 2, 0, 2, 0, 0, 2, 2, 2, 0, 2, 1, 1, 1, 2, 2, 1, 2, 1, 2, 2, 2, 1, 2, 1, 2, 1, 1, 1, 2, 2, 1, 1, 2, 2, 1, 1, 2, 2, 2, 1, 2, 1, 2, 1, 2, 2, 2, 2, 2, 2, 0, 2, 2, 2, 2, 2, 1, 2, 2, 2, 2, 1, 1, 2, 2, 1, 1, 2, 2, 2, 1, 1, 1, 1, 2, 0, 2, 1, 2, 2, 2, 2, 0, 2, 0, 1, 1, 1, 1, 1, 2, 1, 2, 2, 2, 2, 1, 2, 2, 1, 2, 1, 1, 0, 0, 2, 2, 2, 0, 0, 2, 2, 1, 2, 1, 1, 2, 1, 2, 2, 2, 0, 2, 2, 1, 0, 2, 2, 2, 2, 0, 0, 2, 1, 1, 2, 1, 1, 2, 2, 2, 0, 0, 1, 2, 1, 2, 2, 2, 2, 2, 0, 1, 1, 2, 1, 1, 1, 1, 1, 2, 0, 2, 2, 2, 1, 2, 0, 2, 2, 2, 2, 1, 2, 1, 0, 1, 1, 1, 2, 2, 0, 2, 2, 1, 2, 2, 2, 2, 2, 1, 1, 2, 2, 2, 1, 2, 2, 2, 2, 2, 2, 0, 2, 1, 2, 1, 2, 1, 2, 2, 1, 1, 1, 2, 1, 1, 2, 2, 2, 1, 2, 0, 2, 2, 2, 1, 2, 2, 2, 1, 0, 2, 2, 1, 0, 2, 0, 0, 2, 2, 0, 2, 1, 2, 1, 1, 1, 2, 2, 2, 2, 0, 2, 2, 1, 0, 2, 0, 1, 1, 2, 2, 2, 2, 2, 1, 1, 2, 1, 1, 2, 2, 2, 1, 1, 1, 2, 0, 2, 0, 2, 2, 0, 1, 2, 2, 2, 1, 2, 2, 2, 2, 2, 2, 0, 2, 1, 2, 2, 2, 2, 0, 2, 1, 2, 2, 1, 2, 2, 1, 2, 1, 2, 2, 0, 1, 2, 0, 2, 2, 2, 2, 2, 2, 1, 1, 2, 2, 2, 2, 0, 2, 2, 2, 2, 1, 2, 1, 2, 1, 2, 2, 0, 0, 2, 0, 1, 2, 0, 2, 2, 0, 2, 2, 0, 1, 1, 2, 2, 0, 1, 1, 2, 2, 2, 0, 1, 1, 1, 2, 1, 1, 2, 1, 1, 2, 1, 2, 2, 2, 1, 2, 2, 2, 2, 1, 1, 2, 2, 1, 2, 0, 0, 2, 0, 0, 2, 1, 2, 2, 2, 2, 1, 2, 1, 1, 1, 2, 2, 0, 2, 2, 1, 2, 1, 2, 1, 2, 1, 2, 1, 2, 2, 2, 0, 0, 2, 0, 2, 2, 2, 2, 2, 2, 1, 2, 0, 1, 0, 1, 1, 0, 1, 2, 1, 1, 1, 1, 2, 2, 1, 0, 1, 2, 2, 0, 1, 1, 2, 2, 2, 0, 2, 2, 2, 2, 1, 1, 2, 1, 1, 2, 2, 2, 1, 2, 2, 1, 1, 2, 2, 2, 1, 2, 0, 2, 2, 1, 2, 1, 2, 1, 2, 2, 2, 1, 2, 2, 2, 1, 2, 1, 1, 1, 2, 2, 2, 2, 1, 1, 2, 2, 0, 1, 2, 0, 1, 2, 2, 1, 2, 2, 0, 2, 1, 0, 2, 2, 0, 2, 2, 1, 1, 1, 2, 2, 2, 2, 0, 2, 2, 2, 2, 2, 0, 2, 2, 1, 1, 2, 1, 2, 2, 2, 2, 2, 2, 2, 2, 2, 1, 1, 1, 0, 2, 1, 2, 1, 1, 2, 1, 0, 2, 2, 1, 2, 1, 1, 2, 0, 1, 1, 2, 2, 2, 2, 2, 2, 2, 2, 2, 0, 2, 0, 2, 2, 1, 1, 1, 1, 1, 2, 0, 2, 1, 2, 0, 2, 1, 2, 0, 2, 0, 1, 2, 2, 2, 1, 2, 1, 2, 1, 1, 2, 2, 2, 2, 1, 2, 1, 2, 1, 2, 2, 1, 2, 2, 2, 2, 2, 1, 1, 2, 1, 2, 1, 1, 1, 0, 1, 2, 0, 1, 2, 2, 1, 1, 2, 1, 1, 1, 1, 2, 1, 1, 0, 2, 2, 2, 1, 2, 1, 2, 0, 2, 1, 2, 2, 2, 1, 2, 2, 0, 1, 2, 1, 2, 2, 2, 2, 1, 2, 1, 2, 0, 2, 1, 2, 0, 1, 0, 2, 2, 1, 2, 2, 1, 2, 2, 2, 2, 2, 0, 2, 2, 2, 2, 2, 2, 2, 2, 1, 2, 1, 1, 2, 2, 1, 1, 1, 1, 2, 2, 1, 0, 2, 2, 2, 2, 1, 2, 1, 0, 2, 0, 1, 1, 2, 1, 0, 2, 0, 1, 1, 2, 1, 2, 2, 1, 2, 1, 1, 2, 1, 2, 2, 2, 1, 2, 2, 1, 1, 2, 0, 2, 2, 2, 2, 2, 1, 2, 2, 2, 2, 2, 2, 2, 2, 0, 2, 2, 1, 2, 2, 0, 1, 1, 2, 2, 2, 1, 0, 2, 0, 1, 1, 2, 0, 2, 1, 2, 2, 2, 2, 2, 0, 2, 1, 2, 2, 2, 1, 1, 1, 2, 2, 1, 1, 2, 0, 1, 2, 2, 0, 2, 0, 2, 0, 1, 2, 2, 0, 2, 1, 1, 2, 2, 2, 2, 1, 1, 2, 1, 1, 2, 1, 1, 2, 2, 1, 2, 2, 2, 2, 2, 2, 2, 2, 1, 2, 0, 2, 2, 1, 0, 2, 1, 2, 1, 2, 2, 2, 1, 1, 2, 1, 2, 1, 1, 2, 2, 2, 1, 2, 2, 1, 2, 0, 2, 2, 0, 2, 2, 1, 2, 1, 1, 2, 2, 2, 2, 0, 1, 2, 2, 2, 2, 2, 2, 0, 0, 2, 1, 0, 2, 1, 2, 1, 2, 2, 2, 2, 2, 1, 2, 1, 1, 0, 1, 0, 2, 1, 2, 1, 2, 0, 2, 2, 1, 2, 1, 2, 0, 2, 2, 1, 1, 1, 1, 1, 0, 0, 2, 1, 2, 2, 2, 1, 2, 2, 0, 2, 2, 2, 0, 2, 2, 2, 1, 2, 2, 2, 2, 1, 2, 1, 2, 2, 2, 2, 2, 1, 2, 1, 2, 1, 0, 2, 2, 1, 2, 0, 2, 1, 1, 1, 0, 2, 2, 2, 1, 2, 1, 2, 2, 2, 2, 0, 2, 2, 0, 1, 1, 2, 2, 0, 2, 0, 1, 2, 2, 2, 2, 2, 1, 2, 1, 2, 2, 1, 1, 1, 1, 1, 2, 0, 2, 2, 1, 2, 2, 2, 2, 0, 1, 1, 0, 0, 2, 2, 2, 0, 1, 0, 2, 1, 1, 0, 2, 1, 1, 1, 2, 1, 0, 1, 2, 0, 1, 2, 2, 2, 0, 1, 2, 1, 1, 0, 2, 0, 1, 2, 1, 2, 2, 2, 2, 1, 0, 1, 2, 1, 2, 2, 1, 1, 2, 2, 2, 2, 2, 0, 2, 1, 1, 2, 1, 0, 1, 2, 1, 2, 2, 2, 2, 2, 2, 2, 2, 2, 1, 2, 1, 2, 2, 2, 2, 2, 2, 1, 2, 1, 0, 1, 1, 2, 1, 1, 2, 2, 2, 2, 0, 2, 2, 2, 2, 0, 2, 1, 2, 2, 1, 2, 2, 1, 2, 2, 2, 2, 2, 2, 2, 2, 2, 0, 1, 1, 1, 2, 2, 2, 2, 1, 0, 2, 1, 2, 2, 2, 2, 1, 1, 2, 2, 1, 1, 2, 1, 2, 2, 1, 2, 2, 0, 1, 2, 2, 1, 1, 2, 0, 2, 2, 2, 2, 1, 2, 1, 1, 2, 1, 1, 2, 2, 1, 2, 2, 2, 1, 2, 2, 0, 2, 2, 1, 2, 2, 2, 2, 0, 0, 2, 2, 2, 2, 2, 2, 2, 1, 0, 2, 2, 1, 2, 2, 2, 2, 2, 2, 2, 2, 2, 2, 2, 2, 0, 2, 0, 2, 0, 2, 1, 2, 2, 2, 1, 2, 2, 1, 1, 0, 2, 2, 2, 2, 2, 1, 2, 2, 2, 1, 2, 2, 2, 1, 1, 2, 2, 2, 0, 1, 1, 1, 2, 1, 2, 2, 1, 0, 0, 0, 2, 2, 1, 2, 0, 2, 2, 0, 1, 1, 2, 1, 2, 1, 1, 1, 1, 2, 2, 0, 1, 2, 1, 2, 2, 1, 2, 2, 2, 2, 1, 2, 2, 2, 2, 2, 2, 2, 0, 2, 2, 2, 2, 2, 2, 2, 0, 2, 1, 2, 1, 2, 2, 2, 2, 0, 2, 1, 0, 2, 2, 0, 2, 2, 2, 1, 2, 2, 1, 2, 2, 2, 2, 2, 2, 2, 1, 1, 2, 0, 2, 2, 1, 2, 2, 2, 2, 1, 2, 2, 2, 0, 1, 2, 0, 1, 1, 2, 2, 0, 2, 2, 1, 1, 2, 2, 2, 2, 1, 2, 2, 1, 0, 2, 1, 1, 1, 1, 2, 1, 2, 1, 1, 2, 1, 2, 2, 2, 2, 0, 2, 0, 0, 2, 2, 0, 1, 1, 1, 2, 2, 0, 2, 2, 2, 2, 2, 1, 2, 2, 2, 1, 2, 0, 1, 1, 0, 2, 1, 2, 2, 2, 0, 1, 2, 2, 1, 1, 2, 2, 2, 1, 2, 2, 1, 2, 2, 2, 0, 1, 1, 0, 2, 1, 2, 2, 1, 0, 2, 2, 1, 2, 2, 1, 2, 0, 2, 2, 2, 0, 1, 2, 1, 2, 2, 2, 2, 1, 2, 1, 2, 2, 0, 2, 2, 1, 1, 2, 0, 2, 0, 1, 2, 1, 1, 2, 1, 2, 2, 2, 2, 1, 2, 2, 2, 1, 2, 2, 1, 2, 0, 1, 0, 2, 2, 2, 1, 2, 2, 2, 1, 1, 1, 0, 1, 2, 1, 2, 2, 2, 0, 2, 0, 1, 2, 1, 2, 0, 2, 2, 1, 2, 2, 1, 1, 2, 2, 2, 2, 2, 2, 2, 2, 2, 2, 0, 2, 1, 1, 1, 1, 1, 0, 2, 2, 2, 2, 2, 2, 2, 2, 2, 2, 1, 0, 2, 0, 2, 1, 2, 1, 2, 2, 1, 1, 2, 0, 2, 1, 1, 2, 2, 1, 1, 0, 2, 2, 2, 1, 1, 1, 2, 1, 2, 2, 2, 1, 2, 2, 1, 1, 0, 0, 0, 2, 0, 1, 1, 2, 1, 2, 1, 1, 2, 2, 2, 2, 2, 2, 0, 2, 2, 2, 2, 0, 2, 1, 2, 1, 2, 2, 1, 2, 2, 2, 2, 2, 2, 2, 2, 2, 2, 2, 2, 2, 0, 0, 2, 1, 1, 1, 2, 2, 2, 2, 1, 2, 2, 2, 2, 1, 2, 2, 2, 1, 1, 0, 2, 1, 2, 1, 1, 2, 0, 2, 0, 0, 2, 2, 0, 1, 2, 2, 0, 2, 2, 2, 1, 2, 2, 1, 2, 2, 2, 0, 2, 2, 2, 2, 2, 2, 2, 2, 2, 2, 1, 1, 2, 0, 2, 0, 2, 2, 2, 1, 2, 2, 1, 2, 2, 0, 1, 1, 2, 1, 2, 1, 2, 1, 0, 2, 1, 2, 2, 2, 1, 2, 1, 1, 2, 1, 2, 2, 2, 0, 1, 2, 1, 1, 0, 1, 1, 0, 2, 1, 1, 2, 2, 2, 2, 1, 2, 2, 1, 2, 2, 2, 2, 2, 1, 2, 2, 2, 2, 2, 1, 1, 1, 1, 2, 1, 2, 0, 2, 2, 2, 1, 1, 0, 2, 1, 0, 2, 2, 2, 2, 1, 0, 1, 2, 1, 2, 0, 2, 2, 2, 0, 1, 2, 2, 2, 2, 0, 2, 1, 2, 1, 2, 2, 2, 1, 2, 2, 2, 1, 2, 1, 2, 2, 0, 0, 2, 2, 2, 1, 1, 0, 1, 1, 1, 2, 0, 2, 2, 2, 1, 2, 2, 0, 2, 0, 2, 2, 2, 2, 2, 2, 2, 1, 1, 2, 2, 1, 2, 1, 2, 2, 2, 0, 1, 1, 0, 0, 1, 2, 2, 2, 2, 2, 2, 2, 1, 1, 2, 2, 0, 0, 2, 2, 2, 2, 2, 2, 2, 1, 1, 2, 0, 2, 2, 1, 2, 2, 0, 1, 2, 2, 2, 0, 1, 1, 1, 2, 2, 1, 2, 1, 2, 2, 2, 2, 1, 2, 2, 0, 2, 1, 1, 0, 1, 0, 2, 2, 0, 2, 2, 0, 2, 2, 2, 2, 2, 2, 2, 2, 2, 2, 2, 2, 1, 2, 1, 2, 1, 2, 2, 2, 2, 2, 1, 2, 2, 2, 1, 2, 2, 1, 0, 2, 2, 1, 2, 2, 2, 2, 2, 2, 2, 1, 1, 1, 2, 1, 1, 0, 2, 1, 1, 1, 2, 2, 2, 2, 0, 2, 2, 2, 0, 1, 1, 2, 2, 2, 2, 0, 0, 2, 2, 2, 1, 1, 1, 0, 1, 2, 1, 2, 2, 2, 2, 2, 1, 0, 1, 1, 2, 2, 2, 1, 1, 1, 2, 2, 2, 1, 2, 2, 1, 2, 2, 2, 0, 1, 2, 1, 2, 2, 1, 1, 1, 2, 2, 2, 2, 2, 1, 2, 0, 0, 0, 2, 1, 0, 2, 2, 2, 1, 1, 1, 2, 2, 2, 2, 1, 2, 2, 2, 1, 2, 2, 1, 2, 2, 2, 2, 1, 2, 1, 2, 2, 2, 2, 0, 0, 2, 2, 2, 2, 2, 2, 1, 2, 2, 2, 2, 2, 2, 0, 2, 2, 2, 0, 2, 2, 0, 1, 0, 0, 2, 2, 1, 2, 2, 2, 1, 2, 1, 1, 1, 1, 2, 2, 1, 2, 0, 2, 2, 2, 1, 1, 2, 1, 1, 1, 2, 0, 2, 2, 2, 1, 2, 2, 1, 2, 0, 1, 2, 1, 2, 2, 1, 1, 2, 1, 2, 0, 2, 2, 2, 1, 1, 2, 1, 1, 2, 2, 2, 1, 1, 2, 1, 2, 2, 0, 2, 2, 2, 0, 0, 1, 2, 2, 1, 2, 2, 2, 2, 2, 1, 0, 0, 2, 2, 2, 0, 1, 0, 2, 2, 1, 0, 0, 1, 0, 2, 1, 2, 2, 2, 2, 1, 2, 2, 0, 2, 2, 1, 2, 2, 2, 1, 2, 2, 1, 1, 2, 2, 2, 2, 0, 2, 1, 2, 2, 1, 1, 2, 2, 1, 2, 2, 2, 2, 2, 1, 1, 2, 2, 1, 0, 2, 2, 2, 1, 2, 1, 1, 2, 2, 2, 1, 0, 2, 1, 2, 2, 2, 1, 2, 2, 2, 0, 1, 2, 2, 2, 0, 0, 2, 0, 2, 2, 1, 2, 2, 1, 2, 1, 1, 2, 1, 1, 1, 2, 2, 2, 2, 2, 2, 1, 2, 2, 2, 1, 2, 2, 2, 2, 1, 2, 2, 2, 2, 2, 2, 1, 1, 2, 1, 1, 2, 2, 2, 2, 2, 2, 2, 2, 2, 2, 0, 2, 2, 2, 2, 0, 0, 2, 2, 1, 0, 1, 1, 1, 1, 2, 1, 2, 2, 1, 2, 2, 2, 1, 0, 1, 2, 2, 2, 2, 1, 2, 1, 2, 1, 1, 1, 1, 2, 2, 2, 1, 2, 1, 1, 2, 2, 0, 2, 2, 1, 1, 2, 2, 1, 2, 1, 2, 1, 2, 0, 2, 2, 2, 2, 0, 1, 2, 0, 1, 2, 2, 2, 1, 0, 2, 2, 2, 2, 2, 2, 0, 1, 2, 0, 2, 1, 0, 2, 2, 2, 1, 2, 1, 1, 1, 1, 2, 0, 0, 2, 2, 1, 2, 0, 2, 1, 2, 2, 1, 2, 2, 2, 2, 1, 0, 2, 2, 2, 2, 1, 2, 2, 2, 2, 0, 2, 2, 2, 2, 1, 1, 1, 2, 1, 2, 0, 2, 2, 2, 1, 2, 2, 1, 1, 1, 0, 2, 2, 2, 2, 2, 2, 1, 2, 2, 1, 2, 1, 1, 1, 1, 2, 1, 1, 2, 2, 2, 2, 1, 2, 1, 2, 2, 0, 2, 2, 2, 2, 1, 2, 0, 1, 1, 2, 2, 0, 1, 1, 0, 2, 2, 1, 0, 2, 2, 2, 2, 1, 2, 1, 2, 2, 1, 1, 2, 1, 2, 1, 1, 2, 1, 2, 2, 0, 1, 1, 1, 1, 1, 2, 2, 0, 1, 2, 2, 1, 2, 2, 2, 2, 2, 2, 0, 1, 1, 2, 2, 1, 1, 2, 2, 1, 2, 1, 2, 2, 2, 1, 2, 1, 1, 2, 1, 1, 2, 2, 2, 0, 2, 2, 2, 2, 2, 1, 1, 1, 1, 2, 1, 2, 1, 1, 2, 2, 1, 2, 2, 2, 1, 1, 2, 0, 2, 2, 1, 2, 2, 1, 1, 2, 2, 2, 1, 0, 1, 2, 1, 2, 0, 2, 2, 1, 2, 0, 2, 2, 2, 1, 2, 1, 2, 2, 2, 0, 0, 2, 2, 2, 0, 2, 2, 1, 1, 2, 2, 0, 2, 2, 1, 1, 2, 2, 0, 1, 2, 2, 2, 2, 2, 1, 2, 0, 1, 2, 0, 1, 2, 0, 2, 2, 2, 1, 0, 1, 2, 0, 2, 1, 2, 1, 1, 1, 1, 2, 1, 0, 2, 2, 1, 1, 2, 2, 2, 2, 2, 2, 2, 1, 2, 2, 2, 1, 2, 2, 2, 1, 1, 1, 2, 2, 2, 2, 2, 2, 0, 0, 0, 2, 2, 2, 2, 0, 2, 0, 2, 2, 1, 0, 1, 2, 2, 2, 2, 0, 1, 2, 2, 2, 2, 1, 2, 2, 2, 1, 2, 2, 2, 1, 2, 2, 2, 1, 1, 1, 2, 0, 0, 1, 2, 1, 0, 2, 2, 1, 1, 1, 2, 2, 1, 1, 2, 1, 2, 1, 2, 0, 1, 1, 0, 2, 2, 2, 1, 1, 1, 2, 2, 1, 1, 2, 2, 2, 0, 2, 2, 1, 2, 1, 1, 2, 1, 2, 2, 2, 1, 1, 2, 0, 0, 2, 2, 2, 2, 2, 1, 1, 1, 1, 2, 0, 0, 2, 2, 0, 0, 2, 1, 1, 2, 1, 2, 2, 2, 2, 2, 2, 1, 2, 2, 1, 1, 2, 2, 2, 2, 2, 2, 0, 2, 1, 2, 1, 2, 1, 1, 0, 2, 1, 1, 2, 2, 1, 2, 2, 2, 2, 2, 2, 2, 2, 2, 2, 0, 0, 2, 2, 2, 0, 2, 2, 2, 1, 1, 2, 2, 1, 0, 2, 1, 2, 1, 1, 2, 2, 2, 1, 2, 2, 0, 1, 2, 2, 2, 2, 2, 2, 1, 0, 1, 2, 2, 2, 2, 0, 1, 2, 1, 2, 2, 1, 2, 2, 1, 2, 2, 1, 2, 1, 1, 1, 2, 0, 2, 2, 2, 2, 1, 2, 1, 2, 2, 2, 2, 0, 2, 2, 2, 2, 2, 1, 1, 0, 1, 1, 0, 2, 2, 1, 2, 2, 2, 2, 2, 0, 2, 2, 2, 2, 2, 2, 1, 1, 2, 1, 2, 2, 1, 0, 1, 1, 0, 1, 2, 1, 1, 2, 0, 0, 2, 1, 2, 2, 2, 2, 2, 2, 0, 2, 2, 1, 0, 2, 1, 2, 1, 2, 1, 1, 2, 2, 2, 2, 2, 2, 1, 2, 1, 2, 2, 2, 0, 2, 1, 2, 1, 2, 0, 0, 2, 2, 0, 1, 2, 0, 2, 2, 2, 2, 1, 2, 2, 2, 1, 2, 2, 2, 2, 2, 2, 2, 0, 2, 1, 2, 2, 2, 1, 2, 2, 2, 2, 2, 2, 2, 0, 2, 1, 2, 2, 2, 2, 2, 0, 2, 1, 2, 1, 0, 1, 2, 2, 2, 0, 2, 1, 2, 1, 0, 2, 2, 0, 2, 0, 2, 2, 2, 2, 2, 0, 0, 2, 2, 1, 2, 2, 0, 1, 2, 1, 0, 1, 1, 2, 2, 2, 0, 1, 2, 2, 1, 2, 1, 1, 2, 1, 1, 2, 2, 2, 2, 1, 1, 1, 2, 0, 2, 2, 1, 2, 1, 2, 2, 1, 2, 1, 2, 2, 1, 2, 1, 1, 1, 0, 2, 1, 0, 0, 2, 2, 2, 1, 0, 1, 2, 2, 2, 2, 1, 1, 2, 2, 2, 2, 1, 2, 0, 2, 2, 2, 2, 2, 2, 1, 2, 1, 2, 2, 2, 1, 1, 0, 1, 2, 2, 2, 0, 2, 2, 0, 2, 2, 2, 0, 1, 2, 1, 2, 2, 2, 2, 2, 0, 1, 2, 2, 1, 2, 0, 2, 2, 2, 2, 2, 2, 2, 2, 0, 0, 1, 0, 2, 1, 2, 2, 1, 2, 2, 0, 0, 2, 0, 1, 1, 2, 2, 1, 1, 2, 1, 1, 2, 2, 0, 2, 1, 2, 2, 2, 1, 1, 0, 2, 1, 1, 1, 2, 2, 2, 1, 1, 1, 1, 2, 2, 2, 2, 2, 1, 2, 0, 0, 1, 1, 2, 2, 2, 2, 2, 2, 2, 0, 2, 1, 0, 2, 1, 2, 2, 1, 2, 2, 1, 1, 2, 2, 1, 2, 1, 2, 2, 2, 2, 2, 1, 1, 2, 2, 2, 1, 0, 2, 2, 1, 0, 2, 0, 1, 2, 1, 2, 2, 2, 2, 2, 0, 2, 0, 2, 1, 0, 1, 2, 1, 2, 0, 2, 1, 2, 1, 2, 0, 2, 1, 2, 1, 1, 1, 1, 2, 0, 2, 2, 1, 1, 2, 2, 2, 2, 0, 1, 2, 2, 1, 2, 2, 2, 2, 0, 2, 2, 2, 2, 2, 2, 2, 1, 0, 2, 2, 1, 2, 2, 1, 0, 2, 2, 2, 2, 2, 1, 2, 2, 2, 2, 2, 2, 2, 1, 2, 1, 1, 2, 2, 2, 2, 0, 1, 2, 1, 2, 2, 2, 2, 2, 1, 1, 1, 1, 0, 1, 0, 0, 2, 1, 0, 0, 0, 1, 2, 0, 1, 2, 1, 2, 0, 2, 2, 1, 2, 1, 2, 1, 2, 2, 2, 1, 2, 2, 1, 2, 2, 0, 1, 2, 2, 2, 2, 1, 1, 2, 2, 2, 2, 2, 2, 2, 2, 2, 1, 1, 2, 1, 1, 2, 0, 2, 1, 2, 2, 1, 1, 2, 0, 2, 1, 0, 0, 1, 0, 0, 2, 2, 1, 1, 1, 1, 1, 2, 2, 2, 1, 0, 0, 2, 1, 2, 2, 2, 2, 2, 1, 2, 1, 2, 2, 2, 2, 2, 2, 2, 2, 2, 1, 2, 1, 2, 2, 2, 2, 0, 1, 2, 1, 2, 1, 2, 2, 1, 2, 2, 1, 2, 1, 1, 2, 2, 0, 2, 0, 2, 2, 2, 0, 2, 1, 1, 2, 2, 0, 0, 1, 2, 1, 2, 0, 2, 2, 1, 1, 2, 1, 2, 2, 2, 1, 2, 2, 2, 2, 2, 2, 2, 1, 2, 2, 1, 2, 0, 1, 2, 0, 2, 2, 2, 2, 2, 2, 1, 1, 2, 2, 0, 2, 2, 2, 1, 1, 2, 1, 2, 0, 2, 1, 1, 2, 2, 1, 2, 2, 2, 2, 1, 1, 1, 2, 0, 2, 2, 2, 2, 1, 2, 2, 2, 2, 1, 1, 0, 0, 1, 2, 1, 2, 2, 2, 2, 2, 2, 1, 2, 0, 2, 1, 1, 2, 0, 0, 0, 2, 2, 0, 1, 0, 2, 1, 2, 0, 1, 1, 2, 2, 1, 0, 2, 2, 2, 2, 2, 1, 1, 2, 1, 2, 1, 0, 2, 2, 1, 1, 1, 2, 2, 2, 2, 1, 1, 0, 2, 2, 2, 0, 1, 2, 1, 0, 2, 1, 2, 2, 2, 2, 2, 0, 1, 0, 2, 2, 2, 2, 0, 1, 2, 2, 2, 2, 2, 2, 2, 2, 0, 0, 0, 1, 2, 2, 2, 2, 2, 1, 0, 2, 2, 2, 1, 1, 2, 2, 1, 1, 2, 2, 0, 2, 2, 2, 2, 1, 2, 2, 2, 2, 2, 0, 2, 2, 2, 2, 1, 1, 2, 2, 2, 1, 2, 2, 1, 2, 2, 2, 2, 0, 2, 2, 2, 1, 2, 1, 2, 2, 1, 2, 1, 2, 2, 0, 2, 1, 1, 2, 2, 1, 1, 2, 2, 2, 0, 1, 2, 1, 2, 1, 1, 2, 1, 2, 2, 2, 2, 1, 2, 1, 2, 1, 0, 2, 1, 2, 1, 2, 2, 1, 2, 1, 2, 1, 0, 1, 1, 1, 1, 2, 1, 2, 2, 2, 2, 2, 2, 2, 2, 0, 1, 2, 1, 2, 0, 2, 2, 0, 0, 2, 2, 2, 1, 2, 1, 1, 2, 2, 2, 1, 0, 2, 0, 1, 2, 1, 1, 1, 2, 1, 1, 1, 1, 2, 2, 1, 1, 2, 2, 2, 1, 2, 2, 1, 0, 0, 0, 0, 2, 2, 0, 2, 0, 1, 2, 1, 1, 2, 1, 2, 2, 2, 2, 1, 2, 0, 2, 2, 2, 2, 1, 2, 2, 2, 0, 2, 0, 2, 1, 0, 2, 2, 1, 2, 2, 2, 1, 2, 2, 2, 1, 1, 2, 2, 2, 2, 1, 0, 2, 0, 2, 2, 1, 2, 1, 2, 1, 2, 2, 1, 1, 2, 0, 2, 2, 2, 2, 0, 2, 2, 2, 1, 2, 1, 2, 2, 1, 0, 2, 1, 1, 1, 1, 1, 2, 2, 1, 1, 2, 2, 2, 1, 2, 2, 2, 0, 2, 2, 2, 2, 0, 1, 0, 2, 2, 1, 2, 1, 1, 2, 0, 2, 2, 0, 2, 1, 1, 2, 1, 2, 0, 2, 1, 2, 0, 2, 2, 2, 2, 2, 2, 2, 1, 1, 0, 0, 1, 1, 2, 1, 0, 2, 2, 0, 2, 1, 2, 0, 2, 1, 1, 1, 0, 1, 2, 2, 2, 2, 1, 2, 2, 2, 2, 2, 1, 0, 2, 1, 2, 2, 1, 2, 2, 0, 2, 2, 2, 2, 1, 2, 2, 0, 2, 0, 2, 2, 2, 2, 2, 2, 2, 1, 1, 1, 1, 1, 1, 1, 2, 0, 0, 0, 2, 1, 1, 2, 2, 2, 1, 2, 1, 1, 2, 1, 0, 1, 1, 1, 1, 2, 1, 2, 2, 2, 2, 2, 0, 2, 2, 1, 2, 2, 2, 2, 2, 2, 0, 1, 1, 2, 2, 1, 2, 1, 2, 0, 2, 2, 2, 2, 2, 2, 2, 1, 1, 1, 0, 2, 0, 2, 2, 2, 2, 2, 2, 0, 2, 0, 1, 1, 1, 0, 1, 0, 2, 2, 1, 0, 2, 2, 2, 2, 2, 2, 1, 2, 1, 1, 2, 2, 2, 2, 2, 1, 2, 2, 1, 1, 2, 1, 2, 2, 2, 2, 2, 1, 1, 2, 0, 1, 2, 1, 1, 1, 1, 1, 2, 2, 2, 1, 2, 2, 2, 0, 1, 1, 2, 2, 1, 0, 1, 1, 0, 1, 2, 1, 2, 2, 0, 0, 2, 2, 0, 2, 2, 1, 1, 2, 1, 2, 2, 2, 0, 2, 2, 2, 2, 1, 2, 0, 2, 2, 2, 2, 2, 0, 1, 0, 0, 1, 2, 2, 0, 1, 1, 0, 2, 1, 2, 1, 1, 2, 2, 2, 1, 1, 2, 1, 2, 1, 1, 0, 1, 2, 2, 0, 1, 2, 2, 1, 1, 1, 1, 2, 0, 1, 2, 2, 2, 2, 2, 2, 0, 2, 1, 1, 2, 2, 1, 1, 1, 0, 2, 2, 1, 2, 2, 2, 2, 2, 0, 1, 2, 1, 0, 2, 2, 2, 2, 2, 2, 2, 2, 2, 1, 2, 2, 2, 2, 0, 1, 1, 2, 2, 2, 2, 1, 0, 2, 0, 2, 2, 1, 2, 2, 2, 2, 2, 2, 2, 2, 2, 1, 1, 0, 0, 2, 2, 2, 2, 0, 2, 2, 2, 0, 2, 2, 2, 2, 2, 2, 2, 0, 2, 2, 1, 2, 2, 1, 1, 2, 2, 2, 2, 2, 0, 2, 1, 0, 2, 1, 2, 2, 2, 1, 1, 2, 2, 1, 1, 2, 0, 1, 1, 1, 2, 1, 2, 0, 1, 1, 2, 2, 2, 1, 1, 2, 1, 1, 2, 1, 2, 2, 2, 1, 1, 2, 2, 1, 2, 1, 1, 2, 2, 1, 1, 2, 2, 2, 2, 0, 0, 2, 2, 1, 1, 1, 2, 2, 0, 2, 2, 2, 2, 2, 1, 1, 2, 2, 2, 2, 1, 2, 2, 2, 2, 1, 1, 1, 0, 2, 1, 1, 0, 2, 2, 2, 2, 2, 2, 2, 0, 2, 2, 0, 2, 0, 1, 0, 2, 2, 2, 1, 2, 2, 1, 2, 2, 2, 0, 2, 1, 2, 2, 1, 2, 2, 1, 1, 2, 2, 2, 2, 2, 2, 2, 2, 0, 2, 2, 2, 2, 2, 2, 2, 2, 1, 2, 2, 1, 1, 1, 2, 2, 2, 1, 2, 2, 2, 1, 1, 2, 1, 2, 0, 2, 2, 0, 2, 2, 1, 0, 2, 1, 1, 2, 1, 1, 1, 0, 1, 2, 2, 2, 2, 2, 1, 1, 2, 2, 2, 2, 2, 1, 2, 0, 2, 2, 1, 0, 2, 2, 2, 2, 2, 1, 2, 1, 2, 2, 1, 0, 1, 0, 2, 2, 1, 2, 2, 1, 0, 2, 1, 2, 2, 0, 1, 1, 2, 1, 2, 2, 1, 2, 2, 2, 1, 2, 2, 1, 1, 2, 1, 0, 2, 2, 1, 0, 2, 2, 2, 1, 1, 2, 2, 1, 2, 2, 0, 2, 0, 0, 2, 2, 0, 2, 2, 0, 2, 1, 2, 2, 2, 1, 2, 2, 1, 0, 2, 0, 1, 2, 0, 1, 2, 2, 2, 1, 2, 0, 1, 1, 2, 2, 2, 2, 0, 2, 2, 1, 2, 1, 0, 2, 1, 2, 0, 1, 1, 2, 2, 2, 1, 2, 2, 1, 1, 2, 1, 2, 1, 2, 1, 2, 2, 2, 0, 2, 1, 0, 2, 2, 1, 1, 2, 0, 2, 2, 2, 1, 2, 2, 2, 2, 2, 2, 0, 1, 2, 0, 2, 2, 1, 1, 2, 1, 2, 2, 2, 0, 2, 0, 1, 2, 0, 2, 0, 2, 1, 1, 0, 2, 2, 0, 1, 2, 1, 2, 1, 0, 0, 2, 2, 1, 2, 1, 2, 2, 2, 2, 1, 2, 2, 1, 2, 2, 1, 2, 1, 2, 2, 0, 2, 1, 2, 1, 1, 0, 2, 2, 0, 2, 2, 2, 1, 2, 1, 0, 1, 1, 2, 0, 2, 2, 2, 2, 2, 1, 0, 1, 1, 2, 2, 2, 0, 2, 1, 0, 2, 0, 2, 1, 2, 2, 2, 2, 1, 1, 1, 2, 1, 1, 0, 2, 0, 1, 2, 1, 2, 0, 0, 1, 2, 1, 2, 2, 0, 2, 1, 2, 2, 2, 2, 1, 2, 1, 1, 1, 2, 2, 1, 2, 2, 2, 2, 2, 2, 1, 1, 1, 1, 2, 2, 1, 1, 1, 2, 2, 2, 2, 2, 2, 2, 0, 1, 1, 1, 2, 2, 2, 2, 1, 2, 2, 2, 0, 1, 1, 2, 2, 1, 2, 2, 2, 0, 0, 2, 1, 1, 2, 0, 2, 1, 2, 2, 2, 2, 0, 2, 1, 2, 2, 2, 2, 2, 2, 1, 2, 2, 2, 2, 1, 2, 0, 2, 1, 1, 0, 0, 2, 0, 1, 2, 2, 2, 2, 2, 1, 2, 2, 2, 2, 1, 1, 1, 1, 2, 2, 2, 2, 2, 1, 1, 2, 2, 2, 2, 0, 1, 2, 1, 2, 1, 2, 2, 0, 2, 1, 2, 2, 2, 2, 0, 2, 2, 2, 1, 0, 2, 1, 2, 2, 2, 1, 1, 2, 1, 1, 0, 1, 0, 0, 2, 2, 1, 1, 2, 2, 2, 1, 2, 0, 2, 2, 2, 2, 2, 0, 2, 2, 2, 1, 2, 2, 2, 2, 1, 1, 2, 2, 2, 1, 1, 2, 2, 1, 2, 2, 2, 2, 2, 2, 1, 0, 1, 2, 2, 1, 2, 1, 2, 1, 1, 1, 2, 2, 0, 0, 2, 2, 0, 1, 2, 1, 2, 1, 2, 0, 1, 2, 1, 2, 1, 2, 2, 0, 1, 0, 2, 2, 2, 2, 1, 1, 2, 2, 2, 0, 2, 2, 0, 1, 1, 2, 2, 0, 2, 0, 2, 1, 1, 0, 2, 2, 2, 1, 1, 2, 1, 1, 0, 2, 0, 0, 1, 2, 0, 1, 2, 2, 1, 1, 0, 1, 2, 0, 2, 2, 2, 2, 1, 2, 2, 2, 2, 1, 0, 2, 2, 2, 2, 2, 2, 2, 1, 1, 2, 2, 2, 2, 2, 2, 2, 2, 1, 2, 2, 2, 2, 1, 2, 2, 2, 1, 2, 2, 0, 1, 0, 1, 0, 2, 1, 2, 1, 2, 0, 1, 2, 2, 1, 2, 2, 2, 2, 1, 1, 2, 2, 2, 1, 1, 1, 2, 2, 1, 1, 1, 1, 1, 2, 1, 2, 2, 0, 2, 2, 2, 2, 2, 1, 2, 2, 1, 1, 2, 2, 2, 2, 1, 2, 2, 2, 0, 1, 0, 2, 1, 2, 1, 2, 2, 2, 2, 2, 2, 0, 0, 0, 0, 2, 2, 2, 2, 2, 2, 0, 1, 1, 1, 2, 2, 2, 1, 2, 1, 1, 2, 2, 2, 2, 2, 2, 1, 2, 2, 2, 1, 0, 2, 2, 2, 1, 2, 1, 1, 2, 2, 2, 2, 2, 1, 1, 0, 1, 2, 2, 2, 1, 0, 2, 1, 0, 1, 0, 1, 2, 1, 1, 1, 0, 2, 1, 2, 2, 2, 1, 1, 0, 0, 2, 1, 2, 1, 1, 2, 1, 2, 2, 2, 1, 1, 2, 2, 2, 2, 2, 2, 2, 2, 2, 2, 1, 1, 2, 2, 2, 2, 2, 2, 0, 2, 2, 2, 2, 0, 1, 1, 2, 1, 2, 2, 2, 0, 2, 2, 0, 2, 0, 2, 0, 1, 2, 2, 2, 0, 0, 0, 2, 2, 2, 2, 2, 1, 2, 2, 2, 2, 2, 2, 1, 2, 1, 2, 1, 1, 2, 1, 2, 2, 2, 1, 0, 0, 1, 0, 2, 2, 1, 2, 1, 2, 2, 2, 2, 2, 2, 2, 1, 1, 1, 2, 2, 2, 1, 1, 2, 2, 1, 1, 0, 2, 0, 1, 1, 2, 2, 0, 2, 2, 2, 0, 2, 2, 2, 1, 2, 2, 2, 1, 2, 2, 2, 2, 1, 2, 1, 2, 1, 0, 2, 2, 2, 2, 2, 2, 2, 2, 2, 0, 2, 2, 2, 2, 1, 1, 2, 2, 2, 0, 2, 0, 0, 2, 2, 2, 1, 2, 0, 2, 2, 2, 2, 1, 2, 2, 1, 0, 2, 0, 1, 1, 2, 0, 0, 2, 1, 2, 2, 2, 1, 2, 1, 1, 2, 2, 2, 1, 0, 1, 0, 1, 1, 2, 2, 1, 0, 1, 2, 2, 2, 2, 1, 2, 1, 2, 2, 2, 0, 0, 2, 2, 1, 2, 2, 2, 1, 1, 2, 1, 1, 2, 0, 1, 0, 1, 1, 0, 2, 0, 2, 1, 1, 2, 1, 2, 2, 2, 2, 2, 2, 0, 2, 2, 1, 2, 2, 2, 2, 2, 2, 2, 2, 2, 2, 1, 0, 1, 1, 1, 2, 2, 1, 2, 2, 2, 1, 1, 2, 2, 2, 1, 2, 2, 1, 1, 2, 2, 1, 2, 1, 2, 2, 2, 2, 2, 1, 1, 2, 0, 2, 2, 2, 2, 0, 1, 2, 1, 1, 1, 0, 2, 2, 2, 2, 2, 2, 1, 1, 2, 2, 1, 2, 2, 2, 1, 2, 2, 1, 2, 2, 2, 0, 2, 2, 1, 1, 2, 1, 2, 2, 2, 1, 2, 2, 0, 2, 1, 2, 2, 1, 1, 1, 1, 2, 2, 0, 2, 2, 1, 0, 1, 0, 1, 2, 2, 2, 2, 1, 2, 2, 2, 2, 1, 2, 1, 2, 1, 0, 2, 2, 2, 0, 1, 2, 1, 2, 0, 1, 0, 2, 2, 0, 0, 2, 0, 1, 2, 2, 0, 2, 2, 1, 1, 2, 0, 2, 2, 1, 2, 0, 0, 1, 2, 2, 2, 2, 0, 1, 1, 2, 1, 0, 1, 0, 2, 1, 2, 2, 1, 1, 2, 2, 2, 2, 1, 2, 2, 1, 2, 1, 1, 2, 1, 2, 1, 1, 2, 2, 2, 2, 1, 1, 0, 2, 1, 2, 1, 2, 0, 1, 2, 0, 2, 2, 1, 1, 2, 1, 2, 2, 1, 0, 2, 1, 2, 2, 1, 2, 2, 1, 2, 1, 1, 1, 1, 1, 2, 2, 2, 1, 2, 1, 1, 0, 2, 2, 2, 1, 2, 2, 1, 2, 2, 1, 1, 2, 2, 0, 2, 2, 1, 2, 2, 2, 2, 2, 2, 2, 2, 1, 2, 2, 2, 2, 2, 2, 2, 1, 2, 1, 1, 2, 2, 2, 1, 2, 2, 2, 2, 2, 1, 1, 1, 0, 2, 2, 0, 1, 1, 2, 2, 2, 2, 2, 2, 1, 2, 2, 1, 1, 2, 1, 1, 2, 2, 1, 2, 1, 2, 2, 2, 0, 0, 1, 1, 2, 0, 2, 1, 1, 2, 2, 1, 2, 1, 1, 2, 2, 1, 1, 2, 2, 2, 2, 2, 2, 2, 2, 0, 1, 1, 1, 0, 2, 2, 1, 2, 1, 2, 1, 0, 2, 2, 2, 1, 1, 2, 2, 1, 1, 1, 2, 2, 2, 1, 1, 0, 2, 0, 2, 2, 0, 2, 0, 1, 0, 1, 2, 2, 2, 2, 2, 2, 2, 2, 0, 2, 1, 2, 0, 1, 2, 1, 2, 1, 1, 1, 2, 0, 2, 1, 2, 2, 2, 2, 2, 2, 1, 2, 0, 0, 2, 1, 1, 1, 2, 2, 1, 2, 2, 2, 2, 2, 1, 1, 1, 1, 2, 1, 1, 2, 2, 1, 0, 2, 1, 2, 2, 0, 0, 0, 1, 2, 2, 2, 1, 1, 2, 2, 0, 2, 1, 2, 1, 2, 2, 2, 1, 0, 1, 2, 2, 2, 1, 0, 2, 0, 1, 1, 1, 2, 2, 2, 2, 2, 1, 2, 2, 2, 0, 1, 2, 2, 1, 2, 0, 1, 2, 0, 2, 2, 1, 2, 0, 1, 1, 2, 2, 0, 2, 2, 0, 2, 2, 2, 1, 1, 0, 2, 2, 2, 2, 0, 1, 1, 0, 2, 2, 2, 2, 0, 0, 2, 2, 2, 2, 0, 0, 1, 1, 2, 2, 2, 1, 2, 2, 1, 1, 1, 2, 1, 2, 2, 1, 2, 0, 1, 2, 0, 2, 2, 2, 2, 2, 0, 2, 2, 1, 1, 2, 0, 2, 0, 0, 2, 1, 2, 2, 2, 1, 0, 1, 2, 2, 1, 0, 2, 2, 2, 2, 1, 1, 1, 1, 2, 2, 2, 2, 2, 0, 2, 2, 0, 2, 1, 0, 1, 1, 2, 2, 0, 2, 1, 1, 2, 2, 2, 2, 2, 1, 0, 2, 2, 1, 1, 1, 2, 1, 2, 1, 1, 2, 2, 2, 2, 2, 1, 2, 2, 2, 1, 0, 0, 2, 1, 1, 2, 2, 2, 1, 0, 1, 1, 1, 0, 1, 2, 1, 2, 2, 2, 1, 1, 1, 0, 2, 2, 1, 2, 2, 1, 1, 2, 0, 2, 1, 1, 2, 2, 2, 2, 1, 1, 2, 2, 1, 1, 1, 2, 2, 2, 2, 1, 1, 2, 2, 2, 1, 2, 0, 1, 2, 1, 1, 1, 1, 2, 2, 2, 2, 1, 2, 2, 2, 2, 2, 2, 2, 1, 2, 2, 1, 1, 2, 2, 0, 1, 2, 2, 1, 2, 2, 0, 1, 1, 2, 1, 2, 0, 0, 2, 1, 2, 2, 1, 2, 2, 1, 2, 1, 2, 1, 1, 2, 0, 2, 2, 2, 2, 2, 2, 0, 2, 0, 1, 0, 0, 1, 0, 2, 2, 2, 1, 1, 2, 2, 2, 2, 2, 2, 2, 2, 2, 2, 1, 2, 0, 2, 1, 2, 2, 2, 2, 1, 1, 2, 1, 1, 2, 1, 2, 2, 1, 0, 2, 0, 2, 2, 1, 1, 1, 2, 2, 2, 1, 2, 2, 2, 1, 2, 2, 2, 2, 1, 2, 1, 1, 2, 2, 0, 1, 2, 2, 0, 0, 1, 1, 2, 0, 2, 2, 2, 2, 1, 1, 1, 2, 1, 2, 2, 0, 1, 2, 1, 1, 2, 2, 2, 2, 1, 2, 2, 2, 2, 2, 1, 1, 1, 2, 2, 1, 2, 2, 2, 1, 2, 0, 0, 2, 1, 1, 1, 1, 2, 2, 1, 2, 1, 2, 0, 2, 1, 2, 2, 2, 0, 2, 2, 2, 2, 2, 2, 2, 2, 2, 1, 2, 0, 2, 1, 2, 2, 2, 1, 0, 2, 1, 1, 2, 2, 2, 1, 0, 0, 0, 0, 2, 0, 1, 1, 0, 2, 1, 2, 0, 1, 2, 2, 2, 2, 2, 1, 2, 2, 2, 2, 2, 2, 2, 1, 2, 2, 2, 2, 2, 2, 1, 2, 2, 2, 0, 2, 0, 2, 0, 2, 2, 1, 2, 0, 2, 1, 2, 0, 2, 0, 0, 1, 2, 0, 1, 0, 2, 2, 2, 2, 2, 2, 2, 2, 1, 1, 2, 0, 2, 2, 2, 1, 2, 2, 1, 1, 2, 2, 1, 1, 2, 0, 1, 0, 2, 1, 2, 1, 0, 1, 2, 2, 2, 1, 2, 1, 2, 2, 1, 2, 1, 2, 1, 2, 1, 2, 2, 2, 2, 1, 2, 2, 2, 2, 1, 2, 1, 1, 2, 1, 2, 2, 2, 2, 2, 0, 2, 1, 1, 2, 2, 1, 2, 2, 1, 2, 1, 2, 2, 2, 1, 2, 2, 2, 2, 1, 1, 1, 2, 2, 2, 2, 2, 2, 1, 2, 2, 2, 2, 2, 2, 2, 2, 2, 2, 2, 2, 2, 2, 0, 2, 2, 2, 2, 2, 2, 2, 2, 2, 1, 2, 2, 0, 2, 2, 2, 2, 1, 1, 2, 2, 2, 2, 1, 2, 1, 2, 0, 0, 2, 2, 1, 0, 1, 1, 2, 2, 1, 2, 2, 0, 2, 2, 1, 1, 1, 1, 2, 2, 2, 1, 0, 2, 0, 1, 2, 1, 2, 2, 2, 2, 2, 1, 1, 2, 2, 2, 0, 2, 2, 2, 2, 1, 2, 2, 1, 2, 2, 2, 0, 2, 2, 1, 1, 2, 2, 0, 1, 2, 1, 2, 2, 2, 2, 0, 2, 2, 2, 2, 2, 2, 1, 1, 1, 2, 2, 1, 2, 2, 2, 1, 2, 2, 2, 1, 2, 2, 2, 1, 1, 2, 0, 2, 2, 1, 2, 0, 2, 1, 2, 0, 2, 2, 1, 1, 2, 2, 2, 2, 1, 1, 0, 2, 0, 1, 1, 2, 2, 2, 1, 2, 0, 1, 1, 2, 2, 0, 2, 2, 2, 1, 2, 0, 2, 1, 2, 2, 2, 0, 1, 1, 2, 1, 2, 1, 0, 1, 2, 2, 0, 2, 0, 2, 1, 2, 2, 1, 1, 0, 2, 0, 2, 1, 1, 2, 0, 2, 2, 2, 2, 1, 2, 2, 2, 2, 2, 1, 2, 1, 2, 2, 0, 2, 2, 2, 2, 2, 1, 1, 2, 2, 2, 0, 2, 2, 2, 2, 2, 1, 2, 1, 2, 1, 1, 1, 2, 2, 2, 2, 2, 0, 1, 0, 2, 1, 0, 2, 1, 1, 2, 0, 2, 2, 2, 1, 2, 1, 1, 0, 1, 2, 2, 2, 0, 2, 1, 2, 2, 1, 1, 1, 1, 2, 2, 2, 2, 2, 2, 2, 0, 2, 1, 2, 2, 2, 0, 0, 2, 1, 2, 1, 1, 2, 2, 0, 1, 0, 2, 2, 1, 1, 2, 0, 1, 2, 0, 2, 2, 2, 1, 2, 2, 2, 2, 1, 2, 2, 2, 2, 0, 2, 2, 2, 2, 2, 1, 2, 2, 1, 0, 0, 1, 1, 0, 0, 2, 2, 2, 1, 2, 0, 2, 2, 0, 2, 2, 2, 2, 2, 2, 0, 2, 1, 2, 0, 2, 2, 2, 2, 2, 2, 0, 2, 2, 2, 0, 2, 0, 2, 2, 2, 2, 2, 2, 2, 2, 2, 1, 1, 1, 2, 2, 2, 1, 2, 1, 1, 2, 2, 0, 1, 1, 1, 2, 0, 1, 2, 2, 2, 2, 0, 2, 2, 2, 2, 2, 2, 1, 2, 1, 0, 0, 1, 1, 1, 2, 0, 2, 1, 0, 0, 2, 0, 2, 0, 1, 1, 1, 1, 2, 2, 2, 1, 2, 1, 1, 1, 2, 2, 2, 1, 1, 2, 0, 2, 2, 0, 2, 1, 2, 2, 2, 2, 1, 2, 2, 2, 2, 2, 0, 2, 2, 2, 0, 1, 2, 1, 2, 1, 2, 2, 2, 2, 2, 0, 1, 0, 2, 2, 0, 1, 2, 2, 0, 0, 2, 1, 2, 1, 2, 2, 2, 1, 1, 2, 2, 1, 2, 2, 2, 1, 1, 2, 1, 2, 2, 2, 1, 2, 2, 2, 2, 0, 2, 1, 2, 0, 2, 1, 2, 1, 0, 2, 1, 1, 2, 1, 2, 1, 1, 0, 1, 2, 1, 0, 0, 2, 1, 2, 2, 2, 1, 2, 1, 1, 1, 2, 2, 0, 2, 0, 1, 2, 2, 2, 1, 2, 0, 1, 2, 2, 2, 2, 2, 1, 1, 1, 2, 2, 1, 2, 2, 2, 2, 1, 2, 2, 0, 2, 1, 1, 2, 1, 2, 2, 2, 2, 2, 1, 2, 2, 1, 2, 2, 2, 2, 1, 2, 2, 2, 1, 1, 2, 1, 2, 1, 1, 1, 2, 0, 0, 1, 2, 2, 2, 0, 2, 0, 1, 1, 2, 0, 2, 1, 1, 2, 2, 2, 2, 2, 1, 0, 1, 2, 2, 0, 1, 2, 2, 1, 2, 0, 2, 2, 1, 2, 2, 1, 0, 0, 1, 2, 2, 2, 2, 1, 2, 2, 2, 2, 2, 1, 1, 2, 1, 2, 0, 1, 1, 1, 2, 1, 1, 2, 0, 2, 1, 2, 1, 1, 2, 2, 2, 2, 2, 2, 1, 0, 2, 2, 2, 2, 1, 1, 0, 1, 1, 2, 2, 0, 0, 0, 2, 0, 1, 1, 0, 2, 2, 2, 1, 2, 2, 1, 2, 1, 1, 2, 0, 0, 0, 2, 1, 1, 2, 2, 2, 2, 2, 1, 2, 2, 1, 2, 1, 1, 2, 2, 1, 1, 1, 1, 2, 2, 2, 2, 1, 2, 2, 2, 2, 2, 1, 1, 2, 2, 1, 2, 2, 0, 2, 2, 1, 2, 1, 2, 2, 1, 2, 2, 0, 2, 1, 2, 2, 1, 1, 2, 2, 1, 2, 2, 2, 1, 2, 2, 2, 2, 0, 0, 0, 1, 2, 1, 2, 1, 2, 2, 1, 1, 2, 2, 1, 1, 2, 2, 2, 2, 2, 2, 2, 2, 2, 0, 2, 1, 1, 1, 2, 2, 2, 2, 2, 2, 0, 1, 1, 2, 2, 0, 1, 2, 0, 1, 2, 1, 1, 2, 2, 2, 0, 2, 2, 1, 1, 2, 1, 1, 2, 2, 2, 1, 1, 1, 2, 1, 2, 2, 0, 2, 1, 2, 2, 0, 2, 2, 2, 1, 0, 0, 2, 1, 2, 1, 1, 0, 2, 2, 2, 1, 2, 1, 2, 1, 1, 1, 2, 1, 2, 2, 0, 1, 2, 1, 0, 1, 2, 1, 2, 2, 2, 1, 2, 2, 1, 2, 0, 2, 2, 1, 1, 2, 1, 2, 2, 2, 2, 2, 2, 2, 2, 2, 1, 1, 0, 2, 2, 2, 1, 2, 2, 2, 2, 2, 1, 2, 2, 2, 1, 1, 2, 0, 0, 0, 2, 2, 2, 2, 0, 2, 1, 1, 0, 0, 2, 2, 2, 2, 2, 2, 2, 2, 1, 2, 2, 2, 2, 2, 1, 1, 1, 1, 2, 2, 2, 2, 2, 0, 2, 0, 2, 2, 2, 2, 1, 0, 2, 2, 2, 2, 2, 2, 2, 1, 2, 2, 0, 2, 2, 1, 2, 2, 1, 2, 0, 2, 2, 1, 2, 1, 2, 2, 2, 2, 0, 1, 0, 1, 2, 2, 2, 2, 1, 2, 1, 2, 1, 2, 1, 0, 2, 1, 2, 2, 1, 1, 2, 2, 1, 2, 0, 1, 2, 1, 1, 2, 2, 1, 2, 0, 2, 1, 2, 1, 2, 2, 2, 0, 2, 1, 2, 1, 2, 0, 2, 2, 2, 2, 2, 1, 2, 2, 2, 1, 2, 2, 2, 2, 2, 2, 2, 2, 2, 1, 2, 2, 0, 1, 1, 1, 2, 0, 0, 2, 1, 2, 1, 2, 2, 1, 2, 2, 0, 2, 2, 2, 2, 0, 2, 1, 2, 2, 1, 1, 2, 2, 2, 2, 2, 2, 2, 1, 1, 1, 2, 2, 1, 2, 2, 1, 0, 2, 1, 2, 2, 2, 2, 2, 2, 0, 0, 2, 2, 1, 2, 2, 2, 1, 2, 2, 1, 2, 1, 2, 1, 2, 1, 1, 2, 1, 1, 1, 2, 2, 2, 2, 1, 2, 2, 2, 2, 1, 1, 0, 2, 1, 2, 2, 2, 1, 1, 2, 1, 2, 2, 1, 2, 2, 2, 1, 2, 2, 1, 1, 1, 2, 2, 0, 2, 2, 2, 1, 2, 2, 2, 2, 2, 1, 2, 0, 0, 2, 1, 2, 1, 2, 2, 2, 2, 2, 2, 1, 2, 2, 0, 2, 0, 0, 0, 1, 2, 0, 1, 0, 2, 1, 2, 2, 1, 2, 1, 2, 2, 0, 1, 1, 2, 0, 2, 2, 0, 2, 2, 2, 2, 2, 1, 2, 2, 2, 0, 2, 2, 1, 2, 1, 0, 0, 2, 0, 2, 1, 0, 2, 2, 2, 2, 2, 2, 2, 2, 2, 2, 2, 2, 1, 1, 2, 0, 2, 1, 2, 2, 1, 0, 1, 1, 0, 0, 2, 1, 0, 2, 1, 2, 1, 2, 2, 0, 0, 1, 2, 2, 2, 1, 1, 0, 0, 2, 2, 2, 2, 1, 1, 2, 2, 2, 2, 2, 0, 2, 1, 2, 1, 1, 1, 2, 2, 2, 2, 2, 2, 2, 1, 2, 2, 1, 2, 2, 1, 1, 1, 1, 0, 2, 2, 1, 1, 2, 2, 1, 1, 2, 1, 0, 2, 2, 1, 2, 2, 0, 0, 1, 2, 1, 2, 1, 0, 1, 2, 2, 2, 1, 2, 1, 2, 1, 2, 2, 2, 2, 1, 2, 2, 2, 2, 0, 2, 1, 2, 1, 0, 2, 2, 2, 1, 2, 2, 2, 2, 2, 2, 1, 2, 1, 2, 2, 2, 2, 0, 2, 2, 1, 2, 2, 2, 2, 2, 2, 2, 0, 2, 2, 2, 1, 2, 2, 1, 2, 1, 2, 2, 2, 2, 1, 0, 1, 2, 2, 0, 0, 0, 1, 1, 2, 1, 2, 1, 0, 2, 2, 1, 2, 2, 2, 2, 2, 0, 2, 2, 2, 2, 2, 2, 2, 2, 2, 1, 1, 1, 2, 2, 2, 1, 2, 1, 2, 2, 2, 2, 1, 2, 1, 0, 1, 1, 2, 2, 2, 1, 0, 0, 0, 1, 1, 2, 2, 1, 2, 2, 2, 1, 2, 2, 2, 2, 2, 1, 1, 2, 2, 2, 1, 2, 2, 1, 2, 2, 0, 0, 0, 1, 2, 1, 1, 2, 2, 2, 2, 2, 2, 0, 2, 2, 2, 2, 0, 0, 1, 2, 2, 2, 1, 1, 2, 2, 2, 0, 2, 0, 2, 1, 2, 1, 2, 1, 2, 1, 2, 2, 2, 2, 2, 1, 2, 2, 2, 1, 2, 2, 2, 2, 2, 1, 2, 0, 1, 2, 2, 1, 1, 2, 2, 1, 1, 2, 1, 2, 2, 2, 1, 2, 2, 1, 0, 2, 2, 1, 1, 1, 2, 2, 2, 2, 1, 2, 1, 2, 1, 2, 1, 2, 2, 2, 2, 2, 1, 1, 1, 1, 2, 1, 2, 2, 2, 1, 1, 1, 1, 2, 2, 2, 1, 1, 1, 2, 2, 2, 2, 1, 2, 2, 2, 2, 2, 1, 1, 1, 1, 2, 0, 1, 1, 1, 2, 2, 2, 2, 2, 0, 2, 2, 1, 1, 2, 2, 1, 0, 1, 1, 2, 2, 1, 2, 1, 2, 2, 2, 1, 0, 2, 2, 2, 2, 2, 1, 0, 2, 2, 0, 2, 2, 2, 2, 2, 1, 1, 2, 2, 2, 2, 2, 1, 0, 1, 1, 2, 2, 1, 1, 2, 1, 2, 2, 2, 1, 2, 0, 2, 2, 2, 0, 2, 2, 2, 2, 2, 2, 1, 2, 2, 2, 2, 1, 0, 2, 2, 2, 0, 2, 1, 1, 2, 2, 1, 2, 2, 1, 1, 2, 2, 1, 1, 2, 1, 2, 2, 2, 2, 1, 1, 1, 2, 0, 2, 2, 2, 1, 2, 2, 1, 0, 2, 2, 2, 2, 2, 0, 2, 2, 1, 2, 2, 0, 2, 2, 0, 1, 0, 2, 2, 2, 0, 2, 2, 0, 2, 2, 2, 2, 2, 0, 2, 0, 2, 1, 2, 1, 2, 1, 0, 1, 2, 2, 1, 1, 2, 0, 2, 2, 2, 1, 2, 2, 2, 2, 1, 2, 0, 0, 1, 2, 1, 2, 2, 2, 1, 2, 2, 2, 1, 2, 2, 2, 1, 2, 0, 2, 1, 2, 2, 2, 2, 1, 2, 1, 2, 1, 2, 2, 2, 2, 0, 1, 0, 1, 2, 2, 2, 2, 1, 1, 2, 2, 2, 1, 2, 0, 2, 1, 1, 2, 0, 2, 2, 1, 2, 2, 2, 2, 2, 2, 2, 2, 1, 1, 2, 2, 0, 2, 2, 2, 2, 2, 1, 1, 2, 2, 2, 2, 2, 2, 2, 2, 2, 2, 1, 0, 2, 0, 2, 2, 2, 2, 2, 2, 2, 2, 1, 1, 1, 2, 2, 2, 1, 2, 2, 2, 2, 2, 1, 0, 1, 2, 2, 1, 1, 2, 0, 2, 2, 2, 0, 1, 2, 2, 2, 2, 2, 2, 2, 2, 2, 1, 1, 2, 1, 2, 2, 2, 1, 1, 1, 2, 2, 2, 0, 2, 1, 2, 1, 2, 0, 2, 1, 2, 2, 1, 2, 1, 0, 2, 1, 2, 0, 2, 0, 0, 2, 0, 2, 1, 1, 1, 2, 2, 1, 0, 2, 1, 1, 0, 0, 2, 2, 1, 1, 2, 2, 1, 2, 2, 2, 1, 2, 1, 2, 0, 1, 0, 2, 2, 2, 1, 2, 1, 2, 2, 2, 2, 0, 2, 1, 1, 1, 2, 2, 2, 2, 1, 2, 2, 2, 1, 2, 1, 2, 1, 1, 2, 2, 2, 2, 2, 1, 2, 1, 2, 0, 1, 0, 2, 2, 2, 2, 0, 1, 1, 2, 2, 0, 2, 2, 2, 1, 2, 2, 2, 2, 2, 2, 2, 1, 1, 1, 2, 2, 2, 1, 2, 0, 1, 2, 2, 2, 2, 2, 0, 2, 2, 2, 1, 1, 2, 2, 0, 1, 0, 2, 2, 2, 2, 2, 1, 1, 2, 2, 2, 2, 2, 0, 1, 2, 0, 1, 2, 2, 2, 2, 2, 0, 0, 1, 2, 2, 0, 1, 2, 2, 2, 2, 2, 2, 1, 1, 2, 2, 2, 2, 1, 2, 2, 1, 1, 2, 2, 2, 0, 1, 2, 1, 1, 2, 2, 2, 1, 2, 2, 2, 2, 2, 1, 1, 2, 1, 2, 1, 2, 2, 1, 2, 1, 2, 2, 1, 0, 2, 0, 2, 2, 2, 2, 2, 2, 2, 2, 2, 2, 2, 1, 2, 2, 1, 1, 2, 2, 2, 2, 2, 1, 2, 2, 1, 2, 2, 1, 2, 2, 2, 1, 0, 2, 2, 2, 2, 1, 1, 1, 2, 1, 2, 2, 2, 2, 2, 1, 2, 1, 2, 2, 1, 2, 0, 2, 1, 2, 1, 2, 2, 1, 2, 2, 1, 2, 2, 2, 2, 2, 2, 2, 2, 0, 2, 0, 0, 0, 2, 2, 2, 1, 2, 2, 0, 1, 1, 2, 2, 1, 1, 1, 2, 0, 0, 2, 2, 2, 2, 2, 2, 2, 1, 1, 2, 2, 2, 2, 1, 2, 2, 2, 1, 2, 0, 2, 1, 1, 2, 1, 1, 1, 1, 2, 2, 1, 2, 2, 2, 2, 2, 0, 1, 2, 2, 2, 2, 2, 0, 1, 2, 1, 2, 2, 0, 1, 2, 1, 2, 2, 0, 1, 2, 2, 0, 2, 1, 1, 2, 2, 2, 1, 0, 2, 2, 2, 0, 1, 1, 2, 0, 2, 1, 2, 2, 2, 1, 2, 2, 1, 0, 2, 2, 0, 2, 2, 2, 2, 2, 2, 2, 1, 2, 2, 2, 1, 2, 1, 2, 2, 0, 2, 2, 2, 2, 2, 2, 0, 2, 2, 2, 2, 1, 2, 1, 0, 2, 1, 0, 2, 1, 2, 2, 2, 0, 2, 2, 0, 2, 2, 2, 2, 2, 2, 2, 2, 2, 0, 2, 2, 2, 2, 2, 2, 0, 2, 2, 2, 0, 1, 2, 2, 2, 0, 2, 1, 2, 0, 1, 2, 2, 2, 1, 2, 0, 2, 2, 1, 2, 0, 1, 1, 2, 0, 2, 0, 2, 2, 1, 2, 2, 2, 2, 0, 0, 2, 2, 0, 2, 2, 2, 1, 2, 2, 0, 2, 2, 1, 0, 2, 1, 2, 2, 2, 2, 0, 2, 1, 2, 0, 2, 1, 2, 2, 2, 1, 2, 2, 1, 2, 0, 1, 1, 1, 2, 2, 1, 2, 1, 1, 1, 0, 2, 2, 2, 2, 1, 2, 2, 2, 2, 2, 1, 2, 1, 1, 2, 1, 2, 2, 2, 2, 1, 2, 1, 2, 1, 2, 0, 2, 2, 1, 2, 2, 0, 2, 1, 2, 1, 1, 2, 2, 0, 1, 2, 1, 0, 2, 2, 1, 2, 2, 0, 1, 1, 0, 2, 1, 2, 1, 2, 2, 2, 2, 0, 2, 2, 1, 0, 1, 0, 1, 2, 2, 1, 2, 2, 1, 1, 2, 1, 2, 2, 2, 2, 1, 2, 1, 1, 0, 1, 2, 2, 1, 2, 1, 0, 1, 1, 2, 2, 1, 2, 2, 1, 2, 0, 2, 2, 2, 2, 2, 1, 2, 2, 1, 2, 2, 1, 2, 2, 1, 2, 2, 2, 2, 2, 2, 1, 2, 2, 1, 2, 2, 2, 2, 0, 2, 0, 2, 2, 2, 1, 2, 1, 2, 2, 0, 2, 0, 0, 2, 2, 2, 1, 2, 2, 1, 2, 2, 2, 2, 1, 2, 2, 1, 2, 2, 1, 2, 0, 2, 1, 2, 2, 2, 2, 1, 1, 2, 1, 0, 2, 2, 1, 2, 1, 2, 1, 2, 2, 2, 2, 2, 2, 2, 2, 1, 0, 0, 2, 1, 2, 2, 1, 2, 1, 1, 1, 2, 0, 2, 0, 1, 0, 1, 2, 2, 1, 1, 2, 2, 1, 2, 1, 2, 2, 2, 0, 0, 2, 1, 0, 1, 1, 2, 2, 1, 0, 1, 1, 2, 2, 2, 2, 2, 0, 1, 1, 2, 2, 2, 2, 2, 1, 2, 2, 0, 1, 1, 2, 2, 2, 2, 1, 2, 2, 2, 1, 2, 0, 1, 1, 2, 0, 2, 2, 2, 0, 1, 1, 1, 1, 1, 0, 2, 1, 2, 2, 1, 2, 2, 2, 1, 2, 0, 2, 1, 2, 2, 0, 2, 2, 1, 2, 1, 1, 2, 2, 2, 2, 2, 0, 1, 2, 2, 1, 2, 1, 1, 2, 1, 2, 0, 2, 1, 2, 1, 1, 2, 2, 0, 2, 1, 1, 2, 2, 2, 2, 0, 1, 0, 2, 2, 2, 2, 0, 2, 1, 2, 1, 2, 2, 1, 1, 1, 1, 0, 1, 2, 1, 1, 2, 1, 2, 0, 2, 1, 2, 2, 2, 1, 2, 1, 2, 2, 2, 1, 2, 2, 2, 2, 2, 2, 2, 0, 1, 1, 2, 2, 2, 1, 2, 2, 1, 1, 2, 1, 2, 2, 2, 2, 1, 1, 2, 1, 2, 2, 1, 2, 2, 2, 2, 0, 1, 1, 1, 2, 2, 2, 1, 2, 1, 1, 2, 2, 2, 0, 2, 2, 2, 2, 2, 0, 2, 2, 0, 1, 2, 2, 2, 1, 1, 1, 2, 2, 2, 2, 1, 0, 1, 2, 1, 2, 2, 2, 2, 2, 2, 2, 2, 1, 2, 2, 1, 1, 2, 0, 2, 2, 2, 2, 1, 1, 2, 1, 2, 2, 2, 2, 1, 2, 0, 1, 1, 2, 1, 2, 1, 0, 1, 0, 1, 2, 2, 2, 1, 2, 2, 2, 1, 2, 1, 2, 0, 1, 2, 0, 2, 2, 1, 2, 1, 1, 2, 1, 0, 1, 2, 1, 1, 1, 0, 2, 2, 2, 2, 2, 2, 2, 2, 1, 1, 2, 2, 0, 2, 2, 2, 0, 2, 1, 1, 1, 0, 2, 0, 2, 1, 1, 1, 1, 1, 2, 2, 1, 0, 2, 2, 1, 2, 2, 2, 1, 2, 2, 2, 1, 0, 2, 2, 1, 2, 2, 1, 0, 1, 2, 2, 1, 0, 2, 2, 2, 2, 2, 1, 1, 2, 2, 1, 2, 0, 0, 2, 2, 2, 2, 2, 1, 1, 0, 0, 0, 2, 0, 1, 2, 2, 2, 2, 0, 1, 2, 2, 2, 2, 1, 0, 2, 1, 2, 1, 0, 2, 1, 2, 2, 2, 2, 2, 2, 2, 1, 1, 0, 2, 2, 2, 2, 1, 0, 0, 2, 1, 1, 2, 0, 1, 1, 0, 2, 2, 2, 1, 2, 2, 2, 2, 1, 2, 2, 2, 1, 2, 2, 2, 2, 1, 2, 2, 0, 2, 2, 2, 1, 2, 2, 2, 0, 2, 2, 0, 1, 1, 2, 0, 2, 1, 2, 2, 2, 2, 0, 2, 1, 2, 2, 2, 1, 2, 2, 1, 0, 2, 2, 2, 1, 2, 1, 2, 2, 1, 1, 1, 2, 2, 2, 2, 1, 0, 2, 1, 2, 0, 2, 2, 2, 1, 2, 1, 2, 0, 1, 2, 2, 0, 1, 0, 1, 2, 2, 1, 0, 2, 2, 2, 2, 2, 0, 2, 1, 2, 0, 0, 1, 2, 2, 2, 0, 2, 2, 1, 0, 2, 1, 1, 1, 2, 0, 2, 2, 1, 2, 1, 0, 1, 1, 2, 2, 2, 0, 2, 2, 1, 1, 1, 2, 2, 2, 1, 2, 1, 1, 1, 1, 2, 2, 2, 2, 1, 1, 2, 2, 2, 2, 1, 1, 0, 0, 1, 2, 1, 2, 2, 1, 1, 2, 1, 1, 2, 1, 2, 1, 2, 2, 1, 1, 2, 2, 2, 2, 2, 2, 2, 1, 2, 1, 0, 2, 2, 2, 1, 1, 2, 1, 2, 2, 2, 1, 2, 2, 1, 2, 2, 0, 2, 2, 2, 0, 2, 2, 1, 2, 2, 1, 2, 2, 2, 2, 0, 2, 2, 1, 2, 2, 2, 2, 2, 0, 2, 2, 2, 1, 2, 1, 2, 1, 2, 2, 0, 2, 2, 2, 1, 0, 2, 2, 2, 2, 2, 2, 1, 0, 0, 2, 2, 2, 2, 1, 2, 0, 2, 2, 2, 2, 1, 2, 2, 2, 2, 2, 2, 2, 2, 0, 0, 2, 2, 2, 1, 2, 1, 2, 1, 2, 1, 2, 2, 1, 1, 0, 1, 1, 2, 1, 1, 2, 1, 2, 2, 2, 1, 1, 1, 1, 1, 2, 1, 0, 1, 2, 2, 2, 2, 2, 1, 2, 1, 0, 2, 2, 2, 0, 2, 2, 2, 2, 2, 2, 0, 2, 0, 2, 2, 1, 2, 2, 2, 0, 1, 2, 2, 1, 2, 2, 2, 2, 1, 1, 2, 2, 2, 0, 2, 2, 2, 2, 2, 1, 2, 1, 1, 0, 2, 2, 2, 0, 2, 1, 2, 2, 1, 2, 1, 2, 2, 2, 1, 1, 0, 2, 0, 1, 2, 2, 2, 2, 2, 2, 2, 2, 2, 0, 2, 2, 1, 2, 2, 2, 1, 1, 2, 2, 0, 2, 1, 1, 1, 2, 1, 2, 2, 2, 2, 2, 2, 1, 2, 2, 0, 2, 0, 2, 2, 1, 2, 2, 0, 2, 2, 0, 1, 2, 2, 2, 2, 2, 2, 1, 2, 2, 2, 2, 2, 1, 2, 2, 0, 1, 2, 1, 2, 1, 2, 2, 2, 2, 2, 0, 2, 0, 2, 1, 2, 2, 0, 1, 0, 2, 1, 2, 2, 1, 2, 2, 1, 2, 0, 0, 1, 2, 1, 1, 2, 1, 1, 2, 1, 1, 1, 2, 2, 2, 2, 2, 1, 2, 2, 1, 1, 2, 2, 2, 2, 2, 2, 1, 2, 2, 1, 2, 2, 1, 1, 1, 2, 2, 2, 2, 2, 2, 2, 1, 2, 2, 2, 1, 2, 2, 0, 1, 1, 2, 2, 2, 2, 2, 2, 2, 2, 2, 2, 2, 2, 1, 2, 2, 2, 2, 2, 2, 2, 2, 2, 2, 2, 2, 1, 0, 2, 1, 1, 1, 2, 2, 2, 2, 1, 2, 2, 2, 2, 2, 2, 2, 2, 1, 2, 2, 0, 1, 2, 1, 2, 2, 2, 2, 2, 2, 2, 2, 0, 2, 2, 2, 2, 2, 2, 1, 1, 2, 2, 2, 1, 2, 2, 2, 1, 1, 2, 2, 1, 2, 1, 2, 2, 1, 2, 1, 0, 2, 1, 2, 2, 2, 2, 2, 2, 2, 2, 2, 0, 1, 2, 2, 2, 1, 1, 2, 1, 2, 2, 1, 1, 1, 1, 1, 2, 2, 2, 1, 2, 1, 2, 1, 1, 2, 1, 0, 2, 2, 0, 1, 1, 1, 0, 1, 2, 2, 1, 1, 1, 2, 2, 0, 0, 1, 2, 2, 1, 0, 0, 1, 0, 2, 2, 1, 2, 2, 2, 1, 0, 2, 2, 1, 2, 2, 2, 1, 2, 1, 2, 1, 2, 2, 1, 1, 1, 2, 2, 2, 2, 2, 0, 1, 0, 0, 2, 2, 2, 2, 2, 2, 2, 2, 2, 0, 2, 1, 1, 2, 1, 0, 2, 2, 2, 2, 1, 0, 0, 2, 2, 2, 1, 2, 0, 2, 1, 1, 1, 2, 0, 2, 2, 2, 1, 2, 2, 2, 2, 1, 2, 2, 2, 1, 2, 2, 1, 2, 2, 2, 0, 2, 2, 2, 2, 2, 0, 2, 2, 2, 1, 2, 2, 2, 0, 2, 2, 1, 2, 2, 2, 2, 2, 1, 1, 1, 2, 2, 2, 2, 0, 2, 2, 1, 0, 2, 2, 0, 2, 0, 0, 1, 1, 2, 2, 2, 2, 2, 2, 2, 1, 2, 2, 1, 1, 1, 2, 2, 0, 0, 1, 1, 2, 2, 2, 0, 1, 2, 2, 2, 2, 2, 1, 2, 2, 2, 2, 2, 0, 2, 2, 1, 1, 2, 2, 1, 1, 2, 2, 2, 2, 2, 2, 1, 2, 0, 2, 1, 1, 2, 1, 2, 2, 2, 2, 2, 0, 2, 2, 1, 1, 2, 0, 2, 0, 2, 1, 2, 1, 1, 1, 2, 2, 1, 2, 0, 2, 2, 2, 2, 2, 2, 2, 2, 2, 2, 1, 2, 0, 0, 0, 2, 2, 2, 1, 1, 2, 2, 0, 2, 2, 2, 2, 1, 2, 0, 2, 2, 2, 2, 1, 2, 2, 2, 2, 2, 2, 0, 2, 2, 1, 1, 2, 0, 1, 2, 2, 1, 2, 2, 1, 1, 2, 1, 1, 0, 2, 2, 1, 0, 2, 2, 2, 2, 2, 1, 2, 2, 1, 1, 2, 2, 2, 2, 2, 0, 2, 2, 0, 2, 2, 1, 1, 2, 0, 2, 2, 2, 2, 2, 2, 2, 2, 2, 2, 1, 0, 2, 2, 2, 1, 2, 2, 2, 0, 2, 2, 1, 1, 2, 1, 2, 1, 2, 1, 2, 2, 0, 2, 0, 1, 2, 0, 1, 1, 1, 1, 2, 2, 1, 1, 0, 1, 2, 2, 2, 2, 2, 0, 2, 0, 1, 1, 0, 2, 2, 2, 1, 1, 1, 2, 2, 2, 0, 2, 2, 1, 1, 1, 2, 2, 2, 0, 1, 2, 2, 0, 2, 2, 2, 2, 0, 1, 2, 0, 2, 0, 2, 2, 1, 1, 2, 2, 2, 2, 1, 2, 1, 1, 1, 2, 2, 2, 0, 1, 2, 1, 0, 2, 2, 2, 2, 2, 2, 2, 2, 2, 1, 1, 1, 2, 2, 2, 1, 1, 0, 1, 1, 1, 2, 1, 1, 1, 2, 2, 2, 0, 2, 2, 0, 1, 1, 2, 2, 2, 2, 1, 2, 1, 1, 1, 2, 1, 1, 0, 2, 2, 1, 2, 1, 2, 1, 2, 1, 1, 2, 1, 2, 2, 2, 2, 2, 2, 0, 2, 2, 1, 2, 2, 1, 0, 2, 2, 1, 0, 0, 2, 1, 2, 2, 1, 2, 0, 2, 2, 2, 0, 2, 0, 1, 2, 0, 2, 1, 2, 1, 0, 2, 2, 0, 0, 1, 2, 1, 1, 1, 2, 2, 1, 0, 1, 2, 1, 2, 1, 2, 2, 2, 1, 2, 0, 1, 0, 0, 2, 1, 2, 2, 2, 2, 0, 1, 2, 2, 2, 0, 2, 2, 1, 1, 2, 1, 2, 1, 2, 1, 2, 2, 2, 1, 0, 1, 2, 2, 2, 2, 2, 2, 1, 1, 2, 2, 2, 2, 1, 2, 2, 2, 2, 1, 0, 2, 2, 2, 2, 2, 1, 2, 1, 1, 1, 2, 1, 1, 2, 2, 1, 2, 1, 2, 2, 2, 2, 1, 2, 2, 2, 1, 0, 2, 2, 1, 0, 1, 0, 0, 2, 2, 2, 0, 2, 0, 2, 1, 0, 0, 2, 2, 2, 1, 2, 2, 2, 1, 0, 2, 1, 2, 2, 2, 2, 2, 2, 2, 2, 2, 2, 1, 1, 1, 2, 1, 2, 0, 2, 2, 2, 2, 1, 1, 2, 1, 1, 1, 2, 2, 1, 1, 1, 2, 0, 2, 1, 2, 0, 2, 2, 2, 2, 2, 1, 2, 1, 0, 2, 2, 1, 1, 1, 0, 0, 0, 2, 2, 2, 0, 1, 1, 1, 2, 2, 1, 1, 2, 1, 1, 2, 2, 2, 1, 1, 2, 1, 1, 2, 1, 2, 2, 2, 2, 0, 0, 2, 2, 0, 2, 2, 2, 0, 2, 2, 2, 2, 2, 2, 1, 2, 2, 1, 1, 1, 0, 1, 2, 0, 0, 1, 2, 0, 2, 2, 2, 2, 1, 2, 2, 1, 2, 2, 2, 0, 2, 1, 0, 0, 1, 1, 1, 2, 0, 1, 1, 2, 0, 1, 2, 2, 1, 2, 2, 2, 1, 1, 2, 0, 2, 1, 1, 1, 2, 1, 2, 2, 2, 0, 0, 1, 2, 2, 2, 2, 2, 2, 2, 2, 1, 1, 2, 2, 2, 1, 2, 1, 2, 2, 2, 2, 2, 2, 1, 1, 2, 2, 2, 2, 1, 1, 1, 1, 0, 2, 2, 0, 2, 1, 1, 2, 2, 1, 2, 2, 2, 2, 1, 2, 2, 1, 2, 1, 2, 2, 0, 2, 2, 2, 1, 0, 2, 0, 0, 1, 2, 1, 2, 1, 2, 2, 1, 1, 2, 2, 1, 0, 0, 2, 1, 1, 2, 2, 2, 1, 1, 2, 1, 2, 2, 2, 2, 1, 2, 2, 1, 2, 2, 2, 2, 1, 0, 2, 2, 2, 2, 0, 2, 2, 2, 2, 2, 1, 2, 1, 2, 2, 2, 1, 2, 2, 0, 1, 2, 2, 2, 2, 2, 2, 2, 0, 0, 1, 2, 2, 2, 1, 1, 1, 1, 1, 2, 1, 2, 2, 2, 1, 2, 2, 1, 1, 2, 2, 2, 2, 0, 1, 1, 2, 2, 2, 2, 2, 2, 2, 2, 0, 2, 0, 2, 2, 1, 0, 2, 0, 2, 2, 0, 1, 2, 2, 2, 2, 2, 2, 1, 1, 2, 2, 0, 1, 2, 2, 2, 1, 2, 2, 2, 2, 2, 0, 2, 2, 2, 2, 2, 1, 2, 1, 2, 2, 2, 2, 2, 2, 2, 2, 2, 2, 2, 1, 2, 1, 1, 1, 2, 0, 2, 1, 1, 2, 1, 2, 2, 0, 1, 1, 2, 2, 1, 1, 1, 2, 0, 2, 0, 2, 2, 2, 2, 2, 2, 0, 2, 0, 1, 1, 1, 1, 1, 2, 2, 2, 0, 2, 2, 2, 2, 2, 0, 2, 2, 2, 1, 1, 1, 1, 2, 2, 2, 2, 1, 2, 2, 2, 1, 2, 1, 2, 0, 1, 0, 2, 2, 2, 1, 1, 1, 2, 2, 0, 2, 1, 2, 2, 1, 1, 1, 1, 2, 0, 1, 2, 2, 1, 2, 1, 2, 0, 2, 1, 1, 0, 2, 1, 1, 2, 1, 1, 2, 2, 1, 0, 2, 2, 2, 0, 1, 2, 2, 2, 2, 2, 1, 2, 2, 1, 2, 2, 0, 2, 2, 1, 1, 2, 2, 1, 1, 2, 1, 1, 2, 2, 1, 1, 1, 2, 2, 2, 2, 2, 2, 2, 1, 2, 0, 2, 1, 2, 1, 1, 1, 2, 2, 1, 2, 2, 1, 2, 2, 2, 2, 2, 2, 1, 2, 2, 1, 2, 2, 2, 1, 0, 0, 2, 2, 0, 1, 1, 2, 2, 2, 0, 1, 2, 2, 0, 2, 1, 1, 1, 1, 2, 0, 2, 2, 2, 1, 2, 1, 2, 2, 2, 2, 2, 1, 2, 2, 2, 2, 2, 2, 2, 2, 1, 2, 2, 0, 2, 2, 2, 2, 2, 2, 1, 2, 1, 1, 2, 0, 2, 1, 2, 0, 2, 0, 0, 2, 0, 2, 0, 0, 2, 1, 2, 2, 2, 0, 2, 2, 2, 2, 2, 1, 0, 2, 2, 2, 1, 0, 1, 2, 1, 2, 2, 1, 2, 0, 2, 2, 2, 1, 1, 1, 1, 2, 1, 0, 1, 2, 0, 0, 2, 2, 2, 1, 2, 2, 2, 1, 2, 0, 1, 2, 0, 1, 2, 1, 2, 1, 1, 2, 2, 2, 2, 2, 1, 2, 2, 2, 2, 2, 2, 1, 0, 0, 1, 1, 1, 2, 2, 2, 2, 2, 1, 2, 2, 0, 0, 1, 1, 1, 0, 2, 2, 0, 1, 2, 1, 1, 2, 2, 1, 1, 2, 2, 2, 0, 2, 2, 2, 2, 2, 2, 2, 2, 2, 2, 2, 2, 0, 2, 2, 1, 1, 2, 2, 2, 2, 2, 2, 1, 2, 1, 2, 2, 1, 0, 2, 1, 2, 2, 0, 2, 2, 1, 2, 2, 2, 0, 1, 2, 0, 2, 1, 1, 1, 1, 1, 2, 2, 2, 2, 0, 1, 1, 2, 2, 1, 2, 2, 1, 2, 2, 2, 1, 2, 0, 0, 2, 1, 0, 2, 2, 0, 0, 2, 2, 1, 1, 1, 2, 0, 2, 1, 2, 2, 2, 2, 0, 2, 0, 2, 1, 2, 2, 2, 1, 1, 0, 0, 1, 0, 0, 1, 1, 1, 1, 2, 2, 2, 1, 2, 1, 2, 2, 2, 2, 2, 2, 1, 2, 2, 2, 2, 1, 2, 2, 0, 2, 0, 0, 2, 2, 2, 2, 2, 2, 2, 2, 2, 2, 2, 0, 2, 0, 2, 0, 2, 1, 2, 2, 1, 1, 0, 2, 1, 2, 2, 1, 2, 1, 1, 0, 1, 2, 1, 2, 0, 1, 1, 1, 2, 2, 2, 0, 2, 1, 1, 1, 0, 0, 2, 2, 2, 2, 0, 1, 2, 1, 2, 2, 1, 2, 2, 2, 2, 2, 1, 2, 0, 2, 2, 2, 0, 2, 1, 1, 2, 2, 0, 1, 2, 2, 2, 2, 2, 2, 2, 2, 2, 2, 2, 2, 2, 0, 1, 2, 2, 0, 2, 0, 2, 2, 0, 2, 2, 2, 1, 2, 2, 2, 2, 1, 1, 0, 2, 1, 2, 2, 2, 2, 1, 2, 1, 2, 1, 2, 2, 2, 0, 2, 2, 2, 2, 1, 2, 1, 1, 2, 1, 2, 1, 0, 2, 2, 1, 2, 1, 2, 2, 0, 2, 0, 0, 2, 0, 2, 1, 1, 2, 2, 0, 2, 2, 0, 2, 2, 0, 2, 2, 0, 2, 2, 1, 2, 2, 2, 0, 1, 1, 1, 1, 1, 2, 2, 0, 1, 2, 1, 2, 1, 2, 1, 1, 2, 2, 1, 2, 0, 1, 1, 2, 1, 2, 1, 2, 2, 1, 1, 1, 2, 2, 0, 2, 2, 1, 2, 0, 2, 1, 2, 1, 0, 1, 2, 2, 2, 2, 2, 1, 2, 1, 2, 2, 2, 1, 2, 2, 0, 2, 2, 0, 1, 2, 0, 2, 2, 1, 2, 0, 1, 1, 0, 2, 2, 1, 1, 2, 0, 2, 1, 2, 2, 2, 2, 1, 2, 2, 1, 0, 1, 2, 2, 2, 1, 1, 0, 1, 1, 2, 0, 2, 0, 2, 2, 1, 2, 2, 2, 2, 2, 1, 2, 1, 2, 1, 2, 2, 2, 1, 0, 2, 0, 1, 2, 2, 1, 2, 2, 2, 2, 2, 2, 2, 2, 2, 1, 2, 2, 2, 1, 2, 1, 2, 2, 2, 2, 2, 2, 1, 2, 0, 2, 2, 2, 1, 1, 1, 1, 2, 0, 0, 1, 2, 2, 1, 2, 2, 2, 1, 2, 0, 1, 1, 0, 1, 2, 2, 2, 1, 2, 2, 2, 2, 2, 1, 2, 1, 1, 2, 2, 2, 2, 2, 1, 2, 1, 1, 1, 2, 1, 2, 2, 1, 1, 1, 2, 1, 1, 2, 1, 1, 0, 0, 0, 1, 2, 0, 0, 1, 2, 1, 0, 2, 2, 1, 2, 2, 2, 1, 1, 2, 1, 0, 2, 1, 2, 0, 2, 2, 2, 1, 1, 2, 2, 2, 1, 0, 1, 0, 2, 2, 2, 2, 2, 1, 2, 2, 2, 1, 2, 2, 2, 1, 2, 2, 2, 2, 1, 2, 2, 0, 2, 2, 0, 2, 2, 1, 2, 1, 1, 2, 2, 2, 2, 2, 2, 1, 1, 2, 0, 2, 2, 2, 1, 2, 2, 2, 2, 1, 2, 2, 2, 1, 2, 2, 2, 2, 1, 2, 2, 2, 2, 1, 2, 2, 2, 2, 2, 2, 2, 2, 2, 2, 1, 2, 2, 2, 2, 2, 2, 2, 1, 1, 2, 2, 2, 2, 0, 2, 1, 1, 2, 2, 2, 2, 1, 2, 2, 2, 2, 2, 2, 2, 2, 1, 1, 2, 1, 1, 1, 2, 2, 2, 2, 2, 2, 0, 0, 2, 1, 0, 2, 2, 0, 2, 2, 1, 2, 2, 2, 2, 1, 2, 1, 2, 2, 2, 1, 2, 2, 2, 2, 1, 2, 2, 2, 2, 2, 2, 2, 1, 0, 2, 0, 1, 0, 2, 1, 1, 2, 0, 2, 2, 1, 2, 1, 2, 2, 2, 2, 2, 1, 0, 0, 2, 2, 0, 2, 2, 2, 1, 1, 1, 1, 2, 0, 2, 1, 2, 2, 2, 2, 2, 1, 2, 1, 2, 2, 2, 1, 2, 2, 0, 2, 2, 0, 1, 1, 2, 0, 1, 2, 2, 1, 2, 1, 2, 2, 1, 1, 1, 0, 2, 1, 2, 2, 2, 1, 2, 2, 1, 1, 0, 2, 0, 1, 1, 0, 2, 2, 2, 1, 1, 1, 0, 2, 2, 2, 1, 1, 2, 2, 2, 2, 0, 2, 1, 1, 1, 2, 1, 1, 1, 2, 2, 1, 1, 2, 0, 0, 0, 2, 1, 2, 2, 2, 2, 1, 2, 2, 2, 1, 2, 2, 0, 2, 2, 0, 1, 2, 2, 0, 2, 2, 1, 1, 1, 0, 1, 2, 1, 0, 2, 1, 1, 1, 2, 2, 2, 2, 1, 2, 0, 2, 2, 0, 2, 0, 2, 0, 1, 2, 2, 2, 2, 2, 1, 2, 1, 2, 2, 2, 2, 2, 2, 2, 2, 1, 2, 2, 1, 0, 1, 2, 2, 1, 2, 2, 0, 1, 2, 0, 1, 1, 0, 2, 2, 0, 1, 2, 1, 2, 2, 2, 1, 2, 2, 2, 2, 1, 0, 0, 2, 2, 2, 2, 2, 2, 2, 1, 0, 2, 2, 2, 2, 2, 2, 2, 1, 2, 2, 2, 1, 2, 0, 2, 2, 1, 1, 2, 0, 1, 2, 1, 2, 2, 2, 0, 2, 2, 1, 1, 2, 2, 0, 2, 2, 1, 0, 0, 0, 2, 2, 2, 2, 2, 2, 2, 1, 0, 2, 2, 2, 2, 1, 1, 1, 1, 2, 2, 2, 2, 2, 0, 2, 2, 1, 2, 2, 2, 2, 1, 1, 2, 1, 0, 2, 1, 1, 2, 2, 0, 2, 1, 2, 1, 0, 2, 2, 1, 1, 2, 0, 2, 2, 1, 2, 1, 1, 2, 1, 2, 0, 2, 2, 2, 1, 2, 2, 2, 1, 1, 1, 2, 2, 2, 1, 0, 1, 2, 2, 1, 1, 0, 1, 2, 2, 2, 1, 2, 2, 2, 0, 2, 1, 2, 2, 2, 0, 2, 2, 1, 1, 2, 2, 2, 2, 2, 2, 2, 2, 1, 1, 2, 2, 1, 0, 1, 1, 1, 2, 0, 2, 0, 2, 1, 1, 0, 2, 2, 2, 1, 2, 1, 0, 1, 2, 0, 2, 2, 2, 2, 2, 0, 1, 2, 1, 2, 1, 1, 2, 2, 2, 2, 2, 2, 1, 2, 1, 2, 1, 2, 2, 1, 0, 2, 2, 2, 2, 2, 2, 1, 1, 2, 1, 2, 1, 1, 2, 0, 2, 2, 1, 2, 2, 2, 2, 2, 2, 2, 1, 2, 2, 1, 1, 2, 1, 0, 2, 2, 2, 2, 2, 0, 0, 1, 2, 1, 2, 2, 1, 0, 2, 1, 2, 2, 0, 1, 2, 1, 2, 2, 2, 2, 1, 1, 2, 2, 2, 2, 0, 1, 2, 2, 1, 2, 1, 1, 1, 2, 1, 1, 1, 2, 2, 2, 2, 2, 2, 2, 1, 1, 1, 1, 2, 2, 2, 2, 2, 0, 1, 2, 2, 2, 1, 1, 1, 2, 2, 1, 1, 2, 2, 2, 2, 0, 1, 2, 1, 2, 2, 2, 2, 0, 0, 1, 2, 2, 1, 2, 1, 1, 2, 1, 2, 2, 2, 2, 0, 0, 0, 1, 2, 0, 1, 2, 0, 2, 2, 0, 2, 1, 2, 1, 1, 1, 2, 2, 1, 1, 2, 2, 2, 2, 2, 2, 1, 2, 2, 2, 0, 1, 2, 1, 2, 1, 2, 0, 1, 1, 0, 1, 2, 2, 2, 2, 2, 1, 2, 2, 2, 1, 2, 1, 2, 2, 1, 1, 2, 2, 0, 0, 2, 2, 2, 0, 2, 1, 2, 1, 1, 2, 2, 1, 1, 2, 0, 0, 1, 2, 2, 2, 1, 2, 1, 1, 2, 2, 2, 2, 2, 1, 0, 2, 2, 2, 1, 1, 2, 2, 2, 2, 2, 1, 2, 1, 2, 1, 2, 2, 2, 2, 2, 2, 2, 2, 0, 2, 2, 2, 2, 2, 0, 2, 2, 1, 1, 2, 2, 2, 2, 2, 2, 2, 1, 1, 2, 2, 2, 2, 2, 1, 2, 2, 2, 1, 2, 0, 1, 2, 1, 2, 2, 2, 0, 2, 0, 0, 1, 2, 2, 2, 2, 2, 1, 2, 2, 2, 2, 2, 1, 2, 2, 0, 2, 1, 2, 2, 2, 2, 2, 0, 0, 2, 2, 2, 2, 2, 1, 0, 0, 0, 1, 1, 2, 2, 2, 1, 2, 1, 2, 2, 2, 2, 2, 2, 2, 2, 2, 0, 2, 2, 2, 2, 2, 1, 1, 2, 2, 0, 2, 1, 1, 2, 2, 1, 2, 1, 2, 2, 2, 2, 1, 2, 1, 0, 1, 1, 1, 0, 1, 2, 2, 2, 2, 1, 1, 1, 2, 1, 2, 2, 2, 2, 2, 2, 2, 2, 1, 2, 1, 2, 2, 2, 1, 2, 0, 2, 2, 1, 1, 1, 2, 2, 0, 1, 0, 2, 0, 2, 2, 2, 2, 1, 2, 2, 1, 2, 1, 2, 1, 1, 2, 2, 2, 2, 2, 2, 2, 2, 1, 2, 1, 1, 0, 2, 2, 1, 0, 2, 2, 2, 0, 2, 2, 2, 2, 1, 1, 2, 2, 2, 2, 2, 1, 2, 1, 2, 1, 2, 2, 1, 1, 2, 2, 2, 2, 2, 2, 2, 1, 2, 1, 1, 2, 2, 2, 2, 2, 1, 2, 2, 1, 1, 1, 2, 2, 2, 1, 2, 1, 1, 2, 2, 1, 2, 2, 2, 2, 1, 0, 0, 2, 1, 0, 1, 2, 2, 2, 1, 2, 2, 0, 2, 2, 1, 2, 1, 2, 2, 1, 2, 2, 2, 1, 1, 2, 0, 1, 2, 1, 2, 1, 0, 1, 1, 0, 1, 2, 1, 2, 0, 0, 1, 1, 0, 1, 2, 1, 2, 2, 2, 1, 1, 2, 2, 2, 1, 0, 1, 2, 1, 2, 0, 1, 1, 2, 2, 1, 2, 2, 2, 1, 1, 2, 2, 2, 2, 2, 2, 1, 1, 1, 2, 0, 2, 1, 2, 2, 1, 2, 2, 2, 2, 2, 2, 1, 2, 1, 1, 0, 0, 1, 2, 2, 1, 0, 2, 0, 2, 2, 2, 0, 1, 2, 2, 2, 0, 2, 2, 2, 0, 1, 2, 1, 1, 2, 2, 2, 2, 2, 2, 1, 0, 1, 2, 0, 1, 2, 2, 1, 2, 2, 0, 2, 2, 2, 0, 1, 1, 2, 2, 1, 2, 2, 2, 2, 2, 1, 2, 1, 2, 1, 2, 1, 2, 1, 2, 2, 1, 1, 1, 0, 2, 1, 2, 1, 0, 2, 0, 0, 2, 1, 2, 2, 0, 2, 2, 2, 2, 1, 2, 2, 1, 2, 2, 2, 1, 1, 2, 0, 0, 2, 2, 1, 2, 1, 2, 2, 2, 1, 2, 2, 0, 2, 2, 2, 2, 2, 0, 0, 0, 1, 2, 1, 1, 2, 2, 2, 1, 1, 2, 1, 0, 2, 2, 1, 2, 0, 2, 1, 2, 2, 2, 2, 2, 2, 1, 0, 2, 0, 1, 2, 2, 1, 1, 1, 2, 1, 2, 2, 2, 2, 0, 2, 1, 0, 2, 2, 2, 1, 1, 2, 2, 2, 2, 1, 2, 2, 2, 1, 0, 2, 1, 2, 2, 0, 2, 0, 2, 1, 2, 2, 2, 1, 0, 1, 1, 2, 2, 1, 1, 2, 2, 2, 2, 2, 1, 2, 0, 1, 2, 2, 2, 2, 2, 1, 1, 2, 2, 2, 1, 2, 0, 2, 2, 2, 2, 2, 2, 1, 2, 2, 1, 0, 2, 2, 0, 1, 1, 1, 1, 2, 2, 2, 2, 1, 0, 0, 2, 1, 2, 2, 1, 2, 2, 2, 2, 1, 1, 2, 2, 1, 2, 0, 1, 2, 2, 0, 2, 2, 2, 1, 2, 1, 2, 2, 2, 1, 2, 0, 2, 0, 2, 1, 2, 2, 1, 2, 0, 2, 2, 1, 1, 0, 1, 1, 2, 1, 2, 1, 0, 2, 1, 0, 2, 0, 2, 0, 2, 2, 1, 2, 2, 0, 1, 1, 0, 2, 0, 2, 2, 2, 2, 2, 1, 2, 1, 2, 2, 2, 2, 1, 1, 1, 2, 2, 1, 2, 1, 1, 2, 0, 2, 1, 1, 1, 2, 0, 2, 2, 2, 2, 2, 2, 0, 2, 2, 2, 2, 2, 2, 1, 2, 2, 1, 2, 1, 0, 2, 0, 2, 2, 0, 0, 1, 2, 2, 2, 2, 1, 1, 2, 0, 2, 1, 2, 1, 2, 2, 2, 1, 1, 2, 1, 2, 2, 1, 2, 1, 2, 0, 1, 2, 1, 1, 2, 1, 0, 2, 2, 1, 2, 2, 1, 1, 2, 2, 1, 1, 0, 1, 2, 2, 2, 2, 0, 0, 2, 2, 1, 2, 2, 1, 1, 2, 2, 2, 0, 2, 2, 2, 2, 2, 2, 2, 2, 1, 1, 0, 0, 1, 1, 1, 2, 2, 2, 2, 2, 0, 2, 1, 1, 1, 2, 1, 2, 0, 2, 1, 2, 2, 2, 2, 0, 1, 2, 1, 2, 2, 2, 2, 2, 2, 2, 2, 2, 0, 2, 1, 2, 2, 2, 1, 2, 2, 0, 2, 1, 2, 0, 2, 0, 1, 1, 2, 2, 2, 2, 2, 1, 2, 2, 1, 0, 1, 1, 2, 1, 1, 1, 2, 1, 2, 2, 1, 2, 1, 2, 2, 2, 2, 2, 2, 2, 2, 1, 1, 2, 2, 1, 2, 1, 1, 1, 2, 1, 2, 0, 0, 2, 2, 2, 1, 1, 0, 2, 2, 1, 2, 2, 1, 2, 0, 1, 1, 2, 2, 2, 2, 1, 2, 2, 0, 2, 1, 1, 2, 2, 2, 2, 2, 2, 2, 2, 2, 1, 1, 2, 1, 1, 1, 1, 0, 2, 0, 0, 2, 2, 1, 1, 2, 2, 2, 1, 1, 1, 2, 1, 2, 2, 2, 2, 2, 1, 1, 0, 0, 2, 1, 2, 2, 1, 2, 1, 0, 2, 2, 1, 2, 2, 2, 0, 2, 1, 2, 2, 1, 1, 2, 2, 1, 1, 2, 2, 1, 2, 2, 2, 2, 2, 1, 1, 2, 1, 2, 2, 2, 2, 2, 0, 2, 2, 2, 0, 1, 2, 2, 2, 2, 2, 2, 2, 2, 2, 2, 2, 2, 2, 0, 2, 1, 2, 1, 1, 1, 2, 2, 2, 2, 1, 2, 1, 2, 1, 2, 2, 2, 1, 1, 2, 1, 0, 1, 2, 2, 2, 1, 2, 2, 2, 1, 1, 1, 2, 2, 1, 0, 2, 2, 2, 2, 1, 0, 2, 1, 2, 1, 2, 1, 2, 2, 1, 2, 2, 1, 2, 2, 0, 2, 2, 1, 1, 2, 1, 1, 2, 2, 2, 1, 2, 2, 2, 1, 1, 2, 2, 2, 1, 2, 1, 2, 1, 2, 2, 1, 1, 2, 1, 1, 2, 1, 2, 1, 1, 2, 2, 2, 1, 2, 2, 1, 1, 1, 1, 0, 1, 2, 1, 2, 1, 1, 1, 0, 2, 0, 2, 2, 1, 2, 2, 2, 1, 2, 2, 1, 2, 1, 2, 0, 1, 1, 2, 2, 0, 1, 1, 2, 1, 2, 2, 2, 0, 0, 2, 2, 1, 2, 1, 2, 1, 1, 2, 2, 1, 2, 2, 2, 0, 2, 2, 1, 2, 2, 2, 0, 2, 1, 0, 1, 2, 0, 1, 1, 2, 1, 1, 2, 2, 0, 2, 1, 2, 2, 1, 1, 2, 2, 2, 2, 2, 0, 1, 2, 2, 1, 2, 2, 2, 2, 2, 1, 2, 2, 2, 0, 1, 0, 1, 1, 2, 1, 0, 1, 2, 0, 2, 2, 2, 2, 2, 2, 0, 2, 1, 1, 1, 2, 2, 2, 1, 2, 1, 2, 1, 0, 0, 2, 1, 2, 0, 2, 0, 2, 1, 2, 1, 1, 1, 1, 0, 1, 1, 2, 1, 2, 1, 1, 1, 1, 1, 2, 2, 1, 1, 2, 2, 1, 2, 1, 1, 2, 2, 1, 1, 1, 2, 2, 0, 2, 2, 1, 2, 2, 1, 2, 2, 1, 2, 2, 0, 1, 1, 2, 1, 2, 2, 2, 1, 1, 2, 2, 0, 0, 2, 1, 1, 2, 2, 1, 1, 0, 0, 2, 2, 2, 2, 2, 2, 2, 1, 1, 2, 2, 2, 2, 2, 1, 1, 0, 1, 0, 2, 0, 2, 2, 0, 2, 2, 2, 2, 2, 1, 1, 2, 1, 1, 2, 2, 2, 2, 2, 0, 0, 1, 0, 2, 1, 2, 2, 1, 0, 0, 1, 2, 2, 1, 1, 2, 2, 2, 1, 2, 2, 1, 1, 2, 2, 2, 1, 1, 2, 2, 2, 2, 2, 1, 2, 1, 0, 0, 2, 0, 0, 2, 2, 1, 2, 2, 1, 2, 2, 1, 0, 1, 1, 2, 2, 2, 0, 1, 0, 2, 1, 1, 1, 1, 0, 0, 2, 2, 1, 2, 0, 2, 2, 2, 2, 2, 1, 1, 2, 2, 1, 2, 2, 1, 2, 2, 0, 2, 2, 1, 2, 2, 1, 2, 1, 2, 0, 0, 1, 2, 2, 0, 2, 2, 2, 2, 1, 2, 2, 2, 1, 2, 1, 2, 2, 0, 2, 2, 1, 1, 0, 0, 1, 0, 2, 2, 2, 2, 2, 2, 2, 1, 1, 2, 2, 1, 2, 0, 0, 2, 1, 1, 2, 1, 2, 0, 2, 2, 1, 2, 2, 2, 2, 1, 0, 1, 2, 2, 2, 2, 2, 2, 2, 1, 2, 2, 2, 1, 2, 2, 0, 1, 2, 2, 2, 1, 2, 0, 0, 0, 2, 0, 2, 1, 1, 2, 1, 1, 1, 1, 1, 0, 2, 1, 2, 2, 2, 0, 2, 2, 2, 2, 2, 2, 2, 2, 1, 2, 2, 2, 2, 2, 1, 2, 1, 2, 2, 2, 1, 1, 2, 2, 1, 2, 0, 2, 2, 2, 2, 2, 2, 2, 2, 2, 1, 2, 0, 1, 1, 0, 2, 2, 0, 2, 1, 2, 1, 1, 1, 0, 2, 2, 2, 1, 1, 2, 2, 1, 2, 2, 2, 2, 2, 2, 1, 2, 1, 1, 2, 1, 2, 2, 0, 0, 2, 2, 2, 2, 2, 0, 2, 2, 1, 1, 2, 2, 2, 0, 1, 1, 2, 1, 0, 2, 2, 2, 0, 1, 1, 1, 2, 2, 0, 2, 0, 1, 2, 2, 2, 2, 1, 2, 1, 2, 2, 1, 1, 1, 0, 2, 2, 2, 0, 0, 2, 2, 1, 0, 2, 0, 2, 2, 1, 2, 2, 2, 0, 2, 2, 1, 1, 2, 0, 2, 2, 1, 2, 1, 2, 1, 0, 1, 2, 2, 2, 1, 2, 1, 2, 2, 0, 1, 1, 1, 0, 2, 1, 2, 0, 2, 0, 1, 2, 1, 2, 2, 2, 1, 1, 2, 2, 0, 1, 2, 1, 2, 2, 2, 2, 2, 2, 2, 2, 2, 0, 2, 0, 2, 2, 2, 0, 1, 2, 2, 2, 2, 2, 2, 2, 2, 2, 2, 2, 2, 0, 2, 2, 1, 2, 1, 1, 1, 2, 2, 2, 0, 2, 0, 2, 2, 0, 2, 2, 1, 1, 2, 2, 1, 1, 1, 1, 0, 2, 0, 0, 1, 2, 2, 2, 2, 2, 0, 2, 2, 1, 2, 1, 2, 2, 2, 2, 1, 1, 2, 0, 2, 2, 2, 2, 1, 2, 2, 2, 2, 0, 1, 1, 1, 1, 1, 2, 2, 0, 2, 2, 1, 2, 0, 2, 2, 1, 2, 2, 1, 2, 0, 2, 1, 2, 2, 0, 2, 1, 2, 2, 2, 1, 0, 2, 2, 2, 1, 2, 2, 1, 2, 2, 2, 1, 2, 1, 0, 2, 1, 1, 2, 2, 2, 2, 2, 2, 2, 0, 1, 2, 2, 1, 1, 2, 2, 2, 0, 2, 1, 1, 1, 2, 2, 2, 1, 2, 1, 0, 1, 0, 2, 2, 2, 2, 2, 1, 2, 2, 0, 1, 2, 1, 0, 1, 1, 2, 2, 1, 2, 2, 2, 2, 2, 2, 2, 0, 1, 1, 1, 1, 1, 1, 1, 2, 1, 1, 2, 2, 2, 0, 1, 0, 1, 0, 2, 2, 2, 2, 2, 1, 2, 2, 1, 2, 2, 0, 1, 2, 2, 0, 2, 1, 0, 2, 2, 2, 2, 2, 1, 2, 2, 2, 0, 2, 1, 2, 1, 2, 1, 2, 2, 2, 2, 2, 0, 2, 2, 2, 1, 1, 2, 2, 2, 1, 1, 2, 2, 2, 1, 2, 2, 0, 2, 1, 1, 2, 0, 2, 2, 1, 2, 2, 2, 2, 1, 2, 2, 2, 1, 0, 1, 1, 2, 1, 2, 1, 2, 0, 1, 2, 2, 2, 2, 2, 2, 0, 2, 0, 2, 2, 1, 1, 2, 2, 2, 1, 2, 2, 1, 0, 1, 1, 2, 1, 2, 2, 1, 2, 1, 2, 2, 2, 1, 2, 2, 0, 1, 1, 0, 1, 2, 2, 1, 2, 1, 2, 1, 2, 0, 2, 2, 0, 1, 0, 2, 1, 2, 2, 2, 1, 1, 1, 2, 2, 1, 1, 1, 2, 1, 2, 2, 0, 0, 2, 2, 2, 1, 2, 2, 2, 2, 2, 2, 0, 2, 1, 2, 0, 0, 1, 1, 2, 2, 2, 2, 2, 2, 2, 1, 2, 2, 1, 1, 2, 1, 2, 0, 1, 1, 1, 1, 0, 2, 0, 2, 2, 1, 2, 1, 2, 2, 2, 2, 1, 2, 2, 2, 1, 1, 2, 2, 1, 0, 2, 1, 2, 2, 2, 0, 1, 1, 2, 1, 2, 1, 1, 1, 2, 2, 1, 2, 2, 0, 2, 2, 0, 2, 2, 2, 2, 2, 1, 2, 2, 2, 2, 2, 1, 0, 2, 2, 2, 1, 2, 2, 0, 2, 1, 2, 1, 2, 0, 1, 0, 1, 2, 1, 0, 2, 1, 2, 2, 1, 1, 2, 2, 0, 1, 2, 1, 2, 2, 1, 2, 1, 2, 2, 1, 2, 2, 0, 2, 1, 2, 2, 2, 2, 1, 2, 2, 1, 0, 1, 2, 1, 2, 2, 1, 1, 1, 2, 1, 2, 1, 2, 2, 2, 2, 2, 2, 2, 2, 2, 2, 2, 2, 2, 0, 1, 2, 2, 2, 2, 2, 2, 2, 2, 2, 0, 2, 2, 2, 2, 2, 2, 2, 2, 0, 2, 1, 1, 1, 0, 1, 2, 2, 2, 0, 2, 0, 2, 2, 2, 2, 1, 2, 2, 2, 2, 2, 2, 2, 2, 1, 1, 0, 2, 2, 2, 2, 1, 2, 1, 2, 1, 2, 2, 2, 1, 2, 1, 0, 2, 0, 2, 1, 2, 1, 2, 2, 1, 2, 2, 2, 0, 2, 2, 0, 1, 0, 1, 1, 1, 1, 2, 2, 0, 2, 2, 2, 1, 0, 1, 1, 2, 1, 1, 2, 2, 2, 0, 2, 1, 0, 1, 2, 0, 2, 1, 2, 2, 2, 1, 0, 2, 2, 1, 2, 1, 2, 0, 1, 2, 2, 2, 2, 1, 2, 2, 1, 2, 2, 1, 2, 1, 2, 2, 2, 2, 1, 2, 2, 1, 0, 2, 2, 1, 0, 1, 2, 1, 2, 2, 1, 1, 1, 1, 2, 0, 2, 2, 0, 2, 2, 1, 2, 1, 1, 2, 0, 2, 1, 2, 0, 2, 2, 0, 1, 1, 2, 0, 1, 2, 1, 2, 1, 2, 1, 1, 2, 1, 2, 1, 0, 2, 2, 2, 1, 2, 2, 0, 1, 2, 0, 2, 2, 1, 1, 0, 2, 2, 2, 1, 2, 2, 0, 2, 2, 1, 1, 2, 1, 2, 1, 2, 2, 2, 1, 2, 2, 1, 2, 2, 1, 1, 2, 1, 0, 2, 1, 1, 2, 2, 1, 2, 2, 1, 1, 1, 2, 2, 1, 2, 1, 2, 2, 0, 2, 2, 0, 2, 0, 2, 2, 2, 0, 1, 1, 0, 0, 2, 1, 2, 1, 2, 2, 2, 1, 2, 1, 1, 1, 2, 0, 2, 2, 1, 2, 0, 2, 2, 1, 1, 1, 2, 1, 2, 0, 2, 2, 2, 1, 1, 0, 2, 0, 2, 2, 1, 2, 0, 2, 1, 2, 2, 1, 1, 2, 2, 1, 0, 1, 2, 2, 1, 2, 2, 2, 2, 2, 1, 2, 2, 2, 1, 2, 1, 2, 1, 0, 2, 2, 2, 2, 2, 1, 2, 2, 2, 2, 0, 0, 1, 2, 1, 0, 0, 2, 1, 1, 0, 2, 2, 2, 1, 2, 2, 1, 2, 2, 2, 2, 0, 2, 1, 2, 1, 1, 1, 2, 1, 1, 2, 2, 2, 2, 2, 2, 1, 2, 1, 2, 0, 2, 2, 2, 2, 2, 2, 1, 1, 1, 2, 2, 1, 2, 2, 1, 1, 2, 1, 2, 2, 2, 2, 2, 2, 1, 2, 2, 2, 1, 2, 0, 2, 1, 2, 1, 2, 1, 0, 1, 2, 0, 2, 2, 2, 2, 2, 2, 2, 1, 1, 2, 1, 2, 1, 2, 1, 1, 0, 2, 1, 0, 1, 2, 2, 2, 1, 1, 1, 2, 2, 2, 2, 2, 1, 2, 2, 2, 2, 2, 1, 0, 2, 2, 2, 1, 2, 2, 0, 1, 1, 2, 1, 2, 0, 2, 1, 1, 2, 0, 2, 2, 2, 2, 2, 2, 2, 2, 2, 1, 1, 2, 1, 2, 1, 0, 0, 2, 1, 1, 1, 2, 2, 2, 2, 0, 2, 2, 2, 2, 1, 2, 1, 2, 1, 2, 2, 2, 2, 2, 1, 2, 2, 2, 1, 1, 1, 2, 2, 2, 2, 2, 2, 1, 2, 2, 1, 1, 2, 0, 2, 2, 1, 2, 2, 1, 2, 2, 1, 1, 1, 2, 2, 2, 0, 2, 1, 1, 2, 0, 0, 2, 2, 1, 2, 1, 2, 1, 2, 2, 2, 2, 1, 2, 2, 2, 1, 0, 2, 2, 2, 2, 2, 1, 2, 2, 1, 2, 2, 0, 1, 1, 2, 2, 1, 2, 2, 1, 2, 1, 2, 1, 2, 2, 2, 2, 2, 2, 2, 2, 1, 2, 2, 1, 2, 2, 0, 2, 2, 2, 1, 1, 1, 2, 2, 1, 2, 1, 1, 2, 2, 1, 2, 2, 2, 2, 2, 1, 2, 2, 2, 2, 2, 2, 1, 1, 1, 2, 1, 2, 2, 2, 2, 2, 1, 1, 2, 2, 1, 0, 2, 1, 2, 1, 2, 1, 2, 0, 1, 1, 1, 2, 2, 1, 2, 0, 2, 2, 2, 1, 2, 2, 2, 1, 2, 1, 1, 1, 2, 1, 2, 2, 0, 2, 1, 1, 0, 2, 2, 2, 0, 0, 1, 2, 2, 2, 0, 1, 2, 0, 2, 2, 2, 0, 2, 1, 1, 2, 2, 1, 2, 2, 1, 2, 2, 2, 1, 2, 2, 1, 1, 2, 1, 2, 2, 2, 2, 1, 1, 2, 2, 1, 1, 2, 2, 2, 2, 2, 1, 1, 2, 2, 2, 2, 2, 2, 1, 2, 2, 1, 1, 1, 2, 2, 1, 2, 2, 0, 2, 2, 1, 1, 1, 2, 1, 1, 1, 2, 2, 1, 2, 0, 2, 2, 2, 2, 2, 2, 2, 2, 2, 2, 1, 1, 2, 1, 2, 2, 2, 2, 2, 2, 1, 2, 2, 2, 2, 0, 2, 1, 0, 2, 1, 0, 2, 1, 2, 1, 2, 0, 1, 2, 1, 1, 1, 2, 2, 1, 1, 2, 1, 1, 1, 2, 2, 2, 2, 2, 1, 2, 2, 2, 1, 2, 1, 2, 0, 1, 2, 2, 2, 0, 0, 2, 2, 2, 2, 2, 1, 1, 2, 1, 2, 2, 2, 1, 0, 1, 1, 0, 0, 0, 2, 1, 1, 2, 2, 2, 0, 2, 1, 1, 2, 2, 2, 2, 0, 1, 1, 1, 2, 2, 2, 1, 2, 1, 0, 2, 1, 2, 1, 2, 1, 0, 2, 1, 2, 2, 2, 2, 2, 2, 1, 2, 2, 2, 2, 0, 2, 2, 2, 2, 2, 2, 2, 2, 1, 1, 2, 2, 2, 1, 1, 1, 2, 2, 2, 2, 1, 2, 1, 1, 1, 2, 2, 2, 2, 2, 1, 2, 0, 2, 1, 2, 1, 1, 0, 2, 1, 0, 0, 1, 2, 2, 1, 2, 2, 1, 2, 1, 2, 2, 2, 2, 2, 0, 1, 2, 0, 1, 0, 1, 2, 2, 2, 2, 2, 2, 2, 0, 2, 2, 2, 2, 2, 2, 2, 1, 2, 2, 1, 0, 1, 0, 1, 2, 2, 0, 1, 2, 2, 1, 2, 0, 2, 2, 1, 0, 1, 2, 0, 2, 2, 2, 2, 2, 2, 2, 2, 1, 1, 2, 2, 2, 0, 2, 2, 1, 2, 1, 2, 0, 2, 0, 1, 2, 2, 1, 0, 0, 2, 2, 2, 1, 0, 2, 2, 2, 1, 1, 1, 2, 2, 2, 1, 1, 2, 0, 2, 1, 2, 2, 1, 2, 2, 2, 2, 0, 2, 2, 2, 0, 2, 0, 2, 1, 1, 1, 2, 2, 2, 2, 2, 1, 2, 2, 2, 2, 2, 2, 2, 2, 0, 2, 1, 2, 1, 2, 0, 2, 2, 2, 1, 1, 0, 2, 1, 2, 1, 1, 1, 2, 2, 1, 1, 0, 1, 2, 2, 2, 0, 2, 2, 2, 1, 0, 2, 0, 2, 1, 2, 0, 1, 1, 0, 1, 2, 2, 2, 1, 0, 2, 2, 1, 1, 1, 2, 0, 0, 1, 2, 1, 2, 0, 1, 2, 1, 2, 2, 2, 0, 2, 2, 1, 2, 2, 1, 1, 2, 1, 2, 1, 0, 2, 1, 1, 0, 2, 2, 1, 1, 1, 0, 1, 2, 2, 0, 1, 1, 2, 1, 1, 2, 2, 2, 2, 2, 1, 2, 2, 1, 2, 2, 2, 2, 2, 0, 2, 2, 2, 2, 1, 2, 2, 2, 2, 2, 2, 2, 2, 0, 1, 1, 0, 2, 0, 2, 2, 2, 2, 2, 1, 0, 1, 1, 1, 1, 2, 2, 2, 2, 2, 1, 2, 2, 2, 1, 2, 1, 2, 2, 2, 2, 1, 2, 2, 2, 1, 2, 2, 1, 1, 1, 2, 2, 1, 1, 1, 1, 1, 2, 2, 2, 2, 2, 2, 2, 2, 1, 2, 2, 1, 2, 2, 2, 1, 2, 0, 2, 1, 1, 2, 0, 0, 2, 1, 2, 2, 2, 2, 2, 2, 2, 1, 2, 2, 2, 2, 0, 1, 2, 2, 2, 2, 2, 0, 2, 2, 1, 1, 0, 1, 0, 2, 0, 2, 2, 2, 2, 0, 2, 2, 2, 2, 2, 1, 2, 1, 0, 2, 2, 1, 2, 0, 2, 2, 1, 2, 2, 2, 2, 2, 2, 1, 2, 2, 1, 2, 2, 0, 2, 2, 2, 2, 1, 2, 2, 2, 0, 1, 2, 2, 2, 2, 2, 2, 2, 2, 1, 2, 0, 2, 1, 2, 2, 2, 1, 1, 0, 1, 2, 0, 2, 1, 2, 2, 2, 0, 1, 2, 2, 2, 2, 1, 0, 1, 0, 2, 1, 1, 2, 1, 2, 2, 0, 0, 2, 2, 2, 2, 2, 2, 2, 2, 2, 0, 2, 1, 1, 1, 1, 0, 1, 1, 2, 2, 1, 1, 2, 2, 0, 1, 1, 2, 2, 2, 1, 1, 2, 2, 1, 1, 0, 0, 2, 2, 1, 1, 2, 2, 2, 2, 2, 2, 2, 1, 1, 2, 2, 1, 2, 2, 1, 2, 2, 1, 1, 2, 2, 1, 2, 1, 1, 0, 1, 2, 1, 2, 0, 2, 0, 2, 1, 0, 2, 2, 2, 2, 2, 2, 2, 2, 1, 1, 2, 1, 1, 1, 2, 2, 2, 1, 2, 0, 2, 0, 1, 2, 2, 2, 2, 1, 2, 0, 2, 2, 1, 0, 1, 2, 2, 2, 2, 0, 0, 2, 2, 0, 1, 2, 2, 2, 2, 0, 0, 2, 2, 2, 1, 2, 1, 2, 2, 2, 1, 1, 2, 1, 2, 2, 1, 2, 1, 2, 1, 0, 0, 2, 2, 2, 2, 1, 2, 2, 0, 1, 2, 1, 2, 2, 2, 2, 2, 2, 2, 2, 1, 2, 1, 2, 2, 0, 0, 0, 2, 0, 1, 2, 2, 1, 2, 1, 1, 2, 2, 2, 1, 2, 1, 2, 2, 2, 1, 1, 0, 2, 1, 0, 2, 2, 2, 1, 1, 2, 2, 1, 2, 2, 2, 2, 1, 1, 2, 0, 2, 2, 2, 0, 1, 1, 0, 2, 2, 1, 2, 2, 1, 2, 2, 2, 2, 2, 1, 2, 2, 0, 1, 1, 2, 1, 0, 1, 2, 2, 1, 2, 1, 1, 0, 1, 2, 2, 1, 1, 2, 2, 0, 1, 2, 2, 1, 2, 1, 0, 2, 1, 1, 1, 1, 1, 2, 1, 2, 1, 2, 1, 2, 2, 1, 2, 2, 2, 1, 2, 2, 2, 2, 2, 0, 2, 2, 2, 2, 2, 1, 2, 1, 2, 2, 2, 1, 2, 2, 2, 1, 2, 2, 1, 2, 1, 2, 2, 2, 2, 1, 1, 2, 2, 1, 2, 2, 2, 0, 2, 1, 0, 2, 2, 2, 0, 2, 2, 2, 2, 1, 2, 2, 2, 2, 0, 2, 2, 2, 2, 1, 2, 2, 1, 2, 2, 2, 1, 0, 2, 2, 1, 1, 2, 2, 2, 1, 2, 2, 1, 2, 2, 0, 1, 2, 2, 1, 1, 2, 2, 2, 2, 1, 2, 1, 1, 2, 1, 2, 2, 2, 1, 2, 2, 1, 2, 2, 0, 1, 1, 1, 2, 2, 1, 0, 1, 1, 0, 1, 1, 2, 1, 1, 1, 2, 2, 1, 2, 2, 2, 2, 2, 1, 2, 0, 2, 2, 2, 0, 2, 2, 2, 2, 2, 2, 2, 1, 2, 1, 1, 0, 1, 1, 2, 1, 2, 1, 2, 0, 0, 2, 2, 2, 1, 1, 1, 2, 2, 2, 2, 1, 1, 1, 2, 2, 2, 2, 2, 2, 2, 1, 0, 2, 2, 1, 2, 1, 1, 1, 2, 2, 1, 0, 2, 1, 2, 2, 1, 2, 2, 2, 0, 2, 2, 1, 1, 0, 2, 0, 1, 1, 2, 1, 0, 2, 2, 2, 2, 2, 2, 1, 2, 2, 2, 2, 1, 2, 2, 2, 2, 2, 1, 2, 2, 2, 2, 2, 0, 0, 1, 0, 2, 2, 2, 1, 1, 2, 2, 1, 0, 2, 1, 2, 0, 2, 2, 1, 2, 1, 2, 1, 0, 1, 2, 1, 1, 1, 1, 1, 1, 1, 2, 2, 2, 1, 2, 1, 2, 1, 1, 1, 2, 2, 1, 1, 2, 1, 1, 2, 1, 1, 1, 2, 2, 1, 2, 2, 0, 2, 0, 2, 2, 1, 2, 1, 0, 1, 2, 2, 1, 2, 0, 2, 2, 2, 2, 2, 2, 2, 1, 1, 2, 1, 1, 1, 2, 2, 1, 1, 2, 2, 1, 1, 2, 0, 2, 1, 2, 2, 2, 1, 2, 2, 2, 2, 1, 2, 1, 2, 2, 1, 1, 2, 2, 1, 2, 2, 2, 2, 2, 2, 1, 2, 1, 1, 2, 0, 2, 1, 2, 1, 2, 1, 2, 2, 2, 2, 2, 2, 2, 1, 2, 2, 0, 2, 2, 2, 2, 1, 0, 0, 2, 2, 2, 2, 2, 1, 1, 2, 0, 2, 1, 2, 2, 2, 0, 2, 2, 1, 2, 1, 2, 2, 0, 2, 2, 2, 2, 2, 1, 0, 1, 2, 2, 1, 0, 2, 2, 1, 1, 1, 1, 2, 2, 1, 2, 0, 2, 2, 1, 1, 2, 1, 1, 2, 1, 0, 2, 2, 0, 2, 0, 1, 2, 0, 1, 2, 2, 0, 1, 0, 1, 2, 2, 1, 2, 1, 2, 2, 1, 2, 2, 2, 0, 2, 2, 1, 1, 0, 2, 2, 1, 2, 0, 1, 1, 1, 2, 1, 1, 2, 2, 1, 1, 0, 2, 2, 2, 1, 2, 0, 2, 2, 1, 0, 1, 2, 1, 2, 1, 1, 2, 2, 2, 2, 2, 1, 1, 1, 2, 1, 0, 2, 2, 0, 2, 2, 2, 2, 2, 1, 2, 0, 1, 2, 2, 2, 2, 2, 2, 0, 2, 2, 2, 1, 2, 0, 1, 2, 1, 2, 2, 2, 1, 1, 2, 1, 1, 2, 2, 2, 1, 2, 1, 2, 2, 2, 2, 1, 1, 2, 2, 2, 2, 0, 2, 0, 2, 0, 2, 1, 1, 1, 0, 2, 2, 2, 1, 0, 2, 2, 1, 0, 2, 2, 2, 1, 0, 2, 2, 1, 2, 2, 2, 1, 2, 0, 2, 1, 2, 2, 2, 1, 2, 1, 0, 2, 1, 1, 2, 2, 2, 1, 1, 2, 1, 2, 2, 2, 2, 0, 1, 2, 1, 1, 1, 1, 2, 1, 0, 2, 1, 2, 2, 1, 2, 2, 1, 0, 0, 2, 0, 2, 2, 1, 2, 1, 2, 2, 1, 1, 2, 1, 0, 2, 2, 2, 2, 2, 0, 2, 2, 2, 1, 2, 1, 2, 1, 2, 2, 1, 2, 2, 1, 2, 2, 0, 1, 2, 2, 0, 2, 0, 1, 2, 2, 1, 2, 1, 1, 2, 2, 2, 2, 2, 2, 2, 2, 1, 2, 0, 2, 2, 1, 2, 2, 2, 2, 1, 2, 2, 1, 2, 2, 2, 1, 1, 2, 2, 2, 2, 1, 2, 1, 1, 1, 2, 2, 2, 2, 2, 1, 0, 0, 2, 2, 2, 0, 1, 2, 2, 2, 1, 2, 2, 1, 1, 0, 2, 0, 2, 0, 2, 1, 1, 0, 2, 2, 1, 2, 2, 1, 2, 1, 1, 1, 0, 2, 2, 2, 2, 0, 0, 0, 1, 0, 1, 2, 2, 2, 2, 2, 1, 0, 1, 0, 2, 1, 1, 2, 2, 2, 2, 1, 2, 2, 0, 1, 0, 2, 2, 2, 1, 2, 0, 0, 1, 1, 2, 2, 1, 1, 1, 2, 0, 2, 2, 0, 2, 2, 0, 2, 2, 2, 0, 0, 1, 1, 2, 2, 1, 2, 2, 1, 2, 2, 1, 1, 2, 0, 2, 2, 0, 1, 1, 2, 1, 2, 0, 1, 2, 0, 1, 2, 2, 1, 2, 2, 2, 1, 0, 0, 2, 2, 1, 1, 0, 2, 1, 2, 2, 2, 2, 1, 2, 2, 2, 1, 2, 2, 2, 2, 2, 2, 1, 2, 1, 2, 1, 1, 2, 2, 2, 1, 1, 0, 1, 2, 2, 2, 2, 2, 2, 2, 2, 0, 2, 2, 0, 2, 2, 1, 1, 2, 2, 1, 1, 0, 1, 2, 1, 2, 2, 2, 2, 1, 1, 0, 2, 2, 2, 2, 0, 2, 2, 2, 2, 2, 1, 0, 2, 2, 1, 2, 2, 2, 2, 2, 2, 2, 2, 2, 2, 2, 2, 1, 1, 2, 2, 0, 1, 2, 2, 2, 2, 1, 2, 2, 2, 2, 1, 0, 2, 2, 2, 2, 2, 2, 1, 1, 1, 2, 2, 1, 0, 0, 0, 2, 2, 1, 2, 2, 0, 1, 1, 0, 2, 2, 2, 2, 2, 2, 2, 1, 0, 2, 1, 2, 1, 2, 2, 2, 2, 2, 2, 0, 0, 1, 2, 1, 2, 1, 1, 1, 0, 1, 2, 1, 1, 2, 2, 0, 1, 1, 2, 2, 1, 1, 1, 2, 2, 2, 2, 1, 1, 2, 2, 1, 2, 1, 2, 2, 1, 1, 0, 2, 2, 0, 2, 1, 2, 2, 1, 2, 2, 2, 1, 2, 2, 2, 2, 2, 2, 2, 2, 0, 2, 1, 2, 1, 2, 2, 0, 1, 2, 0, 2, 2, 1, 1, 1, 1, 2, 2, 2, 2, 2, 0, 0, 2, 2, 2, 1, 1, 2, 1, 1, 2, 2, 1, 2, 2, 1, 2, 1, 2, 1, 1, 2, 2, 1, 1, 2, 1, 2, 1, 2, 2, 2, 1, 1, 1, 2, 2, 1, 2, 1, 2, 0, 0, 1, 2, 2, 1, 2, 1, 2, 2, 2, 0, 2, 1, 2, 2, 1, 1, 1, 2, 2, 2, 2, 0, 1, 0, 1, 1, 1, 0, 1, 1, 2, 1, 1, 2, 1, 2, 0, 1, 2, 2, 2, 2, 2, 1, 1, 2, 0, 1, 2, 1, 1, 2, 0, 2, 2, 2, 1, 1, 1, 0, 1, 2, 1, 2, 1, 1, 1, 2, 2, 0, 2, 2, 1, 2, 0, 0, 2, 1, 1, 2, 2, 2, 1, 2, 2, 1, 2, 2, 2, 2, 1, 2, 0, 1, 2, 2, 0, 1, 0, 0, 2, 1, 1, 1, 2, 2, 2, 2, 2, 0, 2, 1, 2, 1, 2, 2, 2, 2, 0, 2, 1, 1, 2, 2, 1, 2, 1, 2, 2, 0, 1, 1, 0, 2, 2, 1, 2, 2, 1, 1, 1, 2, 2, 2, 1, 1, 2, 2, 2, 0, 2, 1, 1, 2, 2, 0, 1, 2, 2, 2, 2, 2, 2, 2, 2, 2, 1, 0, 2, 1, 2, 2, 2, 2, 2, 1, 1, 2, 2, 2, 2, 0, 0, 2, 2, 1, 2, 2, 1, 1, 2, 2, 2, 1, 2, 2, 2, 2, 1, 1, 2, 2, 1, 2, 1, 2, 1, 2, 1, 2, 1, 2, 2, 2, 1, 1, 2, 2, 1, 1, 1, 2, 2, 2, 1, 2, 1, 2, 2, 2, 2, 2, 1, 1, 2, 2, 0, 2, 2, 1, 1, 2, 2, 2, 1, 2, 2, 2, 2, 2, 2, 2, 1, 1, 2, 1, 2, 2, 2, 0, 2, 2, 1, 2, 2, 1, 1, 2, 0, 2, 2, 1, 2, 1, 0, 0, 1, 2, 2, 2, 2, 2, 1, 2, 2, 1, 2, 2, 1, 1, 2, 0, 2, 1, 1, 2, 1, 0, 2, 0, 2, 2, 2, 2, 2, 2, 2, 1, 1, 2, 0, 2, 2, 1, 0, 1, 0, 2, 0, 2, 2, 2, 0, 2, 1, 2, 0, 2, 2, 2, 2, 2, 1, 2, 2, 2, 1, 1, 2, 1, 0, 2, 0, 2, 2, 1, 1, 1, 2, 1, 1, 2, 2, 1, 2, 2, 2, 2, 1, 1, 1, 1, 2, 2, 2, 0, 2, 0, 2, 2, 2, 2, 2, 0, 1, 1, 2, 0, 0, 0, 2, 1, 2, 1, 2, 0, 2, 2, 0, 0, 1, 2, 1, 2, 2, 2, 2, 1, 2, 1, 1, 2, 2, 2, 0, 0, 1, 2, 2, 2, 2, 2, 2, 1, 2, 2, 2, 1, 2, 1, 2, 2, 2, 1, 1, 2, 2, 1, 2, 2, 1, 2, 2, 2, 1, 2, 2, 1, 2, 2, 2, 0, 2, 1, 0, 2, 0, 2, 1, 2, 2, 0, 2, 1, 2, 0, 1, 2, 2, 2, 0, 1, 2, 2, 0, 1, 2, 2, 0, 2, 0, 1, 2, 1, 2, 0, 2, 1, 2, 2, 1, 2, 0, 1, 2, 0, 2, 0, 1, 2, 2, 1, 1, 2, 2, 2, 0, 1, 1, 1, 2, 2, 2, 2, 2, 1, 1, 2, 0, 1, 2, 0, 2, 2, 2, 1, 2, 2, 1, 2, 2, 2, 2, 2, 2, 0, 2, 2, 2, 0, 2, 0, 2, 2, 1, 2, 2, 1, 2, 2, 2, 2, 0, 1, 2, 1, 2, 0, 0, 1, 1, 1, 2, 2, 1, 2, 2, 2, 2, 2, 2, 1, 2, 0, 2, 1, 2, 2, 1, 0, 2, 2, 2, 2, 2, 2, 0, 1, 1, 0, 1, 2, 1, 1, 0, 2, 2, 1, 1, 2, 2, 2, 2, 1, 0, 1, 2, 1, 2, 2, 1, 2, 2, 1, 1, 2, 2, 1, 1, 1, 0, 1, 2, 1, 1, 2, 0, 2, 2, 2, 1, 2, 0, 2, 2, 1, 1, 2, 0, 2, 0, 2, 1, 1, 0, 2, 2, 0, 0, 2, 2, 0, 2, 1, 2, 2, 2, 2, 2, 2, 2, 1, 2, 2, 2, 0, 2, 2, 0, 2, 2, 1, 2, 2, 2, 2, 1, 2, 1, 0, 2, 1, 2, 0, 0, 1, 1, 1, 1, 2, 0, 2, 1, 2, 0, 0, 1, 2, 1, 2, 1, 2, 1, 2, 2, 2, 2, 2, 1, 2, 2, 0, 2, 1, 1, 2, 2, 0, 2, 2, 2, 2, 0, 2, 0, 1, 1, 2, 1, 1, 1, 2, 2, 1, 2, 1, 1, 2, 2, 1, 1, 2, 1, 0, 0, 2, 1, 2, 2, 1, 2, 0, 2, 1, 2, 2, 2, 2, 2, 1, 2, 2, 2, 2, 2, 2, 2, 2, 1, 2, 1, 1, 2, 2, 0, 1, 1, 2, 0, 1, 2, 2, 2, 0, 2, 0, 2, 2, 2, 2, 2, 2, 1, 2, 1, 1, 1, 2, 2, 2, 2, 2, 0, 2, 2, 1, 2, 2, 1, 2, 2, 2, 2, 2, 1, 2, 2, 2, 1, 2, 2, 1, 2, 2, 2, 1, 2, 2, 1, 2, 2, 2, 2, 2, 2, 1, 2, 0, 1, 0, 2, 0, 2, 2, 2, 2, 2, 2, 1, 2, 2, 2, 2, 1, 1, 1, 2, 2, 2, 1, 2, 2, 1, 1, 0, 2, 1, 2, 0, 2, 0, 2, 2, 2, 1, 2, 2, 1, 1, 1, 2, 2, 1, 1, 2, 2, 2, 2, 1, 1, 2, 2, 2, 0, 2, 2, 1, 1, 1, 2, 2, 2, 1, 2, 1, 2, 2, 2, 2, 2, 1, 2, 2, 2, 2, 1, 1, 1, 2, 1, 2, 2, 2, 2, 2, 2, 2, 1, 2, 0, 0, 2, 2, 2, 2, 2, 1, 2, 2, 2, 2, 2, 2, 2, 2, 2, 2, 2, 2, 2, 0, 2, 0, 2, 1, 2, 2, 2, 2, 2, 1, 2, 1, 2, 2, 0, 1, 0, 2, 0, 2, 2, 2, 0, 1, 1, 2, 1, 2, 0, 2, 1, 0, 1, 0, 2, 0, 1, 2, 2, 2, 1, 2, 1, 2, 2, 0, 0, 2, 1, 2, 1, 2, 2, 2, 2, 2, 1, 0, 2, 0, 1, 2, 2, 2, 0, 2, 2, 1, 1, 1, 0, 2, 1, 2, 1, 2, 1, 2, 2, 2, 2, 2, 2, 2, 2, 0, 0, 2, 2, 0, 1, 1, 2, 0, 1, 1, 2, 1, 1, 2, 2, 2, 2, 2, 2, 1, 1, 1, 1, 2, 2, 0, 2, 2, 0, 2, 1, 2, 2, 1, 2, 2, 2, 2, 2, 2, 2, 2, 1, 2, 0, 1, 1, 0, 1, 2, 1, 0, 2, 1, 2, 1, 0, 0, 2, 2, 0, 2, 2, 2, 1, 2, 1, 1, 1, 1, 1, 1, 2, 2, 1, 2, 2, 1, 1, 2, 1, 1, 1, 0, 1, 1, 1, 2, 2, 2, 2, 2, 2, 0, 2, 0, 2, 2, 1, 0, 2, 2, 2, 1, 2, 0, 2, 0, 1, 1, 2, 2, 2, 1, 2, 2, 2, 1, 1, 1, 1, 2, 0, 2, 0, 2, 1, 2, 1, 0, 2, 1, 2, 2, 0, 2, 1, 0, 2, 1, 2, 2, 1, 2, 2, 1, 2, 2, 1, 2, 2, 0, 1, 1, 2, 2, 0, 2, 2, 2, 1, 2, 0, 2, 2, 1, 2, 2, 1, 1, 2, 0, 2, 2, 1, 2, 2, 2, 2, 1, 2, 1, 1, 2, 1, 2, 1, 2, 2, 2, 1, 1, 1, 2, 1, 2, 2, 2, 1, 1, 2, 2, 0, 1, 0, 2, 2, 2, 2, 0, 2, 1, 2, 1, 1, 1, 0, 1, 1, 0, 2, 1, 2, 0, 1, 2, 2, 0, 2, 0, 1, 1, 2, 1, 2, 2, 2, 1, 2, 2, 1, 2, 2, 2, 2, 1, 1, 2, 1, 2, 2, 0, 2, 2, 0, 2, 2, 1, 1, 2, 2, 0, 2, 2, 0, 1, 2, 2, 2, 0, 0, 1, 1, 2, 2, 1, 1, 0, 2, 2, 2, 1, 2, 1, 2, 0, 2, 1, 1, 1, 2, 1, 0, 2, 0, 2, 1, 0, 1, 2, 2, 2, 2, 1, 2, 2, 2, 1, 2, 2, 2, 1, 2, 2, 2, 0, 1, 1, 1, 2, 1, 2, 2, 1, 0, 2, 1, 1, 2, 2, 2, 2, 2, 1, 2, 2, 2, 2, 2, 1, 2, 2, 2, 1, 1, 0, 2, 2, 0, 2, 2, 2, 0, 1, 0, 0, 1, 2, 1, 2, 2, 1, 2, 1, 2, 2, 2, 2, 0, 2, 2, 2, 0, 2, 1, 1, 1, 1, 1, 2, 2, 1, 1, 2, 1, 2, 1, 1, 2, 2, 2, 0, 2, 2, 2, 2, 1, 1, 1, 2, 2, 0, 1, 1, 2, 1, 2, 1, 2, 2, 1, 2, 2, 2, 2, 1, 1, 1, 1, 1, 1, 1, 2, 1, 2, 2, 0, 1, 2, 1, 2, 2, 1, 2, 2, 2, 0, 2, 0, 2, 2, 1, 1, 0, 2, 2, 2, 0, 2, 2, 1, 2, 0, 1, 1, 2, 2, 2, 2, 1, 2, 0, 1, 2, 2, 1, 2, 2, 2, 2, 2, 0, 2, 2, 0, 2, 1, 0, 0, 0, 2, 1, 1, 2, 1, 0, 1, 0, 2, 2, 2, 1, 2, 2, 2, 0, 1, 2, 2, 0, 1, 1, 2, 2, 1, 2, 1, 1, 1, 2, 2, 2, 0, 1, 2, 2, 1, 2, 2, 1, 1, 0, 2, 2, 2, 2, 1, 2, 0, 2, 0, 2, 2, 2, 2, 2, 2, 1, 1, 2, 1, 2, 1, 2, 2, 2, 1, 2, 1, 2, 2, 2, 2, 2, 2, 2, 2, 2, 2, 2, 2, 1, 2, 2, 2, 1, 2, 2, 0, 1, 2, 2, 2, 2, 2, 1, 2, 2, 1, 1, 1, 1, 2, 0, 2, 2, 1, 1, 0, 2, 0, 1, 2, 0, 1, 1, 1, 0, 1, 2, 2, 1, 2, 2, 2, 2, 2, 1, 2, 0, 2, 1, 1, 1, 2, 2, 2, 1, 1, 1, 2, 2, 2, 2, 0, 2, 2, 2, 2, 1, 2, 1, 1, 1, 2, 1, 0, 2, 1, 2, 2, 0, 0, 0, 2, 2, 2, 0, 2, 2, 2, 2, 2, 1, 1, 2, 2, 2, 0, 2, 0, 1, 1, 2, 1, 2, 0, 2, 0, 2, 1, 1, 2, 2, 2, 2, 0, 1, 0, 2, 2, 0, 1, 2, 2, 0, 1, 2, 2, 2, 1, 1, 2, 1, 1, 2, 2, 2, 1, 2, 2, 2, 1, 2, 2, 1, 2, 0, 1, 2, 2, 2, 2, 2, 2, 0, 2, 2, 1, 2, 2, 2, 2, 1, 1, 1, 2, 2, 2, 0, 2, 1, 2, 0, 0, 2, 2, 0, 2, 0, 2, 2, 2, 1, 2, 2, 2, 1, 1, 0, 2, 1, 2, 2, 1, 2, 1, 1, 1, 2, 2, 1, 0, 1, 0, 2, 1, 2, 2, 2, 1, 0, 0, 2, 2, 0, 2, 2, 0, 2, 1, 0, 2, 1, 1, 0, 2, 2, 2, 0, 2, 2, 2, 1, 2, 2, 1, 0, 1, 2, 2, 2, 1, 0, 2, 1, 2, 2, 2, 2, 2, 2, 2, 2, 1, 2, 0, 0, 0, 2, 1, 2, 2, 1, 2, 2, 0, 2, 1, 1, 2, 2, 2, 0, 2, 0, 2, 2, 1, 2, 2, 2, 2, 2, 2, 2, 2, 2, 0, 2, 2, 1, 2, 2, 1, 0, 0, 0, 2, 2, 2, 0, 1, 2, 2, 0, 2, 2, 2, 2, 2, 2, 2, 1, 1, 2, 1, 2, 1, 2, 1, 0, 1, 2, 2, 1, 2, 2, 2, 2, 0, 2, 1, 2, 1, 2, 2, 2, 1, 1, 2, 1, 1, 0, 1, 1, 2, 2, 2, 0, 2, 2, 0, 2, 2, 1, 2, 2, 2, 1, 1, 2, 0, 2, 2, 2, 1, 1, 1, 2, 2, 2, 1, 2, 0, 1, 1, 2, 1, 2, 2, 2, 2, 2, 2, 2, 0, 1, 2, 1, 2, 2, 1, 1, 1, 1, 2, 0, 2, 1, 1, 2, 1, 1, 2, 2, 2, 1, 1, 2, 1, 2, 2, 2, 1, 1, 2, 2, 2, 1, 2, 0, 1, 1, 2, 2, 1, 0, 2, 1, 2, 2, 0, 1, 2, 1, 2, 1, 1, 0, 1, 2, 2, 1, 2, 1, 0, 1, 2, 2, 2, 1, 2, 1, 0, 2, 1, 1, 2, 2, 1, 2, 2, 2, 2, 2, 2, 2, 0, 2, 0, 2, 0, 2, 0, 1, 1, 1, 2, 2, 2, 2, 1, 1, 1, 1, 2, 2, 2, 2, 1, 2, 2, 2, 2, 1, 2, 0, 1, 2, 0, 1, 0, 0, 1, 2, 1, 2, 2, 2, 0, 1, 1, 0, 1, 2, 1, 1, 2, 1, 0, 1, 2, 1, 1, 2, 0, 2, 0, 1, 0, 1, 0, 0, 0, 2, 2, 2, 1, 0, 1, 1, 2, 2, 2, 1, 1, 1, 0, 2, 1, 2, 2, 2, 1, 1, 2, 2, 2, 2, 1, 0, 1, 2, 2, 1, 2, 1, 2, 2, 2, 2, 1, 1, 2, 1, 1, 2, 1, 0, 2, 2, 2, 2, 2, 1, 0, 2, 1, 2, 0, 2, 2, 1, 2, 2, 2, 2, 2, 1, 1, 2, 2, 2, 2, 0, 2, 1, 2, 1, 1, 2, 2, 2, 1, 2, 1, 2, 1, 2, 2, 2, 2, 2, 0, 1, 2, 2, 2, 0, 2, 1, 2, 2, 2, 2, 1, 2, 0, 2, 0, 2, 2, 0, 1, 1, 2, 2, 0, 1, 2, 2, 2, 2, 2, 0, 2, 2, 0, 2, 1, 2, 2, 2, 2, 2, 1, 2, 2, 2, 2, 1, 2, 2, 1, 2, 2, 2, 2, 2, 2, 0, 0, 0, 2, 2, 1, 2, 2, 0, 1, 2, 2, 1, 1, 2, 2, 1, 1, 2, 1, 1, 0, 2, 1, 2, 2, 0, 0, 2, 0, 2, 1, 1, 2, 2, 1, 2, 1, 2, 2, 1, 1, 1, 1, 2, 1, 2, 2, 2, 1, 0, 0, 2, 2, 2, 1, 0, 1, 1, 2, 2, 2, 2, 2, 1, 2, 0, 2, 2, 1, 2, 2, 0, 2, 1, 1, 2, 1, 2, 0, 1, 2, 0, 2, 2, 2, 2, 2, 1, 2, 1, 2, 2, 0, 0, 1, 0, 2, 2, 1, 0, 2, 2, 0, 2, 2, 0, 2, 2, 2, 1, 2, 2, 2, 1, 2, 2, 2, 2, 2, 0, 2, 1, 2, 1, 1, 2, 2, 1, 0, 2, 2, 0, 2, 2, 2, 2, 2, 2, 2, 1, 1, 2, 2, 2, 0, 2, 1, 1, 1, 2, 1, 2, 2, 2, 2, 2, 1, 0, 0, 2, 2, 2, 1, 2, 2, 2, 2, 1, 2, 1, 0, 2, 1, 2, 2, 2, 1, 1, 2, 2, 1, 2, 2, 2, 1, 0, 2, 2, 1, 2, 2, 1, 2, 2, 2, 1, 1, 2, 0, 2, 2, 1, 2, 0, 2, 2, 1, 1, 2, 2, 0, 1, 2, 2, 2, 2, 2, 2, 0, 0, 1, 1, 2, 2, 2, 1, 2, 0, 2, 2, 2, 2, 2, 1, 2, 2, 2, 1, 2, 2, 2, 2, 2, 1, 2, 2, 0, 1, 2, 2, 1, 1, 1, 2, 1, 2, 0, 2, 2, 2, 2, 2, 0, 0, 1, 1, 0, 1, 2, 2, 0, 1, 2, 2, 1, 2, 0, 2, 1, 2, 2, 2, 2, 1, 1, 2, 1, 1, 1, 1, 2, 2, 2, 2, 1, 2, 1, 0, 2, 2, 1, 2, 2, 2, 2, 2, 2, 2, 2, 2, 2, 2, 1, 0, 2, 2, 1, 2, 2, 2, 2, 2, 2, 2, 2, 2, 2, 2, 0, 2, 2, 1, 2, 1, 0, 2, 2, 2, 1, 0, 2, 2, 2, 2, 0, 2, 0, 0, 2, 2, 2, 2, 2, 1, 2, 2, 1, 2, 2, 1, 2, 1, 2, 2, 1, 1, 1, 2, 1, 2, 0, 2, 1, 1, 2, 1, 2, 2, 2, 1, 1, 2, 1, 0, 1, 1, 2, 0, 1, 2, 1, 2, 2, 0, 2, 2, 2, 2, 1, 1, 0, 2, 1, 2, 1, 2, 2, 0, 1, 1, 2, 2, 2, 2, 1, 2, 2, 2, 1, 1, 1, 0, 2, 2, 2, 1, 2, 2, 2, 2, 2, 1, 2, 1, 2, 1, 1, 0, 2, 2, 2, 2, 1, 2, 2, 1, 2, 2, 1, 2, 1, 2, 1, 2, 2, 2, 2, 2, 1, 1, 1, 2, 2, 1, 2, 2, 2, 2, 2, 2, 2, 2, 2, 2, 2, 1, 1, 2, 2, 2, 2, 1, 2, 1, 1, 1, 0, 2, 2, 1, 1, 0, 2, 1, 2, 2, 2, 2, 1, 2, 2, 2, 1, 2, 2, 2, 1, 2, 2, 1, 1, 2, 2, 2, 0, 2, 2, 2, 2, 0, 2, 2, 2, 0, 2, 1, 2, 1, 0, 2, 2, 2, 2, 1, 1, 0, 1, 0, 2, 1, 2, 2, 2, 1, 2, 1, 2, 2, 1, 1, 2, 2, 0, 2, 2, 1, 1, 1, 1, 0, 0, 1, 2, 1, 1, 2, 2, 1, 2, 2, 1, 1, 2, 2, 2, 2, 2, 2, 0, 2, 2, 2, 2, 2, 1, 2, 2, 2, 1, 1, 1, 2, 1, 1, 2, 2, 1, 2, 2, 0, 2, 2, 1, 2, 2, 2, 1, 2, 2, 2, 2, 1, 2, 1, 1, 2, 1, 1, 1, 2, 2, 2, 2, 1, 1, 0, 2, 1, 2, 2, 1, 2, 2, 1, 2, 2, 0, 1, 1, 0, 1, 2, 2, 2, 2, 2, 2, 1, 2, 2, 2, 1, 0, 1, 0, 2, 2, 2, 2, 2, 2, 2, 2, 0, 2, 2, 2, 2, 2, 2, 2, 1, 2, 2, 0, 1, 1, 1, 2, 2, 2, 2, 1, 1, 1, 0, 2, 0, 1, 2, 0, 2, 2, 2, 2, 2, 0, 2, 0, 0, 2, 2, 1, 2, 2, 0, 1, 2, 2, 2, 2, 2, 1, 2, 1, 2, 2, 1, 1, 2, 2, 2, 2, 1, 2, 0, 2, 2, 2, 1, 2, 1, 1, 1, 2, 2, 1, 2, 2, 2, 2, 2, 1, 2, 2, 1, 2, 2, 2, 0, 1, 1, 2, 1, 0, 1, 1, 2, 2, 2, 1, 1, 1, 2, 1, 2, 1, 2, 2, 0, 2, 1, 1, 0, 1, 2, 2, 1, 1, 2, 2, 2, 2, 0, 0, 2, 2, 0, 2, 2, 1, 1, 0, 2, 1, 1, 2, 1, 2, 2, 2, 0, 1, 0, 2, 2, 2, 1, 2, 0, 2, 2, 2, 2, 1, 2, 1, 2, 1, 1, 2, 2, 1, 2, 0, 1, 2, 1, 2, 0, 1, 2, 2, 2, 0, 2, 2, 2, 1, 2, 0, 1, 2, 2, 1, 2, 0, 2, 0, 2, 2, 1, 0, 2, 1, 0, 1, 1, 2, 1, 0, 1, 0, 2, 2, 2, 2, 2, 1, 0, 1, 0, 1, 0, 2, 2, 0, 2, 0, 2, 2, 0, 2, 0, 1, 1, 1, 0, 2, 2, 1, 2, 0, 2, 2, 2, 2, 0, 1, 2, 2, 2, 2, 2, 1, 2, 1, 1, 2, 2, 2, 2, 2, 2, 0, 1, 2, 1, 2, 2, 1, 2, 1, 0, 1, 1, 2, 1, 1, 0, 2, 0, 2, 0, 2, 2, 1, 2, 2, 1, 2, 1, 0, 2, 2, 2, 2, 2, 2, 2, 2, 1, 2, 2, 1, 2, 1, 2, 1, 1, 1, 2, 2, 2, 1, 2, 2, 2, 2, 2, 2, 0, 2, 2, 0, 2, 2, 2, 2, 2, 2, 1, 2, 0, 0, 2, 2, 2, 1, 2, 1, 0, 2, 2, 2, 0, 2, 1, 2, 1, 2, 2, 0, 0, 2, 1, 1, 2, 2, 2, 1, 1, 0, 2, 1, 2, 1, 1, 0, 2, 2, 0, 2, 1, 1, 0, 2, 2, 1, 2, 2, 2, 2, 1, 1, 0, 2, 2, 2, 2, 2, 2, 2, 2, 1, 0, 1, 2, 2, 2, 0, 2, 2, 2, 2, 2, 1, 2, 2, 1, 1, 1, 1, 1, 2, 2, 2, 2, 2, 1, 1, 1, 2, 0, 0, 2, 2, 0, 2, 2, 1, 0, 2, 1, 2, 2, 1, 1, 2, 1, 2, 1, 2, 0, 1, 2, 1, 0, 1, 2, 1, 1, 2, 1, 1, 1, 0, 2, 0, 2, 2, 0, 2, 2, 1, 2, 1, 1, 1, 1, 2, 2, 2, 2, 2, 2, 0, 2, 2, 2, 1, 0, 1, 0, 0, 2, 2, 2, 2, 2, 2, 0, 2, 2, 2, 1, 0, 2, 2, 2, 2, 1, 2, 2, 0, 1, 2, 2, 2, 1, 1, 2, 1, 2, 0, 2, 1, 2, 1, 1, 0, 2, 1, 1, 2, 2, 1, 0, 1, 2, 0, 0, 2, 2, 1, 1, 2, 2, 1, 1, 1, 1, 1, 2, 2, 2, 2, 2, 1, 2, 2, 2, 1, 2, 2, 1, 1, 1, 1, 2, 2, 1, 2, 2, 2, 2, 2, 2, 2, 2, 1, 2, 2, 2, 2, 0, 1, 2, 1, 2, 1, 2, 1, 1, 2, 2, 2, 2, 2, 2, 1, 2, 2, 0, 2, 2, 2, 1, 2, 2, 2, 2, 0, 2, 2, 2, 2, 2, 2, 0, 1, 2, 2, 2, 1, 2, 1, 1, 0, 2, 1, 2, 2, 1, 1, 2, 2, 2, 1, 1, 1, 1, 2, 1, 1, 2, 2, 0, 0, 1, 2, 2, 2, 2, 2, 2, 1, 1, 2, 2, 2, 1, 1, 2, 2, 1, 1, 1, 1, 1, 1, 2, 2, 2, 0, 2, 1, 2, 2, 2, 1, 2, 2, 2, 0, 0, 1, 2, 1, 2, 1, 2, 2, 2, 1, 1, 2, 2, 2, 2, 2, 2, 2, 2, 2, 2, 2, 1, 2, 1, 2, 1, 1, 1, 2, 2, 2, 0, 1, 2, 0, 2, 2, 2, 2, 2, 2, 2, 1, 1, 2, 2, 1, 2, 1, 0, 2, 1, 0, 2, 1, 2, 2, 2, 2, 2, 2, 0, 2, 2, 1, 1, 1, 2, 2, 1, 2, 2, 2, 1, 2, 0, 2, 2, 0, 2, 1, 2, 1, 2, 2, 2, 1, 2, 1, 2, 2, 1, 2, 1, 1, 0, 2, 2, 2, 1, 2, 2, 2, 2, 0, 2, 2, 1, 2, 2, 2, 0, 1, 2, 1, 1, 0, 2, 2, 2, 1, 2, 0, 0, 2, 2, 2, 2, 1, 2, 1, 2, 1, 2, 2, 1, 2, 2, 1, 1, 2, 2, 0, 0, 2, 2, 2, 2, 0, 1, 2, 2, 1, 2, 2, 1, 1, 2, 1, 1, 2, 2, 1, 0, 2, 2, 2, 2, 0, 2, 2, 1, 2, 2, 2, 2, 0, 2, 2, 1, 1, 2, 2, 2, 2, 2, 2, 2, 0, 1, 2, 2, 2, 2, 1, 2, 2, 1, 2, 0, 2, 2, 1, 2, 2, 1, 2, 2, 2, 1, 2, 0, 2, 2, 1, 2, 2, 2, 2, 1, 1, 2, 1, 2, 2, 0, 1, 0, 2, 0, 0, 2, 2, 2, 2, 0, 0, 1, 0, 1, 2, 2, 1, 1, 2, 1, 0, 1, 2, 2, 2, 2, 2, 1, 2, 1, 1, 2, 2, 0, 1, 1, 1, 2, 1, 2, 2, 1, 2, 2, 2, 1, 0, 2, 1, 2, 2, 2, 2, 2, 2, 2, 2, 1, 1, 0, 1, 2, 0, 2, 1, 1, 2, 2, 2, 2, 1, 1, 1, 2, 0, 0, 1, 1, 0, 1, 0, 2, 1, 1, 2, 2, 2, 2, 2, 0, 0, 2, 1, 1, 1, 0, 2, 1, 0, 2, 2, 1, 2, 2, 2, 2, 1, 1, 1, 0, 1, 2, 2, 1, 2, 2, 2, 2, 2, 2, 2, 2, 1, 1, 2, 1, 2, 1, 2, 2, 1, 1, 1, 2, 1, 2, 0, 2, 2, 2, 2, 2, 2, 1, 2, 2, 1, 2, 2, 2, 1, 2, 1, 2, 2, 0, 2, 1, 2, 2, 2, 1, 2, 2, 2, 0, 2, 0, 2, 2, 2, 2, 1, 1, 2, 1, 0, 2, 1, 2, 2, 1, 2, 2, 2, 2, 1, 2, 1, 1, 2, 2, 1, 2, 2, 1, 1, 2, 2, 2, 1, 0, 1, 1, 2, 2, 2, 0, 2, 1, 2, 2, 1, 1, 1, 2, 1, 0, 2, 2, 0, 1, 2, 1, 0, 2, 0, 2, 1, 1, 1, 2, 1, 2, 1, 1, 1, 1, 1, 1, 2, 2, 1, 1, 1, 2, 2, 1, 2, 1, 2, 2, 1, 2, 2, 0, 1, 2, 2, 1, 2, 2, 2, 2, 2, 1, 1, 1, 2, 1, 1, 1, 2, 2, 2, 0, 1, 2, 2, 2, 2, 1, 2, 1, 2, 2, 0, 2, 2, 2, 1, 0, 2, 2, 2, 2, 1, 2, 2, 2, 2, 2, 1, 0, 1, 1, 1, 1, 0, 1, 2, 2, 1, 0, 1, 2, 1, 1, 1, 2, 2, 2, 2, 2, 2, 2, 2, 1, 2, 2, 1, 2, 1, 0, 0, 2, 2, 2, 1, 2, 2, 2, 1, 0, 2, 0, 2, 0, 2, 2, 1, 2, 2, 2, 2, 1, 0, 2, 1, 2, 2, 2, 2, 2, 2, 2, 2, 2, 1, 1, 0, 2, 0, 1, 2, 2, 2, 1, 1, 2, 1, 2, 2, 2, 2, 0, 0, 2, 2, 2, 1, 2, 2, 2, 1, 2, 2, 2, 1, 2, 1, 2, 2, 0, 1, 2, 1, 1, 2, 1, 2, 2, 2, 0, 1, 2, 0, 1, 2, 2, 1, 1, 2, 2, 2, 2, 0, 2, 0, 1, 2, 2, 2, 2, 2, 2, 0, 2, 1, 2, 2, 2, 2, 1, 2, 0, 2, 2, 1, 0, 1, 0, 2, 2, 2, 2, 0, 1, 2, 2, 1, 2, 1, 2, 2, 2, 2, 2, 1, 2, 2, 2, 1, 0, 2, 0, 2, 2, 1, 1, 2, 2, 1, 2, 1, 1, 0, 0, 2, 2, 1, 2, 1, 2, 2, 2, 1, 1, 1, 2, 2, 2, 0, 0, 1, 1, 2, 2, 2, 2, 2, 2, 2, 2, 1, 1, 1, 1, 2, 0, 2, 1, 2, 2, 2, 2, 2, 2, 1, 2, 2, 2, 0, 1, 2, 1, 2, 1, 0, 2, 2, 1, 2, 2, 2, 2, 2, 2, 1, 2, 2, 2, 2, 0, 1, 0, 2, 2, 2, 1, 1, 2, 2, 1, 1, 2, 2, 1, 0, 2, 2, 0, 2, 1, 2, 1, 2, 1, 1, 2, 2, 2, 1, 2, 0, 1, 1, 2, 2, 2, 1, 2, 2, 1, 2, 2, 1, 2, 2, 0, 2, 0, 2, 2, 0, 2, 2, 1, 0, 0, 2, 2, 2, 1, 0, 2, 0, 2, 1, 2, 1, 2, 0, 2, 1, 1, 2, 1, 1, 1, 2, 2, 2, 1, 1, 2, 1, 1, 2, 0, 2, 2, 2, 2, 1, 1, 1, 2, 1, 0, 2, 2, 1, 2, 1, 0, 1, 0, 2, 2, 2, 2, 0, 1, 1, 2, 2, 2, 1, 2, 1, 1, 2, 1, 1, 1, 2, 2, 2, 2, 2, 1, 1, 2, 2, 1, 2, 1, 1, 2, 2, 2, 1, 2, 2, 2, 0, 2, 0, 2, 1, 2, 2, 1, 2, 0, 1, 2, 1, 1, 2, 1, 1, 2, 1, 2, 2, 1, 2, 1, 2, 2, 2, 2, 1, 2, 1, 1, 0, 2, 0, 1, 2, 0, 1, 2, 2, 2, 2, 0, 2, 2, 2, 2, 2, 0, 1, 1, 1, 1, 2, 1, 2, 1, 0, 2, 0, 1, 2, 2, 2, 2, 2, 2, 1, 2, 2, 2, 0, 2, 2, 2, 2, 2, 2, 1, 2, 2, 1, 2, 2, 2, 1, 2, 0, 0, 2, 1, 1, 2, 0, 2, 0, 2, 1, 1, 2, 2, 2, 2, 2, 2, 2, 0, 1, 1, 2, 2, 2, 2, 2, 1, 2, 2, 1, 2, 1, 1, 2, 2, 1, 2, 1, 2, 1, 1, 2, 2, 2, 2, 1, 2, 2, 1, 2, 2, 1, 0, 2, 2, 2, 2, 2, 0, 2, 2, 2, 2, 2, 2, 2, 1, 2, 1, 0, 2, 2, 2, 0, 2, 2, 2, 2, 1, 1, 2, 0, 2, 2, 2, 2, 2, 1, 1, 2, 1, 0, 1, 1, 2, 2, 1, 2, 2, 0, 2, 2, 1, 2, 0, 2, 2, 1, 2, 2, 2, 2, 2, 2, 1, 2, 2, 1, 0, 0, 1, 2, 2, 1, 2, 2, 2, 0, 2, 1, 0, 2, 1, 2, 0, 0, 2, 2, 1, 1, 2, 1, 2, 2, 1, 1, 1, 2, 1, 1, 2, 1, 0, 2, 2, 2, 2, 0, 1, 2, 2, 2, 0, 1, 2, 2, 2, 1, 1, 1, 2, 1, 2, 2, 1, 1, 2, 1, 0, 2, 2, 0, 1, 2, 2, 1, 2, 2, 2, 1, 1, 1, 2, 2, 0, 2, 2, 2, 1, 1, 1, 1, 2, 2, 2, 2, 1, 2, 2, 1, 2, 2, 2, 1, 1, 1, 1, 1, 2, 2, 1, 2, 1, 2, 2, 0, 2, 1, 1, 2, 0, 0, 2, 1, 2, 2, 2, 0, 1, 2, 1, 2, 1, 0, 2, 2, 0, 1, 2, 1, 2, 2, 0, 0, 2, 2, 2, 1, 1, 0, 2, 2, 2, 2, 2, 1, 2, 1, 2, 2, 2, 1, 1, 2, 2, 1, 2, 2, 1, 0, 0, 2, 2, 2, 2, 2, 1, 2, 2, 2, 1, 2, 2, 2, 1, 0, 2, 2, 1, 1, 1, 1, 1, 0, 0, 2, 2, 0, 1, 2, 2, 2, 2, 1, 0, 1, 2, 2, 1, 1, 0, 2, 2, 2, 2, 2, 1, 0, 2, 1, 1, 1, 2, 1, 2, 2, 1, 1, 1, 1, 1, 2, 2, 0, 1, 0, 2, 0, 2, 2, 2, 2, 2, 2, 2, 1, 1, 2, 2, 1, 2, 2, 1, 2, 2, 1, 1, 2, 0, 1, 2, 2, 1, 2, 2, 2, 2, 1, 0, 2, 1, 2, 2, 2, 1, 1, 2, 2, 2, 2, 0, 0, 2, 1, 2, 2, 2, 1, 1, 2, 1, 2, 1, 2, 2, 2, 2, 2, 0, 2, 2, 1, 2, 2, 2, 2, 2, 1, 2, 1, 2, 1, 0, 0, 2, 2, 2, 2, 2, 2, 2, 2, 2, 2, 0, 2, 2, 1, 1, 1, 1, 0, 1, 2, 1, 2, 2, 0, 2, 2, 2, 2, 1, 2, 2, 2, 2, 1, 2, 2, 1, 2, 2, 2, 1, 1, 2, 1, 1, 1, 2, 2, 2, 2, 1, 2, 1, 2, 1, 2, 2, 1, 0, 2, 2, 2, 2, 2, 2, 2, 0, 2, 2, 1, 2, 2, 2, 2, 2, 1, 0, 2, 2, 2, 1, 0, 2, 2, 2, 1, 2, 2, 2, 1, 2, 2, 0, 1, 2, 0, 2, 2, 1, 2, 2, 1, 1, 1, 2, 2, 1, 1, 2, 2, 2, 2, 2, 2, 2, 1, 1, 1, 1, 1, 2, 2, 2, 2, 1, 0, 0, 1, 2, 2, 2, 2, 2, 2, 2, 2, 2, 2, 1, 0, 1, 2, 2, 1, 2, 0, 2, 0, 2, 2, 2, 1, 2, 2, 2, 2, 1, 2, 2, 1, 1, 2, 1, 2, 2, 2, 2, 2, 0, 1, 2, 1, 2, 2, 2, 1, 0, 1, 1, 2, 2, 2, 0, 2, 1, 2, 2, 1, 2, 2, 2, 2, 1, 2, 1, 2, 2, 1, 2, 0, 1, 1, 2, 0, 2, 2, 1, 2, 1, 2, 2, 2, 2, 0, 0, 1, 2, 2, 1, 2, 1, 2, 2, 1, 2, 2, 2, 1, 2, 1, 2, 1, 1, 2, 1, 2, 1, 1, 2, 1, 2, 1, 0, 2, 2, 1, 2, 2, 1, 2, 2, 2, 2, 1, 0, 1, 2, 2, 2, 1, 2, 2, 2, 1, 0, 1, 1, 1, 2, 1, 2, 2, 2, 2, 0, 1, 2, 2, 0, 0, 2, 2, 2, 2, 1, 2, 1, 2, 1, 2, 2, 2, 2, 2, 1, 1, 0, 1, 1, 1, 2, 2, 2, 2, 0, 2, 2, 0, 2, 0, 0, 0, 1, 2, 1, 0, 2, 2, 2, 2, 2, 2, 2, 2, 2, 2, 1, 0, 2, 1, 1, 1, 1, 0, 1, 2, 2, 0, 0, 2, 2, 2, 2, 1, 2, 2, 1, 2, 1, 2, 2, 2, 0, 1, 2, 2, 2, 2, 2, 0, 1, 1, 2, 2, 1, 2, 2, 1, 2, 2, 0, 2, 2, 0, 1, 1, 1, 1, 0, 2, 2, 2, 2, 2, 1, 2, 2, 1, 2, 0, 2, 1, 2, 1, 2, 2, 1, 2, 1, 1, 1, 2, 2, 0, 1, 2, 2, 2, 2, 0, 2, 0, 2, 1, 2, 1, 2, 2, 0, 2, 2, 0, 2, 2, 2, 2, 2, 2, 2, 1, 2, 2, 2, 2, 2, 1, 1, 2, 2, 1, 2, 2, 0, 2, 1, 1, 1, 2, 1, 1, 1, 1, 2, 2, 2, 2, 1, 2, 2, 2, 2, 2, 0, 1, 2, 2, 2, 1, 2, 2, 2, 0, 1, 1, 1, 0, 2, 2, 2, 1, 2, 2, 1, 1, 2, 1, 1, 0, 1, 1, 2, 2, 2, 2, 0, 0, 2, 2, 1, 1, 2, 2, 2, 1, 2, 2, 2, 0, 2, 2, 1, 2, 0, 1, 2, 0, 2, 2, 0, 2, 2, 1, 1, 1, 2, 1, 1, 1, 1, 2, 2, 0, 2, 2, 2, 2, 2, 2, 2, 2, 1, 1, 1, 1, 0, 2, 1, 0, 2, 0, 2, 2, 2, 0, 1, 0, 1, 2, 1, 1, 1, 1, 1, 0, 1, 2, 1, 1, 2, 1, 1, 2, 2, 2, 0, 2, 2, 2, 2, 0, 1, 2, 0, 2, 2, 2, 2, 1, 2, 2, 1, 2, 2, 1, 2, 1, 1, 2, 2, 2, 2, 0, 2, 1, 2, 1, 0, 0, 2, 2, 2, 2, 2, 2, 2, 1, 1, 1, 2, 2, 2, 2, 2, 1, 1, 2, 2, 2, 2, 0, 1, 2, 0, 2, 2, 1, 2, 1, 2, 0, 2, 1, 2, 2, 2, 1, 1, 1, 1, 2, 2, 1, 2, 2, 2, 1, 0, 2, 1, 2, 2, 2, 2, 1, 2, 2, 2, 2, 2, 2, 1, 2, 2, 0, 2, 2, 1, 1, 2, 2, 2, 1, 2, 1, 2, 1, 1, 2, 1, 2, 1, 1, 2, 0, 1, 2, 2, 2, 2, 2, 1, 1, 2, 2, 2, 1, 2, 2, 0, 1, 1, 1, 2, 1, 2, 2, 2, 2, 0, 2, 2, 1, 2, 2, 2, 0, 2, 2, 2, 2, 2, 1, 2, 2, 2, 1, 2, 2, 2, 1, 2, 2, 2, 2, 1, 2, 2, 2, 1, 1, 2, 2, 0, 2, 2, 2, 2, 2, 2, 0, 2, 2, 2, 2, 2, 1, 0, 2, 1, 2, 1, 2, 1, 2, 2, 2, 0, 2, 2, 2, 2, 2, 2, 2, 2, 1, 1, 2, 2, 0, 2, 2, 2, 0, 1, 2, 1, 2, 0, 1, 2, 2, 2, 2, 1, 0, 1, 2, 2, 0, 1, 2, 1, 2, 2, 2, 0, 1, 2, 1, 2, 1, 2, 2, 0, 2, 1, 1, 1, 1, 2, 2, 2, 2, 0, 0, 0, 2, 2, 0, 0, 0, 2, 1, 0, 2, 2, 1, 2, 2, 2, 0, 0, 2, 1, 1, 2, 1, 2, 2, 2, 0, 1, 2, 2, 2, 0, 1, 1, 1, 2, 1, 1, 2, 1, 1, 0, 2, 2, 2, 2, 1, 2, 2, 2, 2, 1, 1, 2, 0, 2, 2, 1, 2, 2, 0, 1, 1, 2, 2, 1, 2, 0, 2, 1, 1, 1, 2, 1, 2, 2, 2, 1, 2, 0, 0, 1, 2, 1, 0, 0, 1, 1, 2, 2, 1, 2, 1, 1, 1, 2, 2, 2, 2, 0, 1, 2, 2, 1, 1, 2, 2, 2, 2, 0, 2, 2, 1, 1, 1, 2, 2, 2, 2, 1, 1, 2, 2, 2, 0, 2, 1, 2, 1, 1, 2, 1, 2, 2, 2, 2, 2, 2, 2, 2, 2, 1, 2, 2, 1, 2, 1, 1, 2, 2, 2, 2, 2, 2, 2, 1, 1, 1, 1, 1, 1, 0, 2, 2, 1, 1, 1, 0, 2, 2, 2, 1, 2, 1, 2, 1, 2, 0, 2, 2, 0, 2, 2, 1, 2, 2, 0, 2, 2, 2, 2, 2, 2, 2, 0, 1, 2, 2, 2, 2, 1, 2, 0, 2, 2, 2, 1, 0, 2, 2, 2, 2, 2, 2, 2, 2, 0, 2, 2, 2, 1, 2, 1, 2, 2, 0, 1, 1, 2, 1, 2, 2, 2, 2, 2, 2, 1, 2, 2, 2, 2, 0, 1, 0, 2, 2, 0, 1, 2, 0, 2, 1, 2, 1, 1, 2, 1, 1, 0, 1, 2, 1, 1, 2, 2, 2, 0, 2, 1, 1, 2, 2, 2, 1, 2, 2, 2, 2, 1, 1, 2, 2, 2, 1, 2, 2, 2, 2, 2, 1, 2, 2, 2, 2, 2, 0, 2, 1, 2, 2, 2, 0, 1, 2, 2, 2, 2, 2, 2, 0, 2, 1, 0, 2, 0, 2, 1, 1, 2, 1, 2, 2, 1, 2, 1, 2, 1, 0, 2, 2, 2, 2, 2, 1, 2, 2, 2, 2, 1, 1, 2, 2, 0, 1, 0, 2, 2, 2, 2, 1, 2, 1, 1, 1, 2, 2, 1, 0, 2, 2, 2, 2, 1, 2, 0, 2, 1, 2, 2, 1, 2, 2, 2, 1, 2, 2, 2, 1, 2, 1, 2, 1, 2, 2, 2, 2, 1, 2, 1, 1, 2, 2, 2, 0, 2, 2, 2, 1, 1, 0, 1, 1, 0, 1, 1, 0, 0, 2, 1, 2, 0, 2, 1, 1, 2, 2, 2, 2, 0, 0, 1, 2, 1, 2, 2, 2, 0, 1, 1, 1, 2, 2, 2, 2, 2, 2, 2, 2, 2, 2, 2, 2, 1, 2, 0, 2, 2, 2, 2, 1, 2, 1, 0, 1, 2, 2, 1, 2, 2, 2, 2, 1, 2, 1, 1, 2, 2, 2, 2, 2, 1, 1, 1, 1, 1, 2, 1, 2, 2, 1, 1, 2, 1, 1, 2, 2, 0, 1, 2, 2, 2, 1, 2, 1, 2, 2, 1, 1, 1, 1, 2, 2, 2, 2, 2, 2, 2, 1, 2, 2, 2, 1, 1, 2, 1, 2, 2, 2, 2, 2, 2, 2, 2, 1, 2, 2, 2, 2, 1, 1, 1, 2, 2, 2, 1, 2, 2, 2, 0, 1, 1, 1, 2, 1, 2, 1, 2, 1, 1, 2, 0, 2, 0, 2, 1, 2, 2, 0, 1, 1, 2, 2, 2, 1, 0, 2, 2, 0, 1, 1, 1, 0, 0, 2, 2, 2, 2, 2, 1, 2, 2, 1, 1, 2, 0, 1, 2, 1, 2, 1, 2, 2, 2, 2, 2, 1, 2, 0, 2, 1, 0, 2, 1, 2, 2, 1, 2, 2, 1, 2, 2, 1, 2, 2, 1, 2, 1, 2, 1, 1, 0, 2, 2, 2, 2, 2, 1, 2, 2, 1, 2, 2, 2, 0, 2, 2, 1, 1, 1, 1, 2, 1, 2, 2, 1, 2, 1, 0, 2, 1, 0, 1, 2, 1, 1, 2, 2, 0, 1, 1, 1, 2, 2, 1, 0, 2, 2, 2, 2, 2, 2, 2, 2, 1, 2, 2, 2, 1, 2, 1, 2, 2, 2, 2, 1, 1, 2, 2, 2, 0, 1, 2, 0, 2, 1, 2, 1, 1, 1, 2, 2, 1, 2, 2, 2, 2, 1, 0, 0, 2, 0, 2, 1, 2, 0, 2, 1, 2, 2, 1, 1, 2, 0, 2, 2, 2, 1, 2, 2, 2, 2, 2, 2, 0, 2, 1, 0, 1, 1, 1, 2, 0, 2, 2, 0, 2, 2, 1, 2, 0, 2, 2, 2, 2, 2, 2, 1, 1, 2, 0, 0, 1, 2, 2, 1, 0, 2, 2, 2, 2, 2, 1, 1, 2, 2, 1, 2, 2, 1, 1, 1, 0, 2, 2, 2, 2, 2, 2, 0, 2, 2, 2, 1, 2, 2, 1, 2, 2, 1, 2, 1, 2, 0, 0, 1, 2, 2, 0, 2, 1, 2, 2, 2, 0, 2, 2, 1, 1, 2, 2, 2, 1, 1, 2, 2, 1, 2, 2, 1, 2, 1, 2, 0, 2, 2, 0, 2, 2, 0, 0, 2, 1, 2, 2, 0, 1, 2, 0, 1, 1, 2, 2, 1, 2, 0, 2, 2, 2, 1, 2, 1, 2, 2, 1, 0, 2, 2, 0, 2, 0, 1, 1, 1, 2, 1, 1, 2, 2, 1, 2, 0, 1, 2, 1, 1, 2, 1, 0, 0, 2, 2, 0, 2, 0, 1, 1, 2, 1, 2, 2, 2, 2, 2, 2, 2, 2, 1, 2, 2, 2, 2, 2, 1, 0, 2, 2, 2, 2, 2, 1, 2, 2, 2, 1, 2, 2, 0, 1, 2, 2, 1, 2, 0, 2, 0, 0, 2, 1, 2, 1, 1, 2, 2, 1, 1, 2, 2, 2, 2, 2, 2, 2, 2, 2, 1, 1, 2, 2, 2, 2, 0, 1, 2, 2, 1, 2, 2, 0, 2, 1, 2, 2, 2, 2, 2, 1, 2, 1, 1, 2, 0, 2, 2, 2, 2, 2, 2, 2, 1, 2, 2, 2, 2, 0, 1, 2, 2, 2, 2, 1, 2, 1, 1, 1, 2, 2, 2, 2, 2, 1, 1, 0, 2, 0, 1, 2, 2, 2, 2, 2, 2, 1, 2, 2, 2, 2, 2, 0, 1, 1, 2, 0, 2, 2, 2, 2, 2, 1, 2, 2, 0, 1, 0, 1, 0, 1, 2, 0, 1, 0, 2, 2, 2, 2, 2, 2, 1, 2, 1, 0, 1, 2, 1, 2, 1, 1, 2, 2, 2, 1, 2, 2, 1, 2, 2, 1, 2, 2, 2, 2, 1, 1, 1, 2, 2, 2, 1, 1, 2, 0, 1, 2, 1, 0, 2, 1, 1, 2, 1, 2, 2, 2, 2, 2, 1, 2, 2, 2, 0, 2, 0, 2, 2, 1, 0, 0, 2, 2, 2, 1, 0, 2, 2, 1, 0, 2, 0, 2, 0, 2, 2, 0, 2, 2, 2, 1, 2, 2, 2, 0, 0, 2, 1, 1, 1, 1, 0, 1, 1, 2, 0, 2, 1, 1, 2, 2, 2, 2, 2, 1, 2, 2, 0, 2, 2, 1, 2, 1, 2, 2, 1, 0, 2, 0, 2, 2, 2, 2, 1, 1, 1, 2, 2, 2, 1, 1, 0, 2, 2, 2, 2, 0, 2, 2, 0, 2, 1, 1, 1, 2, 0, 2, 2, 2, 2, 2, 2, 2, 1, 0, 1, 2, 1, 1, 2, 1, 2, 2, 1, 2, 2, 1, 2, 2, 1, 0, 1, 2, 1, 1, 2, 0, 2, 1, 2, 2, 0, 1, 2, 1, 1, 2, 1, 2, 0, 1, 0, 2, 2, 1, 0, 2, 2, 2, 1, 2, 2, 2, 2, 2, 2, 2, 2, 1, 2, 2, 0, 2, 1, 2, 2, 2, 2, 1, 2, 0, 1, 2, 1, 1, 2, 2, 2, 1, 2, 2, 2, 1, 0, 2, 2, 2, 2, 2, 0, 2, 2, 2, 1, 2, 2, 0, 1, 2, 1, 2, 1, 2, 2, 2, 0, 2, 2, 2, 2, 1, 2, 0, 2, 0, 1, 1, 0, 2, 2, 2, 2, 2, 0, 1, 2, 1, 1, 2, 1, 2, 2, 2, 2, 2, 2, 1, 1, 0, 2, 2, 1, 2, 1, 2, 2, 2, 0, 2, 2, 0, 2, 2, 0, 1, 0, 2, 2, 2, 1, 1, 1, 0, 2, 1, 2, 1, 2, 2, 1, 2, 2, 1, 1, 2, 1, 2, 0, 1, 0, 0, 2, 1, 0, 0, 1, 2, 0, 1, 1, 1, 2, 2, 2, 2, 1, 2, 2, 1, 1, 0, 2, 2, 1, 2, 2, 1, 2, 1, 0, 2, 2, 0, 2, 2, 2, 2, 0, 1, 1, 1, 1, 0, 2, 1, 2, 2, 0, 2, 2, 2, 1, 1, 2, 2, 1, 2, 0, 1, 2, 2, 2, 2, 1, 0, 1, 1, 1, 2, 1, 1, 2, 2, 1, 2, 2, 2, 1, 1, 1, 0, 1, 2, 2, 0, 0, 1, 0, 2, 2, 2, 2, 1, 1, 1, 1, 2, 0, 1, 2, 1, 0, 2, 0, 2, 2, 2, 1, 2, 1, 1, 1, 2, 1, 2, 2, 1, 1, 2, 2, 1, 2, 2, 1, 2, 1, 2, 2, 2, 0, 2, 2, 2, 2, 2, 1, 1, 0, 0, 2, 2, 1, 2, 0, 2, 1, 2, 1, 1, 2, 0, 1, 2, 1, 2, 2, 2, 0, 2, 0, 2, 1, 0, 0, 2, 1, 2, 1, 1, 2, 2, 2, 2, 2, 1, 2, 2, 2, 2, 1, 1, 1, 2, 1, 0, 0, 2, 1, 1, 2, 2, 1, 2, 2, 2, 2, 2, 1, 2, 2, 2, 2, 1, 2, 1, 2, 2, 1, 2, 0, 2, 2, 2, 2, 2, 0, 2, 2, 1, 2, 2, 1, 1, 2, 2, 2, 2, 2, 1, 1, 1, 2, 1, 1, 2, 2, 1, 0, 1, 2, 2, 1, 1, 0, 0, 0, 2, 1, 1, 1, 0, 1, 0, 0, 1, 2, 1, 2, 1, 1, 1, 1, 2, 2, 2, 2, 1, 1, 1, 1, 0, 1, 1, 2, 0, 2, 2, 2, 2, 1, 1, 1, 1, 2, 2, 2, 1, 1, 2, 2, 1, 2, 2, 2, 2, 2, 1, 0, 1, 2, 2, 2, 2, 2, 1, 1, 2, 2, 2, 2, 1, 2, 2, 2, 1, 2, 2, 2, 0, 2, 2, 1, 2, 1, 0, 2, 0, 1, 0, 1, 1, 1, 2, 2, 1, 0, 0, 1, 2, 1, 2, 2, 2, 0, 2, 0, 1, 1, 1, 2, 0, 2, 2, 2, 2, 2, 2, 2, 1, 0, 1, 2, 2, 1, 2, 1, 0, 0, 1, 2, 2, 1, 2, 2, 2, 1, 1, 2, 1, 1, 1, 1, 1, 2, 0, 2, 2, 2, 2, 2, 2, 2, 2, 1, 1, 2, 2, 2, 2, 2, 2, 2, 2, 2, 0, 0, 2, 2, 2, 2, 0, 2, 1, 1, 1, 2, 2, 2, 1, 2, 0, 2, 2, 1, 1, 2, 1, 2, 2, 2, 2, 2, 2, 1, 2, 2, 2, 1, 2, 1, 2, 1, 0, 1, 2, 2, 2, 1, 1, 1, 2, 0, 2, 2, 0, 2, 2, 2, 1, 0, 2, 2, 2, 2, 2, 2, 1, 1, 1, 2, 2, 2, 2, 0, 2, 0, 1, 2, 1, 0, 1, 1, 2, 2, 1, 1, 2, 2, 1, 2, 0, 1, 1, 2, 0, 0, 2, 2, 1, 1, 0, 1, 2, 0, 1, 2, 1, 2, 2, 0, 1, 2, 2, 2, 2, 2, 2, 2, 2, 2, 0, 1, 1, 2, 1, 0, 1, 2, 2, 1, 1, 2, 1, 2, 2, 1, 2, 0, 2, 1, 2, 2, 2, 0, 0, 1, 2, 2, 2, 2, 2, 0, 2, 2, 2, 1, 1, 2, 2, 2, 2, 2, 2, 2, 1, 2, 1, 1, 0, 2, 0, 2, 0, 2, 1, 0, 2, 2, 2, 0, 1, 2, 1, 2, 2, 2, 2, 2, 2, 0, 0, 2, 2, 2, 2, 1, 2, 1, 2, 0, 2, 2, 2, 0, 0, 2, 1, 2, 1, 2, 2, 2, 2, 2, 2, 2, 1, 1, 2, 0, 1, 2, 2, 2, 2, 2, 2, 1, 0, 2, 1, 1, 2, 2, 0, 0, 2, 2, 2, 2, 2, 2, 2, 1, 2, 1, 2, 2, 2, 2, 0, 2, 2, 1, 0, 1, 2, 2, 1, 1, 0, 2, 2, 2, 2, 1, 2, 2, 2, 1, 2, 2, 1, 1, 2, 2, 1, 0, 2, 1, 2, 0, 1, 1, 0, 2, 2, 1, 2, 1, 2, 2, 2, 1, 2, 2, 2, 0, 2, 2, 2, 1, 2, 2, 2, 1, 1, 2, 2, 0, 0, 2, 1, 0, 0, 2, 1, 2, 2, 1, 0, 0, 2, 1, 1, 2, 2, 1, 2, 0, 1, 2, 2, 1, 2, 2, 0, 0, 1, 0, 2, 2, 1, 1, 0, 2, 1, 1, 2, 2, 1, 2, 1, 1, 2, 2, 2, 1, 2, 2, 2, 2, 2, 1, 1, 2, 2, 2, 2, 1, 2, 1, 0, 2, 2, 2, 2, 1, 0, 2, 2, 1, 2, 2, 2, 2, 1, 2, 0, 0, 2, 2, 1, 2, 0, 1, 0, 2, 1, 0, 2, 2, 0, 1, 2, 2, 1, 0, 1, 0, 2, 0, 0, 1, 0, 2, 2, 2, 0, 2, 1, 1, 2, 0, 1, 2, 2, 0, 1, 1, 0, 2, 2, 1, 0, 2, 1, 2, 0, 1, 2, 1, 1, 2, 0, 2, 2, 2, 0, 2, 2, 2, 2, 2, 0, 2, 1, 2, 2, 1, 2, 1, 2, 2, 2, 1, 2, 0, 1, 2, 1, 1, 2, 2, 2, 0, 1, 2, 0, 0, 0, 2, 2, 2, 2, 2, 0, 0, 1, 1, 2, 2, 2, 2, 2, 0, 2, 1, 0, 2, 0, 0, 2, 2, 2, 1, 1, 2, 0, 2, 2, 2, 2, 0, 1, 1, 2, 2, 1, 1, 1, 2, 2, 1, 2, 2, 2, 2, 1, 2, 1, 1, 2, 1, 0, 2, 2, 0, 2, 2, 2, 2, 2, 0, 2, 1, 2, 0, 2, 1, 2, 1, 2, 1, 0, 2, 2, 2, 1, 2, 1, 2, 2, 0, 2, 2, 2, 2, 1, 1, 1, 2, 2, 2, 2, 1, 1, 2, 2, 2, 2, 2, 2, 1, 2, 0, 2, 2, 2, 1, 2, 2, 2, 2, 2, 2, 2, 2, 2, 2, 2, 2, 2, 0, 2, 2, 2, 2, 0, 2, 1, 2, 2, 2, 0, 1, 2, 2, 2, 2, 1, 2, 1, 2, 2, 1, 2, 2, 0, 2, 1, 2, 2, 1, 2, 2, 1, 2, 0, 1, 2, 1, 2, 2, 1, 2, 1, 2, 1, 1, 1, 2, 1, 1, 1, 2, 1, 2, 2, 1, 2, 2, 2, 1, 0, 1, 2, 2, 2, 2, 1, 2, 1, 1, 2, 2, 2, 2, 2, 2, 2, 1, 1, 1, 1, 2, 2, 2, 2, 2, 1, 1, 2, 2, 2, 1, 0, 2, 2, 2, 2, 1, 1, 2, 2, 1, 2, 2, 2, 0, 0, 2, 1, 0, 2, 0, 1, 1, 1, 2, 2, 2, 2, 2, 2, 2, 1, 0, 2, 2, 2, 2, 2, 2, 1, 1, 1, 1, 1, 1, 0, 2, 2, 2, 0, 1, 2, 2, 2, 0, 2, 0, 2, 1, 2, 2, 2, 2, 2, 2, 2, 2, 2, 1, 0, 0, 0, 2, 0, 2, 2, 1, 2, 2, 2, 2, 2, 2, 1, 2, 1, 2, 2, 2, 2, 2, 2, 2, 0, 2, 2, 1, 2, 2, 2, 2, 1, 2, 2, 2, 0, 2, 2, 2, 1, 2, 2, 2, 2, 2, 2, 2, 2, 2, 1, 2, 2, 2, 2, 1, 1, 2, 1, 2, 1, 2, 2, 2, 2, 1, 1, 2, 2, 2, 2, 2, 2, 2, 2, 1, 2, 2, 0, 1, 1, 1, 1, 0, 2, 2, 2, 0, 2, 2, 2, 2, 2, 1, 2, 2, 1, 1, 2, 1, 1, 2, 2, 2, 0, 1, 1, 0, 1, 2, 2, 1, 0, 2, 2, 2, 0, 0, 2, 2, 1, 1, 0, 2, 2, 1, 1, 2, 2, 2, 2, 0, 2, 1, 2, 1, 2, 1, 1, 1, 1, 1, 2, 2, 2, 1, 0, 1, 2, 2, 1, 1, 1, 2, 0, 2, 2, 1, 2, 0, 2, 2]\n"
          ]
        }
      ]
    },
    {
      "cell_type": "markdown",
      "source": [],
      "metadata": {
        "id": "DGR2P-lBXthU"
      }
    },
    {
      "cell_type": "code",
      "source": [
        "# Probar con los preprocesados\n",
        "\n",
        "num_epochs = 10\n",
        "\n",
        "input_size = 96\n",
        "hidden_size = 16\n",
        "num_classes = 3\n",
        "model = myNNBN(input_size, hidden_size, num_classes)\n",
        "\n",
        "criterion = nn.CrossEntropyLoss()\n",
        "optimizer = optim.Adam(model.parameters(), lr=0.001, weight_decay=1e-3)\n",
        "\n",
        "batch_size = 32\n",
        "train_dataloader = DataLoader(precomputed_train_data, batch_size, shuffle=True)\n",
        "\n",
        "training(num_epochs, train_dataloader, model, optimizer, criterion)"
      ],
      "metadata": {
        "colab": {
          "base_uri": "https://localhost:8080/"
        },
        "id": "vJAMMZcLWpIE",
        "outputId": "28cffee2-d4e6-43af-df30-5166f8871591"
      },
      "execution_count": null,
      "outputs": [
        {
          "output_type": "stream",
          "name": "stdout",
          "text": [
            "Epoch [1/10], Loss: 0.98, Accuracy: 51.94%\n",
            "Epoch [2/10], Loss: 0.83, Accuracy: 61.42%\n",
            "Epoch [3/10], Loss: 0.78, Accuracy: 64.36%\n",
            "Epoch [4/10], Loss: 0.75, Accuracy: 66.33%\n",
            "Epoch [5/10], Loss: 0.73, Accuracy: 67.44%\n",
            "Epoch [6/10], Loss: 0.72, Accuracy: 67.89%\n",
            "Epoch [7/10], Loss: 0.70, Accuracy: 69.02%\n",
            "Epoch [8/10], Loss: 0.69, Accuracy: 69.55%\n",
            "Epoch [9/10], Loss: 0.68, Accuracy: 69.98%\n",
            "Epoch [10/10], Loss: 0.68, Accuracy: 70.25%\n"
          ]
        },
        {
          "output_type": "execute_result",
          "data": {
            "text/plain": [
              "myNNBN(\n",
              "  (linear1): Linear(in_features=96, out_features=16, bias=True)\n",
              "  (bnorm1): BatchNorm1d(16, eps=1e-05, momentum=0.1, affine=True, track_running_stats=True)\n",
              "  (linear2): Linear(in_features=16, out_features=16, bias=True)\n",
              "  (bnorm2): BatchNorm1d(16, eps=1e-05, momentum=0.1, affine=True, track_running_stats=True)\n",
              "  (linear3): Linear(in_features=16, out_features=3, bias=True)\n",
              "  (relu): ReLU()\n",
              ")"
            ]
          },
          "metadata": {},
          "execution_count": 39
        }
      ]
    },
    {
      "cell_type": "markdown",
      "source": [
        "Con lr = 0.01, Adam y 10 epochs: accuracy de 49%\n",
        "\n",
        "Con lr = 0.001, Adam y 10 epochs: accuracy de 52.17%\n",
        "\n",
        "Con lr = 0.001, SGD con momentum y 10 epochs: accuracy de 52.45%\n",
        "\n",
        "Con lr = 0.001, SGD sin momentum y 10 epochs: 52.84%\n",
        "\n",
        "Con lr = 0.001, Adam con decaimiento de pesos = 1e-5 y 10 epochs: 60%\n",
        "\n",
        "Con lr = 0.001, Adam con decaimiento de pesos = 1e-3 y 10 epochs: 61.25%"
      ],
      "metadata": {
        "id": "YHytO_gjCLkD"
      }
    },
    {
      "cell_type": "code",
      "source": [
        "# Generar batches\n",
        "\n",
        "def generate_batches(x, y, batch_size):\n",
        "\n",
        "      num_batches = (x.shape[0] // batch_size) + 1\n",
        "      i = 0\n",
        "      batches_x = []\n",
        "      batches_y = []\n",
        "\n",
        "      for i in range(num_batches):\n",
        "        batch_x = x[i*batch_size : (i+1)*batch_size]\n",
        "        batch_y = y[i*batch_size : (i+1)*batch_size]\n",
        "\n",
        "        batches_x.append(batch_x)\n",
        "        batches_y.append(batch_y)\n",
        "\n",
        "      return batches_x, batches_y"
      ],
      "metadata": {
        "id": "IiSkv-R_0fhX"
      },
      "execution_count": null,
      "outputs": []
    },
    {
      "cell_type": "markdown",
      "source": [
        "IDEA DE MEZCLA DE EEG Y DATOS PREPROCESADOS: DOS RAMAS QUE SE UNEN"
      ],
      "metadata": {
        "id": "OjST17kCoghb"
      }
    },
    {
      "cell_type": "markdown",
      "source": [
        "Primero, cada dato se procesa por separado mediante una red neuronal, para después concatenar cada output y hacer otra NN de esos features"
      ],
      "metadata": {
        "id": "D-B0gIpdolzD"
      }
    },
    {
      "cell_type": "code",
      "source": [
        "import torch.nn as nn\n",
        "\n",
        "class RamasNN(nn.Module):\n",
        "  def __init__(self, input_size_EEG, input_size_P, hidden_size, num_classes):\n",
        "    super(myNNBN, self).__init__()\n",
        "\n",
        "    self.linear1_EEG = nn.Linear(input_size_EEG, hidden_size) #rama 1\n",
        "    self.linear2_EEG = nn.Linear(hidden_size, hidden_size)    #rama 1\n",
        "    self.linear1_P = nn.Linear(input_size_P, hidden_size)     #rama 2\n",
        "    self.linear2_P = nn.Linear(hidden_size, hidden_size)      #rama 2\n",
        "\n",
        "    self.linear1 = nn.Linear(hidden_size * 2, hidden_size)\n",
        "    self.linear2 = nn.Linear(hidden_size, num_classes)\n",
        "\n",
        "    self.relu = nn.ReLU()\n",
        "    self.bnorm = nn.BatchNorm1d(hidden_size)\n",
        "\n",
        "    self.init_weights()\n",
        "\n",
        "  def init_weights(self):\n",
        "    nn.init.kaiming_uniform_(self.linear1_EEG.weight)\n",
        "    nn.init.kaiming_uniform_(self.linear2_EEG.weight)\n",
        "    nn.init.kaiming_uniform_(self.linear1_P.weight)\n",
        "    nn.init.kaiming_uniform_(self.linear2_P.weight)\n",
        "    nn.init.kaiming_uniform_(self.linear1.weight)\n",
        "    nn.init.kaiming_uniform_(self.linear2.weight)\n",
        "\n",
        "  def forward(self, x_EEG, x_P):\n",
        "    x_EEG = self.linear1_EEG(x_EEG)\n",
        "    x_EEG = self.bnorm(x_EEG)\n",
        "    x_EEG = self.relu(x_EEG)\n",
        "\n",
        "    x_EEG = self.linear2_EEG(x_EEG)\n",
        "    x_EEG = self.bnorm(x_EEG)\n",
        "    x_EEG = self.relu(x_EEG)\n",
        "\n",
        "    x_P = self.linear2_P(x_P)\n",
        "    x_P = self.bnorm(x_P)\n",
        "    x_P = self.relu(x_P)\n",
        "\n",
        "    x_P = self.linear2_P(x_P)\n",
        "    x_P = self.bnorm(x_P)\n",
        "    x_P = self.relu(x_P)\n",
        "\n",
        "    x = torch.concat((x_EEG, x_P), dim = 1)\n",
        "\n",
        "    x = self.linear1(x)\n",
        "    x = self.bnorm(x)\n",
        "    x = self.relu(x)\n",
        "\n",
        "    x = self.linear2(x)\n",
        "\n",
        "    return x"
      ],
      "metadata": {
        "id": "X78k3BKJovZy"
      },
      "execution_count": null,
      "outputs": []
    },
    {
      "cell_type": "markdown",
      "source": [],
      "metadata": {
        "id": "NevXpT80CIc6"
      }
    },
    {
      "cell_type": "code",
      "source": [
        "import torch.optim as optim\n",
        "from torch.utils.data import DataLoader\n",
        "\n",
        "train_data_EEG = MyDataset(features=X_EEG, labels=Y_EEG)\n",
        "train_data_P = MyDataset(features=X_P, labels=Y_P)\n",
        "\n",
        "train_dataloader_EEG = DataLoader(train_data_EEG, batch_size, shuffle=True)\n",
        "train_dataloader_P = DataLoader(train_data_P, batch_size, shuffle=True)\n",
        "\n",
        "batch_size = 32\n",
        "\n",
        "input_size_EEG = train_data_EEG.__len_features__() * 32 #32 muestras del EEG son una del P\n",
        "input_size_P = train_data_P.__len_features__()\n",
        "hidden_size = 128\n",
        "num_classes = 3\n",
        "\n",
        "model = RamasNN(input_size_EEG, input_size_P, hidden_size, num_classes)\n",
        "\n",
        "criterion = nn.CrossEntropyLoss()\n",
        "optimizer = optim.Adam(model.parameters(), lr=0.001, weight_decay=1e-3)"
      ],
      "metadata": {
        "id": "V6-iZJ1Rsro0"
      },
      "execution_count": null,
      "outputs": []
    },
    {
      "cell_type": "code",
      "source": [
        "num_epochs = 10\n",
        "\n",
        "label_mapping = {2: 0, 3: 1, 7: 2} #We prefer to deal with 0,1,2 classes\n",
        "\n",
        "train_dataloader_P = iter(train_dataloader_P)\n",
        "\n",
        "for epoch in range(num_epochs):\n",
        "  total_correct = 0\n",
        "  total_samples = 0\n",
        "  total_loss = 0\n",
        "\n",
        "  for batch_P in train_dataloader_P:\n",
        "\n",
        "    inputs_P = []\n",
        "\n",
        "    for i in range(32): #cogemos los 32\n",
        "      inputs_P.append(next(train_dataloader_P))\n",
        "\n",
        "    inputs_EEG = batch_EEG['feature']\n",
        "    labels_EEG = batch_EEG['label']\n",
        "\n",
        "    mapped_labels = [label_mapping[label.item()] for label in labels]\n",
        "    mapped_labels = torch.tensor(mapped_labels, dtype=torch.long)\n",
        "\n",
        "    inputs = inputs.float()\n",
        "\n",
        "    outputs = model(inputs)\n",
        "\n",
        "    loss = criterion(outputs, mapped_labels)\n",
        "\n",
        "    optimizer.zero_grad()\n",
        "    loss.backward()\n",
        "    optimizer.step()\n",
        "\n",
        "    val, predicted = torch.max(outputs.data, 1)\n",
        "    total_samples += labels.size(0) # Para coger cuantos labels había\n",
        "    total_correct += (predicted == mapped_labels).sum().item() # Para ver cuantos han sido igual\n",
        "\n",
        "    total_loss += loss.item()\n",
        "\n",
        "  print(f'Epoch [{epoch+1}/{num_epochs}], Loss: {total_loss/len(train_dataloader):.2f}, Accuracy: {total_correct/total_samples:.2%}')"
      ],
      "metadata": {
        "id": "1V3jAI-xyQUq"
      },
      "execution_count": null,
      "outputs": []
    }
  ]
}